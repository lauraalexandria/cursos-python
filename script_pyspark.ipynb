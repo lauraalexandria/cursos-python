{
 "cells": [
  {
   "cell_type": "markdown",
   "metadata": {
    "id": "KccqfD8ujL3K"
   },
   "source": [
    "# Começando o Trabalho\n",
    "---"
   ]
  },
  {
   "cell_type": "markdown",
   "metadata": {
    "id": "CyAh7l9hGlHq"
   },
   "source": [
    "## Apache Spark - Introdução"
   ]
  },
  {
   "cell_type": "markdown",
   "metadata": {
    "id": "Dy3ApfOoGlHt"
   },
   "source": [
    "### [Apache Spark](https://spark.apache.org/)\n",
    "\n",
    "Apache Spark é uma plataforma de computação em *cluster* que fornece uma API para programação distribuída para processamento de dados em larga escala, semelhante ao modelo *MapReduce*, mas projetada para ser rápida para consultas interativas e algoritmos iterativos.\n",
    "\n",
    "O Spark permite que você distribua dados e tarefas em clusters com vários nós. Imagine cada nó como um computador separado. A divisão dos dados torna mais fácil o trabalho com conjuntos de dados muito grandes porque cada nó funciona processa apenas uma parte parte do volume total de dados.\n",
    "\n",
    "O Spark é amplamente utilizado em projetos analíticos nas seguintes frentes:\n",
    "\n",
    "- Preparação de dados\n",
    "- Modelos de machine learning\n",
    "- Análise de dados em tempo real"
   ]
  },
  {
   "cell_type": "markdown",
   "metadata": {
    "id": "Rc3Adto4jWDj"
   },
   "source": [
    "### [PySpark](https://spark.apache.org/docs/latest/api/python/index.html)\n",
    "\n",
    "PySpark é uma interface para Apache Spark em Python. Ele não apenas permite que você escreva aplicativos Spark usando APIs Python, mas também fornece o *shell* PySpark para analisar interativamente seus dados em um ambiente distribuído. O PySpark oferece suporte à maioria dos recursos do Spark, como Spark SQL, DataFrame, Streaming, MLlib (Machine Learning) e Spark Core.\n",
    "\n",
    "<center><img src=\"https://caelum-online-public.s3.amazonaws.com/2273-introducao-spark/01/img-001.png\"/></center>\n",
    "\n",
    "#### Spark SQL e DataFrame\n",
    "\n",
    "Spark SQL é um módulo Spark para processamento de dados estruturados. Ele fornece uma abstração de programação chamada DataFrame e também pode atuar como mecanismo de consulta SQL distribuído.\n",
    "\n",
    "#### Spark Streaming\n",
    "\n",
    "Executando em cima do Spark, o recurso de *streaming* no Apache Spark possibilita o uso de poderosas aplicações interativas e analíticas em *streaming* e dados históricos, enquanto herda a facilidade de uso do Spark e as características de tolerância a falhas.\n",
    "\n",
    "#### Spark MLlib\n",
    "\n",
    "Construído sobre o Spark, MLlib é uma biblioteca de aprendizado de máquina escalonável que fornece um conjunto uniforme de APIs de alto nível que ajudam os usuários a criar e ajustar *pipelines* de aprendizado de máquina práticos.\n",
    "\n",
    "#### Spark Core\n",
    "\n",
    "Spark Core é o mecanismo de execução geral subjacente para a plataforma Spark sobre o qual todas as outras funcionalidades são construídas. Ele fornece um RDD (*Resilient Distributed Dataset*) e recursos de computação na memória."
   ]
  },
  {
   "cell_type": "markdown",
   "metadata": {
    "id": "uh-9oWn7GlHw"
   },
   "source": [
    "## Utilizando o Spark no Windows\n",
    "\n",
    "[fonte](https://spark.apache.org/docs/latest/api/python/getting_started/install.html)\n",
    "\n",
    "#### Passo 1 - Instalando o Java\n",
    "\n",
    "O PySpark requer a instalação do Java na versão 7 ou superior. Obtenha a versão mais recente clicando [aqui](https://www.java.com/pt-BR/download/). Para verificar a versão que está instalada em sua máquina execute a seguinte linha de código no seu *prompt*:\n",
    "\n",
    "```\n",
    "java -version\n",
    "```\n",
    "\n",
    "#### Passo 2 - Instalando o Python\n",
    "\n",
    "O Python deve ser instalado em sua versão 2.6 ou superior. Para obter a versão mais recente clique [aqui](https://www.python.org/downloads/windows/). Para verificar a versão do Python que está instalada em sua máquina digite o seguinte comando em seu *prompt*:\n",
    "\n",
    "```\n",
    "python --version\n",
    "```\n",
    "\n",
    "#### Passo 3 - Instalando o Apache Spark \n",
    "\n",
    "Selecione a versão mais estável clicando [aqui](http://spark.apache.org/downloads.html). Na criação deste projeto utilizamos a versão do Spark **3.1.2** e como tipo de pacote selecionamos **Pre-built for Apache Hadoop 2.7**.\n",
    "\n",
    "Para instalar o Apache Spark não é necessário executar um instalador, basta descomprimir os arquivos em uma pasta de sua escolha.\n",
    "\n",
    "<font color=red>Obs.: certifique-se de que o caminho onde os arquivos do Spark foram armazenados não contenham espaços (ex.: **\"C:\\spark\\spark-3.1.2-bin-hadoop2.7\"**).</font>\n",
    "\n",
    "Para testar o funcionamento do Spark execute os comandos abaixo em seu *prompt* de comando. Esses comandos assumem que você extraiu os arquivos do Spark na pasta **\"C:\\spark\\\"**.\n",
    "\n",
    "```\n",
    "cd C:\\spark\\spark-3.1.2-bin-hadoop2.7\n",
    "```\n",
    "\n",
    "```\n",
    "bin\\pyspark\n",
    "```\n",
    "\n",
    "O comando acima inicia o *shell* do PySpark que permite trabalhar interativamente com o Spark.\n",
    "\n",
    "Para sair basta digitar `exit()` e logo depois presionar *Enter*. Para voltar ao *prompt* pressione *Enter* novamente.\n",
    "\n",
    "#### Passo 4 - Instalando o findspark\n",
    "\n",
    "```\n",
    "pip install findspark\n",
    "```\n",
    "\n",
    "#### Passo 5 - Instalando o winutils\n",
    "\n",
    "Os arquivos do Spark não incluem o utilitário **winutils.exe** que é utilizado pelo Spark no Windows. Se não informar onde o Spark deve procurar este utilitário, veremos alguns erros no console e também não conseguiremos executar *scripts* Python utilizando o utilitário `spark-submit`.\n",
    "\n",
    "Faça o [download](https://github.com/steveloughran/winutils) para a versão do Hadoop para a qual sua instalação do Spark foi construída. Em nosso exemplo foi utilizada a [versão 2.7](https://github.com/steveloughran/winutils/tree/master/hadoop-2.7.1/bin). Faça o *download* apenas do arquivo **winutils.exe**.\n",
    "\n",
    "Crie a pasta **\"hadoop\\bin\"** dentro da pasta que contém os arquivos do Spark (em nosso exemplo **\"C:\\spark\\spark-3.1.2-bin-hadoop2.7\"**) e copie o arquivo **winutils.exe** para dentro desta pasta.\n",
    "\n",
    "Crie duas variáveis de ambiente no seu Windows. A primeira chamada **SPARK_HOME** que aponta para a pasta onde os arquivos Spark foram armazenados (em nosso exemplo **\"C:\\spark\\spark-3.1.2-bin-hadoop2.7\"**). A segunda chamada **HADOOP_HOME** que aponta para **%SPARK_HOME%\\hadoop** (assim podemos modificar **SPARK_HOME** sem precisar alterar **HADOOP_HOME**)."
   ]
  },
  {
   "cell_type": "markdown",
   "metadata": {
    "id": "A_pds0odi1Rj"
   },
   "source": [
    "## Utilizando o Spark no Google Colab\n",
    "\n",
    "Para facilitar o desenvolvimento de nosso projeto neste curso vamos utilizar o Google Colab como ferramenta e para configurar o PySpark basta executar os comandos abaixo na própria célula do seu *notebook*."
   ]
  },
  {
   "cell_type": "code",
   "execution_count": null,
   "metadata": {
    "id": "JmcO4uWZ3OLO"
   },
   "outputs": [],
   "source": [
    "# instalar as dependências\n",
    "!apt-get update -qq\n",
    "!apt-get install openjdk-8-jdk-headless -qq > /dev/null\n",
    "!wget -q https://archive.apache.org/dist/spark/spark-3.1.2/spark-3.1.2-bin-hadoop2.7.tgz\n",
    "!tar xf spark-3.1.2-bin-hadoop2.7.tgz\n",
    "!pip install -q findspark"
   ]
  },
  {
   "cell_type": "code",
   "execution_count": null,
   "metadata": {
    "id": "_4Z_1m0z3sPJ"
   },
   "outputs": [],
   "source": [
    "import os\n",
    "os.environ[\"JAVA_HOME\"] = \"/usr/lib/jvm/java-8-openjdk-amd64\"\n",
    "os.environ[\"SPARK_HOME\"] = \"/content/spark-3.1.2-bin-hadoop2.7\""
   ]
  },
  {
   "cell_type": "code",
   "execution_count": null,
   "metadata": {
    "id": "kqdft9fpGlH0"
   },
   "outputs": [],
   "source": [
    "import findspark\n",
    "findspark.init()"
   ]
  },
  {
   "cell_type": "markdown",
   "metadata": {
    "id": "xIZNca7Pjgqf"
   },
   "source": [
    "# Carregamento de Dados\n",
    "---"
   ]
  },
  {
   "cell_type": "markdown",
   "metadata": {
    "id": "YGNS075GGlH0"
   },
   "source": [
    "## [SparkSession](https://spark.apache.org/docs/latest/api/python/reference/api/pyspark.sql.SparkSession.html)\n",
    "\n",
    "O ponto de entrada para programar o Spark com a API Dataset e DataFrame.\n",
    "\n",
    "Uma SparkSession pode ser utilizada para criar DataFrames, registrar DataFrames como tabelas, executar consultas SQL em tabelas, armazenar em cache e ler arquivos parquet. Para criar uma SparkSession, use o seguinte padrão de construtor:"
   ]
  },
  {
   "cell_type": "code",
   "execution_count": 1,
   "metadata": {
    "id": "yayRGdn_GlH1"
   },
   "outputs": [
    {
     "name": "stdout",
     "output_type": "stream",
     "text": [
      "2022-06-08 08:14:22 WARN  Utils:66 - Your hostname, laura-ThinkPad-E470 resolves to a loopback address: 127.0.1.1; using 10.0.0.84 instead (on interface wlp5s0)\n",
      "2022-06-08 08:14:22 WARN  Utils:66 - Set SPARK_LOCAL_IP if you need to bind to another address\n",
      "2022-06-08 08:14:23 WARN  NativeCodeLoader:62 - Unable to load native-hadoop library for your platform... using builtin-java classes where applicable\n"
     ]
    },
    {
     "name": "stderr",
     "output_type": "stream",
     "text": [
      "Setting default log level to \"WARN\".\n",
      "To adjust logging level use sc.setLogLevel(newLevel). For SparkR, use setLogLevel(newLevel).\n"
     ]
    }
   ],
   "source": [
    "from pyspark.sql import SparkSession\n",
    "\n",
    "spark = SparkSession.builder \\\n",
    "    .master('local[*]') \\\n",
    "    .appName(\"Iniciando com Spark\") \\\n",
    "    .getOrCreate()"
   ]
  },
  {
   "cell_type": "code",
   "execution_count": 5,
   "metadata": {
    "id": "PizPNqbmCuSM"
   },
   "outputs": [
    {
     "data": {
      "text/html": [
       "\n",
       "            <div>\n",
       "                <p><b>SparkSession - in-memory</b></p>\n",
       "                \n",
       "        <div>\n",
       "            <p><b>SparkContext</b></p>\n",
       "\n",
       "            <p><a href=\"http://laura-ThinkPad-E470.local:4041\">Spark UI</a></p>\n",
       "\n",
       "            <dl>\n",
       "              <dt>Version</dt>\n",
       "                <dd><code>v2.4.0</code></dd>\n",
       "              <dt>Master</dt>\n",
       "                <dd><code>local[*]</code></dd>\n",
       "              <dt>AppName</dt>\n",
       "                <dd><code>Iniciando com Spark</code></dd>\n",
       "            </dl>\n",
       "        </div>\n",
       "        \n",
       "            </div>\n",
       "        "
      ],
      "text/plain": [
       "<pyspark.sql.session.SparkSession at 0x7f7745998e90>"
      ]
     },
     "execution_count": 5,
     "metadata": {},
     "output_type": "execute_result"
    }
   ],
   "source": [
    "spark"
   ]
  },
  {
   "cell_type": "markdown",
   "metadata": {
    "id": "n2mFfLx470tO"
   },
   "source": [
    "## Acessando o [Spark UI](https://spark.apache.org/docs/latest/web-ui.html) (Google Colab)"
   ]
  },
  {
   "cell_type": "code",
   "execution_count": null,
   "metadata": {
    "id": "RpSjVUhR8AYq"
   },
   "outputs": [],
   "source": []
  },
  {
   "cell_type": "markdown",
   "metadata": {
    "id": "Otwtgug3T4tW"
   },
   "source": [
    "[Site ngrok](https://ngrok.com)"
   ]
  },
  {
   "cell_type": "code",
   "execution_count": null,
   "metadata": {
    "id": "Wy6EXcMn8bg5"
   },
   "outputs": [],
   "source": []
  },
  {
   "cell_type": "code",
   "execution_count": null,
   "metadata": {
    "id": "UL5yysRL8i_I"
   },
   "outputs": [],
   "source": []
  },
  {
   "cell_type": "code",
   "execution_count": null,
   "metadata": {
    "id": "GOFKWePj8no0"
   },
   "outputs": [],
   "source": []
  },
  {
   "cell_type": "code",
   "execution_count": null,
   "metadata": {
    "id": "oonn_IJ08rfq"
   },
   "outputs": [],
   "source": []
  },
  {
   "cell_type": "markdown",
   "metadata": {
    "id": "MbOcx1oXGlH4"
   },
   "source": [
    "## DataFrames com Spark\n",
    "\n",
    "\n",
    "### Interfaces Spark\n",
    "\n",
    "Existem três interfaces principais do Apache Spark que você deve conhecer: Resilient Distributed Dataset, DataFrame e Dataset.\n",
    "\n",
    "- **Resilient Distributed Dataset**: A primeira abstração do Apache Spark foi o Resilient Distributed Dataset (RDD). É uma interface para uma sequência de objetos de dados que consiste em um ou mais tipos localizados em uma coleção de máquinas (um cluster). Os RDDs podem ser criados de várias maneiras e são a API de “nível mais baixo” disponível. Embora esta seja a estrutura de dados original do Apache Spark, você deve se concentrar na API DataFrame, que é um superconjunto da funcionalidade RDD. A API RDD está disponível nas linguagens Java, Python e Scala.\n",
    "\n",
    "- **DataFrame**: Trata-se de um conceito similar ao DataFrame que você pode estar familiarizado como o pacote pandas do Python e a linguagem R . A API DataFrame está disponível nas linguagens Java, Python, R e Scala.\n",
    "\n",
    "- **Dataset**: uma combinação de DataFrame e RDD. Ele fornece a interface digitada que está disponível em RDDs enquanto fornece a conveniência do DataFrame. A API Dataset está disponível nas linguagens Java e Scala.\n",
    "\n",
    "Em muitos cenários, especialmente com as otimizações de desempenho incorporadas em DataFrames e Datasets, não será necessário trabalhar com RDDs. Mas é importante entender a abstração RDD porque:\n",
    "\n",
    "- O RDD é a infraestrutura subjacente que permite que o Spark seja executado com tanta rapidez e forneça a linhagem de dados.\n",
    "\n",
    "- Se você estiver mergulhando em componentes mais avançados do Spark, pode ser necessário usar RDDs.\n",
    "\n",
    "- As visualizações na Spark UI fazem referência a RDDs."
   ]
  },
  {
   "cell_type": "code",
   "execution_count": 8,
   "metadata": {
    "id": "ZpFfzZN0GlH5"
   },
   "outputs": [],
   "source": [
    "data = [('Zeca','35'), ('Eva', '29')]\n",
    "colNames = ['Nome', 'Idade']"
   ]
  },
  {
   "cell_type": "code",
   "execution_count": 9,
   "metadata": {
    "id": "3APKGkAlGlH5"
   },
   "outputs": [
    {
     "data": {
      "text/plain": [
       "DataFrame[Nome: string, Idade: string]"
      ]
     },
     "execution_count": 9,
     "metadata": {},
     "output_type": "execute_result"
    }
   ],
   "source": [
    "df = spark.createDataFrame(data, colNames)\n",
    "df"
   ]
  },
  {
   "cell_type": "code",
   "execution_count": 7,
   "metadata": {
    "id": "NyBW_ff-JMYs"
   },
   "outputs": [
    {
     "name": "stderr",
     "output_type": "stream",
     "text": [
      "\r",
      "[Stage 0:>                                                          (0 + 1) / 1]"
     ]
    },
    {
     "name": "stdout",
     "output_type": "stream",
     "text": [
      "+----+-----+\n",
      "|Nome|Idade|\n",
      "+----+-----+\n",
      "|Zeca|   35|\n",
      "| Eva|   29|\n",
      "+----+-----+\n",
      "\n"
     ]
    },
    {
     "name": "stderr",
     "output_type": "stream",
     "text": [
      "\r",
      "                                                                                \r"
     ]
    }
   ],
   "source": [
    "df.show()"
   ]
  },
  {
   "cell_type": "code",
   "execution_count": 8,
   "metadata": {},
   "outputs": [
    {
     "data": {
      "text/html": [
       "<div>\n",
       "<style scoped>\n",
       "    .dataframe tbody tr th:only-of-type {\n",
       "        vertical-align: middle;\n",
       "    }\n",
       "\n",
       "    .dataframe tbody tr th {\n",
       "        vertical-align: top;\n",
       "    }\n",
       "\n",
       "    .dataframe thead th {\n",
       "        text-align: right;\n",
       "    }\n",
       "</style>\n",
       "<table border=\"1\" class=\"dataframe\">\n",
       "  <thead>\n",
       "    <tr style=\"text-align: right;\">\n",
       "      <th></th>\n",
       "      <th>Nome</th>\n",
       "      <th>Idade</th>\n",
       "    </tr>\n",
       "  </thead>\n",
       "  <tbody>\n",
       "    <tr>\n",
       "      <th>0</th>\n",
       "      <td>Zeca</td>\n",
       "      <td>35</td>\n",
       "    </tr>\n",
       "    <tr>\n",
       "      <th>1</th>\n",
       "      <td>Eva</td>\n",
       "      <td>29</td>\n",
       "    </tr>\n",
       "  </tbody>\n",
       "</table>\n",
       "</div>"
      ],
      "text/plain": [
       "   Nome Idade\n",
       "0  Zeca    35\n",
       "1   Eva    29"
      ]
     },
     "execution_count": 8,
     "metadata": {},
     "output_type": "execute_result"
    }
   ],
   "source": [
    "df.toPandas()"
   ]
  },
  {
   "cell_type": "markdown",
   "metadata": {
    "id": "FXVfnTIHGlH3"
   },
   "source": [
    "## Projeto\n",
    "\n",
    "Nosso projeto consiste em ler, manipular, tratar e salvar um conjunto de dados volumosos utilizando como ferramenta o Spark."
   ]
  },
  {
   "cell_type": "markdown",
   "metadata": {
    "id": "KCYYVAtjhMa7"
   },
   "source": [
    "## Carregamento de dados\n",
    "\n",
    "### Dados Públicos CNPJ\n",
    "#### Receita Federal\n",
    "\n",
    "> [Empresas](https://caelum-online-public.s3.amazonaws.com/2273-introducao-spark/01/empresas.zip)\n",
    "> \n",
    "> [Estabelecimentos](https://caelum-online-public.s3.amazonaws.com/2273-introducao-spark/01/estabelecimentos.zip)\n",
    "> \n",
    "> [Sócios](https://caelum-online-public.s3.amazonaws.com/2273-introducao-spark/01/socios.zip)\n",
    "\n",
    "[Fonte original dos dados](https://www.gov.br/receitafederal/pt-br/assuntos/orientacao-tributaria/cadastros/consultas/dados-publicos-cnpj)\n",
    "\n",
    "---\n",
    "[property SparkSession.read](https://spark.apache.org/docs/latest/api/python/reference/api/pyspark.sql.SparkSession.read.html)\n",
    "\n",
    "[DataFrameReader.csv(*args)](https://spark.apache.org/docs/latest/api/python/reference/api/pyspark.sql.DataFrameReader.csv.html)\n"
   ]
  },
  {
   "cell_type": "markdown",
   "metadata": {
    "id": "6znrrAdApQmE"
   },
   "source": [
    "### Montando nosso drive"
   ]
  },
  {
   "cell_type": "code",
   "execution_count": null,
   "metadata": {
    "id": "6g2I8wYShfYJ"
   },
   "outputs": [],
   "source": [
    "from google.colab import drive # Quando no google colab, ajuda a pegar os dados do drive;\n",
    "drive.mount('/content/drive')"
   ]
  },
  {
   "cell_type": "markdown",
   "metadata": {
    "id": "3f6bwFADGlH6"
   },
   "source": [
    "### Carregando os dados das empresas"
   ]
  },
  {
   "cell_type": "code",
   "execution_count": 10,
   "metadata": {
    "id": "sffAOcMQt_aR"
   },
   "outputs": [],
   "source": [
    "import zipfile"
   ]
  },
  {
   "cell_type": "code",
   "execution_count": 13,
   "metadata": {
    "id": "4RVsaljf8mus"
   },
   "outputs": [],
   "source": [
    "# Nesse caso, eu tinha um arquivo zip com vários arquivos csv, a partir desse comando tudo contudo no zip foi \n",
    "# extraído para uma nova pasta chamada 'empresas' e agora dá para acessar cada um dos csv.\n",
    "zipfile.ZipFile('empresas.zip', 'r').extractall() # extractall recebe como argumento o caminho onde a pasta é salva"
   ]
  },
  {
   "cell_type": "code",
   "execution_count": 2,
   "metadata": {
    "id": "1rDKf8L-GlH6"
   },
   "outputs": [
    {
     "name": "stderr",
     "output_type": "stream",
     "text": [
      "                                                                                \r"
     ]
    }
   ],
   "source": [
    "# E como mágica, só passando o nome da pasta, a função lê todos os arquivos e ainda junta...\n",
    "empresas = spark.read.csv('empresas', sep = \";\", inferSchema = True)"
   ]
  },
  {
   "cell_type": "code",
   "execution_count": 16,
   "metadata": {
    "id": "-AnS7LIvJ0-5"
   },
   "outputs": [
    {
     "name": "stderr",
     "output_type": "stream",
     "text": [
      "                                                                                \r"
     ]
    },
    {
     "data": {
      "text/plain": [
       "4585679"
      ]
     },
     "execution_count": 16,
     "metadata": {},
     "output_type": "execute_result"
    }
   ],
   "source": [
    "empresas.count()"
   ]
  },
  {
   "cell_type": "code",
   "execution_count": 17,
   "metadata": {},
   "outputs": [
    {
     "data": {
      "text/html": [
       "<div>\n",
       "<style scoped>\n",
       "    .dataframe tbody tr th:only-of-type {\n",
       "        vertical-align: middle;\n",
       "    }\n",
       "\n",
       "    .dataframe tbody tr th {\n",
       "        vertical-align: top;\n",
       "    }\n",
       "\n",
       "    .dataframe thead th {\n",
       "        text-align: right;\n",
       "    }\n",
       "</style>\n",
       "<table border=\"1\" class=\"dataframe\">\n",
       "  <thead>\n",
       "    <tr style=\"text-align: right;\">\n",
       "      <th></th>\n",
       "      <th>_c0</th>\n",
       "      <th>_c1</th>\n",
       "      <th>_c2</th>\n",
       "      <th>_c3</th>\n",
       "      <th>_c4</th>\n",
       "      <th>_c5</th>\n",
       "      <th>_c6</th>\n",
       "    </tr>\n",
       "  </thead>\n",
       "  <tbody>\n",
       "    <tr>\n",
       "      <th>0</th>\n",
       "      <td>306</td>\n",
       "      <td>FRANCAMAR REFRIGERACAO TECNICA S/C LTDA</td>\n",
       "      <td>2240</td>\n",
       "      <td>49</td>\n",
       "      <td>0,00</td>\n",
       "      <td>1</td>\n",
       "      <td>None</td>\n",
       "    </tr>\n",
       "    <tr>\n",
       "      <th>1</th>\n",
       "      <td>1355</td>\n",
       "      <td>BRASILEIRO &amp; OLIVEIRA LTDA</td>\n",
       "      <td>2062</td>\n",
       "      <td>49</td>\n",
       "      <td>0,00</td>\n",
       "      <td>5</td>\n",
       "      <td>None</td>\n",
       "    </tr>\n",
       "    <tr>\n",
       "      <th>2</th>\n",
       "      <td>4820</td>\n",
       "      <td>REGISTRO DE IMOVEIS, TABELIONATO 1 DE NOTAS E ...</td>\n",
       "      <td>3034</td>\n",
       "      <td>32</td>\n",
       "      <td>0,00</td>\n",
       "      <td>5</td>\n",
       "      <td>None</td>\n",
       "    </tr>\n",
       "    <tr>\n",
       "      <th>3</th>\n",
       "      <td>5347</td>\n",
       "      <td>ROSELY APARECIDA MONTEIRO CALTABIANO FREITAS</td>\n",
       "      <td>2135</td>\n",
       "      <td>50</td>\n",
       "      <td>0,00</td>\n",
       "      <td>5</td>\n",
       "      <td>None</td>\n",
       "    </tr>\n",
       "    <tr>\n",
       "      <th>4</th>\n",
       "      <td>6846</td>\n",
       "      <td>BADU E FILHOS TECIDOS LTDA</td>\n",
       "      <td>2062</td>\n",
       "      <td>49</td>\n",
       "      <td>4000,00</td>\n",
       "      <td>1</td>\n",
       "      <td>None</td>\n",
       "    </tr>\n",
       "    <tr>\n",
       "      <th>5</th>\n",
       "      <td>8416</td>\n",
       "      <td>ELETRICA RUBI LTDA</td>\n",
       "      <td>2062</td>\n",
       "      <td>49</td>\n",
       "      <td>0,00</td>\n",
       "      <td>5</td>\n",
       "      <td>None</td>\n",
       "    </tr>\n",
       "    <tr>\n",
       "      <th>6</th>\n",
       "      <td>8992</td>\n",
       "      <td>SHIROMA VEICULOS LTDA.</td>\n",
       "      <td>2062</td>\n",
       "      <td>49</td>\n",
       "      <td>0,00</td>\n",
       "      <td>5</td>\n",
       "      <td>None</td>\n",
       "    </tr>\n",
       "    <tr>\n",
       "      <th>7</th>\n",
       "      <td>9091</td>\n",
       "      <td>CONTATOS BAR E LANCHONETE LTDA</td>\n",
       "      <td>2062</td>\n",
       "      <td>49</td>\n",
       "      <td>0,00</td>\n",
       "      <td>5</td>\n",
       "      <td>None</td>\n",
       "    </tr>\n",
       "    <tr>\n",
       "      <th>8</th>\n",
       "      <td>9614</td>\n",
       "      <td>ANTONIA APARECIDA DE SOUZA ULIANA</td>\n",
       "      <td>2135</td>\n",
       "      <td>50</td>\n",
       "      <td>0,00</td>\n",
       "      <td>5</td>\n",
       "      <td>None</td>\n",
       "    </tr>\n",
       "    <tr>\n",
       "      <th>9</th>\n",
       "      <td>9896</td>\n",
       "      <td>DORACY CORAT DA COSTA</td>\n",
       "      <td>2135</td>\n",
       "      <td>50</td>\n",
       "      <td>0,00</td>\n",
       "      <td>5</td>\n",
       "      <td>None</td>\n",
       "    </tr>\n",
       "  </tbody>\n",
       "</table>\n",
       "</div>"
      ],
      "text/plain": [
       "    _c0                                                _c1   _c2  _c3  \\\n",
       "0   306            FRANCAMAR REFRIGERACAO TECNICA S/C LTDA  2240   49   \n",
       "1  1355                         BRASILEIRO & OLIVEIRA LTDA  2062   49   \n",
       "2  4820  REGISTRO DE IMOVEIS, TABELIONATO 1 DE NOTAS E ...  3034   32   \n",
       "3  5347       ROSELY APARECIDA MONTEIRO CALTABIANO FREITAS  2135   50   \n",
       "4  6846                         BADU E FILHOS TECIDOS LTDA  2062   49   \n",
       "5  8416                                 ELETRICA RUBI LTDA  2062   49   \n",
       "6  8992                             SHIROMA VEICULOS LTDA.  2062   49   \n",
       "7  9091                     CONTATOS BAR E LANCHONETE LTDA  2062   49   \n",
       "8  9614                  ANTONIA APARECIDA DE SOUZA ULIANA  2135   50   \n",
       "9  9896                              DORACY CORAT DA COSTA  2135   50   \n",
       "\n",
       "       _c4  _c5   _c6  \n",
       "0     0,00    1  None  \n",
       "1     0,00    5  None  \n",
       "2     0,00    5  None  \n",
       "3     0,00    5  None  \n",
       "4  4000,00    1  None  \n",
       "5     0,00    5  None  \n",
       "6     0,00    5  None  \n",
       "7     0,00    5  None  \n",
       "8     0,00    5  None  \n",
       "9     0,00    5  None  "
      ]
     },
     "execution_count": 17,
     "metadata": {},
     "output_type": "execute_result"
    }
   ],
   "source": [
    "empresas.limit(10).toPandas()"
   ]
  },
  {
   "cell_type": "code",
   "execution_count": 20,
   "metadata": {},
   "outputs": [
    {
     "data": {
      "text/plain": [
       "[StructField(_c0,IntegerType,true),\n",
       " StructField(_c1,StringType,true),\n",
       " StructField(_c2,IntegerType,true),\n",
       " StructField(_c3,IntegerType,true),\n",
       " StructField(_c4,StringType,true),\n",
       " StructField(_c5,IntegerType,true),\n",
       " StructField(_c6,StringType,true)]"
      ]
     },
     "execution_count": 20,
     "metadata": {},
     "output_type": "execute_result"
    }
   ],
   "source": [
    "empresas.schema.fields"
   ]
  },
  {
   "cell_type": "markdown",
   "metadata": {
    "id": "g0QOCzKVGlH7"
   },
   "source": [
    "## Faça como eu fiz: Estabelecimentos e Sócios"
   ]
  },
  {
   "cell_type": "markdown",
   "metadata": {
    "id": "4DXanOaDk1Hc"
   },
   "source": [
    "### Carregando os dados dos estabelecimentos"
   ]
  },
  {
   "cell_type": "code",
   "execution_count": 23,
   "metadata": {
    "id": "hIwhrJTIGlH7"
   },
   "outputs": [],
   "source": [
    "zipfile.ZipFile('estabelecimentos.zip', 'r').extractall()"
   ]
  },
  {
   "cell_type": "code",
   "execution_count": 3,
   "metadata": {
    "id": "Hpfe_ApWGlH7"
   },
   "outputs": [
    {
     "name": "stderr",
     "output_type": "stream",
     "text": [
      "                                                                                \r"
     ]
    }
   ],
   "source": [
    "estabelecimentos = spark.read.csv('estabelecimentos', sep = \";\", inferSchema = True)"
   ]
  },
  {
   "cell_type": "code",
   "execution_count": 30,
   "metadata": {
    "id": "UdBuLfZkGlH7"
   },
   "outputs": [
    {
     "name": "stdout",
     "output_type": "stream",
     "text": [
      "2022-06-06 17:04:29 WARN  Utils:66 - Truncated the string representation of a plan since it was too large. This behavior can be adjusted by setting 'spark.debug.maxToStringFields' in SparkEnv.conf.\n"
     ]
    },
    {
     "name": "stderr",
     "output_type": "stream",
     "text": [
      "                                                                                \r"
     ]
    },
    {
     "data": {
      "text/plain": [
       "4836219"
      ]
     },
     "execution_count": 30,
     "metadata": {},
     "output_type": "execute_result"
    }
   ],
   "source": [
    "estabelecimentos.count()"
   ]
  },
  {
   "cell_type": "markdown",
   "metadata": {
    "id": "bOylSh6PGlH8"
   },
   "source": [
    "### Carregando os dados dos sócios"
   ]
  },
  {
   "cell_type": "code",
   "execution_count": 27,
   "metadata": {
    "id": "97PLgACTGlH8"
   },
   "outputs": [],
   "source": [
    "zipfile.ZipFile('socios.zip', 'r').extractall()"
   ]
  },
  {
   "cell_type": "code",
   "execution_count": 4,
   "metadata": {
    "id": "B5giYMXnGlH8"
   },
   "outputs": [
    {
     "name": "stderr",
     "output_type": "stream",
     "text": [
      "                                                                                \r"
     ]
    }
   ],
   "source": [
    "socios = spark.read.csv('socios', sep = \";\", inferSchema = True)"
   ]
  },
  {
   "cell_type": "code",
   "execution_count": 31,
   "metadata": {
    "id": "94dmXGICGlH8"
   },
   "outputs": [
    {
     "data": {
      "text/plain": [
       "2046430"
      ]
     },
     "execution_count": 31,
     "metadata": {},
     "output_type": "execute_result"
    }
   ],
   "source": [
    "socios.count()"
   ]
  },
  {
   "cell_type": "markdown",
   "metadata": {
    "id": "yyeUU1CsGlH9"
   },
   "source": [
    "# Manipulando os Dados\n",
    "---"
   ]
  },
  {
   "cell_type": "markdown",
   "metadata": {
    "id": "2vvN_LyAGlH9"
   },
   "source": [
    "## Operações básicas"
   ]
  },
  {
   "cell_type": "code",
   "execution_count": null,
   "metadata": {
    "id": "vc8_B1H8iNkX"
   },
   "outputs": [],
   "source": []
  },
  {
   "cell_type": "markdown",
   "metadata": {
    "id": "1f7djxh5GlH9"
   },
   "source": [
    "### Renomeando as colunas do DataFrame"
   ]
  },
  {
   "cell_type": "code",
   "execution_count": 5,
   "metadata": {
    "id": "Hg0w9tDlGlH-"
   },
   "outputs": [],
   "source": [
    "empresasColNames = ['cnpj_basico', 'razao_social_nome_empresarial', 'natureza_juridica', 'qualificacao_do_responsavel', 'capital_social_da_empresa', 'porte_da_empresa', 'ente_federativo_responsavel']"
   ]
  },
  {
   "cell_type": "code",
   "execution_count": 6,
   "metadata": {
    "id": "1gYSVAgPk2h8"
   },
   "outputs": [],
   "source": [
    "for index, colName in enumerate(empresasColNames): # o enumerate adiciona índices para a lista\n",
    "    empresas = empresas.withColumnRenamed(f\"_c{index}\", colName) # só dá para mudar um por vez, então é isso..."
   ]
  },
  {
   "cell_type": "code",
   "execution_count": 17,
   "metadata": {},
   "outputs": [
    {
     "data": {
      "text/plain": [
       "['cnpj_basico',\n",
       " 'razao_social_nome_empresarial',\n",
       " 'natureza_juridica',\n",
       " 'qualificacao_do_responsavel',\n",
       " 'capital_social_da_empresa',\n",
       " 'porte_da_empresa',\n",
       " 'ente_federativo_responsavel']"
      ]
     },
     "execution_count": 17,
     "metadata": {},
     "output_type": "execute_result"
    }
   ],
   "source": [
    "empresas.columns"
   ]
  },
  {
   "cell_type": "code",
   "execution_count": 7,
   "metadata": {
    "id": "QMfPDezDGlH-"
   },
   "outputs": [],
   "source": [
    "estabsColNames = ['cnpj_basico', 'cnpj_ordem', 'cnpj_dv', 'identificador_matriz_filial', 'nome_fantasia', 'situacao_cadastral', 'data_situacao_cadastral', 'motivo_situacao_cadastral', 'nome_da_cidade_no_exterior', 'pais', 'data_de_inicio_atividade', 'cnae_fiscal_principal', 'cnae_fiscal_secundaria', 'tipo_de_logradouro', 'logradouro', 'numero', 'complemento', 'bairro', 'cep', 'uf', 'municipio', 'ddd_1', 'telefone_1', 'ddd_2', 'telefone_2', 'ddd_do_fax', 'fax', 'correio_eletronico', 'situacao_especial', 'data_da_situacao_especial']"
   ]
  },
  {
   "cell_type": "code",
   "execution_count": 8,
   "metadata": {
    "id": "a04WKP_dGlH_"
   },
   "outputs": [],
   "source": [
    "for index, colName in enumerate(estabsColNames):\n",
    "    estabelecimentos = estabelecimentos.withColumnRenamed(f\"_c{index}\", colName)"
   ]
  },
  {
   "cell_type": "code",
   "execution_count": 9,
   "metadata": {
    "id": "-hR0XZghGlH_"
   },
   "outputs": [],
   "source": [
    "sociosColNames = ['cnpj_basico', 'identificador_de_socio', 'nome_do_socio_ou_razao_social', 'cnpj_ou_cpf_do_socio', 'qualificacao_do_socio', 'data_de_entrada_sociedade', 'pais', 'representante_legal', 'nome_do_representante', 'qualificacao_do_representante_legal', 'faixa_etaria']"
   ]
  },
  {
   "cell_type": "code",
   "execution_count": 10,
   "metadata": {
    "id": "mjBME0tPGlH_"
   },
   "outputs": [],
   "source": [
    "for index, colName in enumerate(sociosColNames):\n",
    "    socios = socios.withColumnRenamed(f\"_c{index}\", colName)"
   ]
  },
  {
   "cell_type": "markdown",
   "metadata": {
    "id": "EnibIqSUGlH_"
   },
   "source": [
    "## Analisando os dados\n",
    "\n",
    "[Data Types](https://spark.apache.org/docs/latest/api/python/reference/pyspark.sql.html#data-types)"
   ]
  },
  {
   "cell_type": "code",
   "execution_count": 22,
   "metadata": {
    "id": "7BCEdVduXqLP"
   },
   "outputs": [
    {
     "name": "stdout",
     "output_type": "stream",
     "text": [
      "root\n",
      " |-- cnpj_basico: integer (nullable = true)\n",
      " |-- razao_social_nome_empresarial: string (nullable = true)\n",
      " |-- natureza_juridica: integer (nullable = true)\n",
      " |-- qualificacao_do_responsavel: integer (nullable = true)\n",
      " |-- capital_social_da_empresa: string (nullable = true)\n",
      " |-- porte_da_empresa: integer (nullable = true)\n",
      " |-- ente_federativo_responsavel: string (nullable = true)\n",
      "\n"
     ]
    }
   ],
   "source": [
    "empresas.printSchema()"
   ]
  },
  {
   "cell_type": "markdown",
   "metadata": {
    "id": "A75QicR-WYxn"
   },
   "source": [
    "## Modificando os tipos de dados\n",
    "\n",
    "[Functions](https://spark.apache.org/docs/latest/api/python/reference/pyspark.sql.html#functions)\n",
    "\n",
    "[withColumn](https://spark.apache.org/docs/latest/api/python/reference/api/pyspark.sql.DataFrame.withColumn.html)"
   ]
  },
  {
   "cell_type": "markdown",
   "metadata": {
    "id": "qVElbxNlfFjk"
   },
   "source": [
    "### Convertendo String ➔ Double\n",
    "\n",
    "#### `StringType ➔ DoubleType`"
   ]
  },
  {
   "cell_type": "code",
   "execution_count": 13,
   "metadata": {
    "id": "XSDekv4rbodk"
   },
   "outputs": [],
   "source": [
    "from pyspark.sql.types import DoubleType, StringType\n",
    "from pyspark.sql import functions as f"
   ]
  },
  {
   "cell_type": "code",
   "execution_count": 25,
   "metadata": {
    "id": "tjbORHHw4M5j"
   },
   "outputs": [
    {
     "name": "stdout",
     "output_type": "stream",
     "text": [
      "root\n",
      " |-- cnpj_basico: integer (nullable = true)\n",
      " |-- razao_social_nome_empresarial: string (nullable = true)\n",
      " |-- natureza_juridica: integer (nullable = true)\n",
      " |-- qualificacao_do_responsavel: integer (nullable = true)\n",
      " |-- capital_social_da_empresa: double (nullable = true)\n",
      " |-- porte_da_empresa: integer (nullable = true)\n",
      " |-- ente_federativo_responsavel: string (nullable = true)\n",
      "\n"
     ]
    }
   ],
   "source": [
    "# O padrão do spark de decimal é o ponto, e aqui estamos fazendo a troca\n",
    "empresas = empresas.withColumn('capital_social_da_empresa', f.regexp_replace(f.col('capital_social_da_empresa'), ',', '.'))\n",
    "# Agora é possível transformar o tipo da variável que foi identificada como string como double\n",
    "empresas = empresas.withColumn('capital_social_da_empresa', empresas['capital_social_da_empresa'].cast(DoubleType()))\n",
    "empresas.printSchema()"
   ]
  },
  {
   "cell_type": "markdown",
   "metadata": {
    "id": "jp_Zv8tAgcbN"
   },
   "source": [
    "### Convertendo String ➔ Date\n",
    "\n",
    "#### `StringType ➔ DateType`\n",
    "\n",
    "[Datetime Patterns](https://spark.apache.org/docs/latest/sql-ref-datetime-pattern.html)"
   ]
  },
  {
   "cell_type": "code",
   "execution_count": 27,
   "metadata": {
    "id": "iRdCvl26o1eC"
   },
   "outputs": [
    {
     "name": "stderr",
     "output_type": "stream",
     "text": [
      "\r",
      "[Stage 6:>                                                          (0 + 4) / 4]\r",
      "                                                                                \r"
     ]
    },
    {
     "data": {
      "text/html": [
       "<div>\n",
       "<style scoped>\n",
       "    .dataframe tbody tr th:only-of-type {\n",
       "        vertical-align: middle;\n",
       "    }\n",
       "\n",
       "    .dataframe tbody tr th {\n",
       "        vertical-align: top;\n",
       "    }\n",
       "\n",
       "    .dataframe thead th {\n",
       "        text-align: right;\n",
       "    }\n",
       "</style>\n",
       "<table border=\"1\" class=\"dataframe\">\n",
       "  <thead>\n",
       "    <tr style=\"text-align: right;\">\n",
       "      <th></th>\n",
       "      <th>data</th>\n",
       "    </tr>\n",
       "  </thead>\n",
       "  <tbody>\n",
       "    <tr>\n",
       "      <th>0</th>\n",
       "      <td>20200924</td>\n",
       "    </tr>\n",
       "    <tr>\n",
       "      <th>1</th>\n",
       "      <td>20201022</td>\n",
       "    </tr>\n",
       "    <tr>\n",
       "      <th>2</th>\n",
       "      <td>20210215</td>\n",
       "    </tr>\n",
       "  </tbody>\n",
       "</table>\n",
       "</div>"
      ],
      "text/plain": [
       "       data\n",
       "0  20200924\n",
       "1  20201022\n",
       "2  20210215"
      ]
     },
     "execution_count": 27,
     "metadata": {},
     "output_type": "execute_result"
    }
   ],
   "source": [
    "df = spark.createDataFrame([(20200924,), (20201022,), (20210215,)], ['data'])\n",
    "df.toPandas()"
   ]
  },
  {
   "cell_type": "code",
   "execution_count": 28,
   "metadata": {
    "id": "_OMaiBT16YAX"
   },
   "outputs": [
    {
     "name": "stdout",
     "output_type": "stream",
     "text": [
      "+----------+\n",
      "|      data|\n",
      "+----------+\n",
      "|2020-09-24|\n",
      "|2020-10-22|\n",
      "|2021-02-15|\n",
      "+----------+\n",
      "\n"
     ]
    }
   ],
   "source": [
    "# Para transformar as colunas no tipo de data, é necessário que a coluna esteja em string\n",
    "# Para identificar o padrão das datas é preciso seguir as siglas definidas pelo próprio spark, de letra e tamanhp\n",
    "df = df.withColumn('data', f.to_date(df.data.cast(StringType()), 'yyyyMMdd')) \n",
    "df.show()"
   ]
  },
  {
   "cell_type": "code",
   "execution_count": 26,
   "metadata": {
    "id": "z4alYEILpRZe"
   },
   "outputs": [
    {
     "data": {
      "text/plain": [
       "<bound method DataFrame.printSchema of DataFrame[cnpj_basico: int, cnpj_ordem: int, cnpj_dv: int, identificador_matriz_filial: int, nome_fantasia: string, situacao_cadastral: int, data_situacao_cadastral: date, motivo_situacao_cadastral: int, nome_da_cidade_no_exterior: string, pais: int, data_de_inicio_atividade: date, cnae_fiscal_principal: int, cnae_fiscal_secundaria: string, tipo_de_logradouro: string, logradouro: string, numero: string, complemento: string, bairro: string, cep: int, uf: string, municipio: int, ddd_1: string, telefone_1: string, ddd_2: string, telefone_2: string, ddd_do_fax: int, fax: string, correio_eletronico: string, situacao_especial: string, data_da_situacao_especial: date]>"
      ]
     },
     "execution_count": 26,
     "metadata": {},
     "output_type": "execute_result"
    }
   ],
   "source": [
    "estabelecimentos = estabelecimentos\\\n",
    "    .withColumn(\n",
    "        'data_situacao_cadastral',\n",
    "        f.to_date(f.col('data_situacao_cadastral').cast(StringType()), 'yyyyMMdd')\n",
    "    )\\\n",
    "    .withColumn(\n",
    "        'data_de_inicio_atividade',\n",
    "        f.to_date(f.col('data_de_inicio_atividade').cast(StringType()), 'yyyyMMdd')\n",
    "    )\\\n",
    "    .withColumn(\n",
    "        'data_da_situacao_especial',\n",
    "        f.to_date(f.col('data_da_situacao_especial').cast(StringType()), 'yyyyMMdd')\n",
    "    )\n",
    "\n",
    "estabelecimentos.printSchema"
   ]
  },
  {
   "cell_type": "code",
   "execution_count": 27,
   "metadata": {
    "id": "0yBmkN9H2-QP"
   },
   "outputs": [],
   "source": [
    "socios = socios\\\n",
    "    .withColumn(\n",
    "        'data_de_entrada_sociedade',\n",
    "        f.to_date(f.col('data_de_entrada_sociedade').cast(StringType()), 'yyyyMMdd'))"
   ]
  },
  {
   "cell_type": "markdown",
   "metadata": {
    "id": "rg0lldBjGlIB"
   },
   "source": [
    "# Seleções e consultas\n",
    "---"
   ]
  },
  {
   "cell_type": "markdown",
   "metadata": {
    "id": "H3q8yA8kgH9G"
   },
   "source": [
    "## Selecionando informações\n",
    " \n",
    "[DataFrame.select(*cols)](https://spark.apache.org/docs/latest/api/python/reference/api/pyspark.sql.DataFrame.select.html)"
   ]
  },
  {
   "cell_type": "code",
   "execution_count": 37,
   "metadata": {
    "id": "QdMi5XrjbNxA"
   },
   "outputs": [
    {
     "name": "stdout",
     "output_type": "stream",
     "text": [
      "+-----------+--------------------------------------------------------------------------------------------+-----------------+---------------------------+-------------------------+----------------+---------------------------+\n",
      "|cnpj_basico|razao_social_nome_empresarial                                                               |natureza_juridica|qualificacao_do_responsavel|capital_social_da_empresa|porte_da_empresa|ente_federativo_responsavel|\n",
      "+-----------+--------------------------------------------------------------------------------------------+-----------------+---------------------------+-------------------------+----------------+---------------------------+\n",
      "|306        |FRANCAMAR REFRIGERACAO TECNICA S/C LTDA                                                     |2240             |49                         |0.0                      |1               |null                       |\n",
      "|1355       |BRASILEIRO & OLIVEIRA LTDA                                                                  |2062             |49                         |0.0                      |5               |null                       |\n",
      "|4820       |REGISTRO DE IMOVEIS, TABELIONATO 1 DE NOTAS E TABELIONATO E REGISTRO DE CONSTRATOS MARITIMOS|3034             |32                         |0.0                      |5               |null                       |\n",
      "|5347       |ROSELY APARECIDA MONTEIRO CALTABIANO FREITAS                                                |2135             |50                         |0.0                      |5               |null                       |\n",
      "|6846       |BADU E FILHOS TECIDOS LTDA                                                                  |2062             |49                         |4000.0                   |1               |null                       |\n",
      "+-----------+--------------------------------------------------------------------------------------------+-----------------+---------------------------+-------------------------+----------------+---------------------------+\n",
      "only showing top 5 rows\n",
      "\n"
     ]
    }
   ],
   "source": [
    "empresas.select('*').show(5, truncate=False)"
   ]
  },
  {
   "cell_type": "code",
   "execution_count": 40,
   "metadata": {
    "id": "X9cgyry3GlIB"
   },
   "outputs": [
    {
     "name": "stdout",
     "output_type": "stream",
     "text": [
      "+-----------+--------------------------------------------------------------------------------------------+-----------------+\n",
      "|cnpj_basico|razao_social_nome_empresarial                                                               |natureza_juridica|\n",
      "+-----------+--------------------------------------------------------------------------------------------+-----------------+\n",
      "|306        |FRANCAMAR REFRIGERACAO TECNICA S/C LTDA                                                     |2240             |\n",
      "|1355       |BRASILEIRO & OLIVEIRA LTDA                                                                  |2062             |\n",
      "|4820       |REGISTRO DE IMOVEIS, TABELIONATO 1 DE NOTAS E TABELIONATO E REGISTRO DE CONSTRATOS MARITIMOS|3034             |\n",
      "|5347       |ROSELY APARECIDA MONTEIRO CALTABIANO FREITAS                                                |2135             |\n",
      "|6846       |BADU E FILHOS TECIDOS LTDA                                                                  |2062             |\n",
      "+-----------+--------------------------------------------------------------------------------------------+-----------------+\n",
      "only showing top 5 rows\n",
      "\n"
     ]
    }
   ],
   "source": [
    "empresas\\\n",
    "    .select('cnpj_basico', 'razao_social_nome_empresarial', 'natureza_juridica')\\\n",
    "    .show(5, truncate=False)"
   ]
  },
  {
   "cell_type": "code",
   "execution_count": 45,
   "metadata": {
    "id": "7ilkFXsIbw9j"
   },
   "outputs": [
    {
     "name": "stdout",
     "output_type": "stream",
     "text": [
      "+------------+------------------------+\n",
      "|faixa_etaria|ano_de_entrada_sociedade|\n",
      "+------------+------------------------+\n",
      "|7           |1994                    |\n",
      "|7           |1994                    |\n",
      "|8           |1994                    |\n",
      "|5           |1994                    |\n",
      "|8           |1994                    |\n",
      "+------------+------------------------+\n",
      "only showing top 5 rows\n",
      "\n"
     ]
    }
   ],
   "source": [
    "socios\\\n",
    "    .select('faixa_etaria', f.year('data_de_entrada_sociedade').alias('ano_de_entrada_sociedade'))\\\n",
    "    .show(5, truncate=False)"
   ]
  },
  {
   "cell_type": "markdown",
   "metadata": {
    "id": "j94bdu9r0ykx"
   },
   "source": [
    "## Faça como eu fiz"
   ]
  },
  {
   "cell_type": "code",
   "execution_count": 46,
   "metadata": {
    "id": "smUC0SgN0sGc"
   },
   "outputs": [
    {
     "name": "stdout",
     "output_type": "stream",
     "text": [
      "+------------------------------+-----+\n",
      "|nome                          |idade|\n",
      "+------------------------------+-----+\n",
      "|GISELLE PAULA GUIMARAES CASTRO|15   |\n",
      "|ELAINE GARCIA DE OLIVEIRA     |22   |\n",
      "|JOAO CARLOS ABNER DE LOURDES  |43   |\n",
      "|MARTA ZELI FERREIRA           |24   |\n",
      "|LAUDENETE WIGGERS ROEDER      |51   |\n",
      "+------------------------------+-----+\n",
      "\n"
     ]
    }
   ],
   "source": [
    "data = [\n",
    "    ('GISELLE PAULA GUIMARAES CASTRO', 15),\n",
    "    ('ELAINE GARCIA DE OLIVEIRA', 22),\n",
    "    ('JOAO CARLOS ABNER DE LOURDES', 43),\n",
    "    ('MARTA ZELI FERREIRA', 24),\n",
    "    ('LAUDENETE WIGGERS ROEDER', 51)\n",
    "]\n",
    "colNames = ['nome', 'idade']\n",
    "df = spark.createDataFrame(data, colNames)\n",
    "df.show(truncate=False)"
   ]
  },
  {
   "cell_type": "code",
   "execution_count": 47,
   "metadata": {},
   "outputs": [
    {
     "name": "stdout",
     "output_type": "stream",
     "text": [
      "+-----------------+-----+\n",
      "|ident            |idade|\n",
      "+-----------------+-----+\n",
      "|CASTRO, GISELLE  |15   |\n",
      "|OLIVEIRA, ELAINE |22   |\n",
      "|LOURDES, JOAO    |43   |\n",
      "|FERREIRA, MARTA  |24   |\n",
      "|ROEDER, LAUDENETE|51   |\n",
      "+-----------------+-----+\n",
      "\n"
     ]
    }
   ],
   "source": [
    "df \\\n",
    "    .select(\n",
    "        f.concat_ws( # Concatena várias colunas e o separador utilizado é o primeiro argumento;\n",
    "            ', ', \n",
    "            f.substring_index('nome', ' ', -1), # extrai todos caracteres da string até primeiro ' ' (ao contrário)\n",
    "            f.substring_index('nome', ' ', 1)   # extrai todos caracteres da string até primeiro ' ' \n",
    "        ).alias('ident'), \n",
    "        'idade') \\\n",
    "    .show(truncate=False)"
   ]
  },
  {
   "cell_type": "markdown",
   "metadata": {
    "id": "vS3mrMkHZjqX"
   },
   "source": [
    "## Identificando valores nulos"
   ]
  },
  {
   "cell_type": "code",
   "execution_count": 48,
   "metadata": {
    "id": "8orupk7E9sfp"
   },
   "outputs": [
    {
     "data": {
      "text/html": [
       "<div>\n",
       "<style scoped>\n",
       "    .dataframe tbody tr th:only-of-type {\n",
       "        vertical-align: middle;\n",
       "    }\n",
       "\n",
       "    .dataframe tbody tr th {\n",
       "        vertical-align: top;\n",
       "    }\n",
       "\n",
       "    .dataframe thead th {\n",
       "        text-align: right;\n",
       "    }\n",
       "</style>\n",
       "<table border=\"1\" class=\"dataframe\">\n",
       "  <thead>\n",
       "    <tr style=\"text-align: right;\">\n",
       "      <th></th>\n",
       "      <th>data</th>\n",
       "    </tr>\n",
       "  </thead>\n",
       "  <tbody>\n",
       "    <tr>\n",
       "      <th>0</th>\n",
       "      <td>1.0</td>\n",
       "    </tr>\n",
       "    <tr>\n",
       "      <th>1</th>\n",
       "      <td>2.0</td>\n",
       "    </tr>\n",
       "    <tr>\n",
       "      <th>2</th>\n",
       "      <td>3.0</td>\n",
       "    </tr>\n",
       "    <tr>\n",
       "      <th>3</th>\n",
       "      <td>NaN</td>\n",
       "    </tr>\n",
       "  </tbody>\n",
       "</table>\n",
       "</div>"
      ],
      "text/plain": [
       "   data\n",
       "0   1.0\n",
       "1   2.0\n",
       "2   3.0\n",
       "3   NaN"
      ]
     },
     "execution_count": 48,
     "metadata": {},
     "output_type": "execute_result"
    }
   ],
   "source": [
    "df = spark.createDataFrame([(1,), (2,), (3,), (None,)], ['data']) # Aqui são valores inteiros\n",
    "df.toPandas()"
   ]
  },
  {
   "cell_type": "code",
   "execution_count": 49,
   "metadata": {
    "id": "4l4asr_S95MN"
   },
   "outputs": [
    {
     "name": "stdout",
     "output_type": "stream",
     "text": [
      "+----+\n",
      "|data|\n",
      "+----+\n",
      "|   1|\n",
      "|   2|\n",
      "|   3|\n",
      "|null|\n",
      "+----+\n",
      "\n"
     ]
    }
   ],
   "source": [
    "df.show()"
   ]
  },
  {
   "cell_type": "code",
   "execution_count": 50,
   "metadata": {
    "id": "UYjUKTUa_KzT"
   },
   "outputs": [
    {
     "data": {
      "text/html": [
       "<div>\n",
       "<style scoped>\n",
       "    .dataframe tbody tr th:only-of-type {\n",
       "        vertical-align: middle;\n",
       "    }\n",
       "\n",
       "    .dataframe tbody tr th {\n",
       "        vertical-align: top;\n",
       "    }\n",
       "\n",
       "    .dataframe thead th {\n",
       "        text-align: right;\n",
       "    }\n",
       "</style>\n",
       "<table border=\"1\" class=\"dataframe\">\n",
       "  <thead>\n",
       "    <tr style=\"text-align: right;\">\n",
       "      <th></th>\n",
       "      <th>data</th>\n",
       "    </tr>\n",
       "  </thead>\n",
       "  <tbody>\n",
       "    <tr>\n",
       "      <th>0</th>\n",
       "      <td>1.0</td>\n",
       "    </tr>\n",
       "    <tr>\n",
       "      <th>1</th>\n",
       "      <td>2.0</td>\n",
       "    </tr>\n",
       "    <tr>\n",
       "      <th>2</th>\n",
       "      <td>3.0</td>\n",
       "    </tr>\n",
       "    <tr>\n",
       "      <th>3</th>\n",
       "      <td>NaN</td>\n",
       "    </tr>\n",
       "  </tbody>\n",
       "</table>\n",
       "</div>"
      ],
      "text/plain": [
       "   data\n",
       "0   1.0\n",
       "1   2.0\n",
       "2   3.0\n",
       "3   NaN"
      ]
     },
     "execution_count": 50,
     "metadata": {},
     "output_type": "execute_result"
    }
   ],
   "source": [
    "df = spark.createDataFrame([(1.,), (2.,), (3.,), (float('nan'),)], ['data']) # Os pontos fazem ser float\n",
    "df.toPandas()"
   ]
  },
  {
   "cell_type": "code",
   "execution_count": 51,
   "metadata": {
    "id": "lqzQebm7_QAO"
   },
   "outputs": [
    {
     "name": "stdout",
     "output_type": "stream",
     "text": [
      "+----+\n",
      "|data|\n",
      "+----+\n",
      "| 1.0|\n",
      "| 2.0|\n",
      "| 3.0|\n",
      "| NaN|\n",
      "+----+\n",
      "\n"
     ]
    }
   ],
   "source": [
    "df.show()"
   ]
  },
  {
   "cell_type": "code",
   "execution_count": 52,
   "metadata": {
    "id": "j8v6WOpb96qU"
   },
   "outputs": [
    {
     "data": {
      "text/html": [
       "<div>\n",
       "<style scoped>\n",
       "    .dataframe tbody tr th:only-of-type {\n",
       "        vertical-align: middle;\n",
       "    }\n",
       "\n",
       "    .dataframe tbody tr th {\n",
       "        vertical-align: top;\n",
       "    }\n",
       "\n",
       "    .dataframe thead th {\n",
       "        text-align: right;\n",
       "    }\n",
       "</style>\n",
       "<table border=\"1\" class=\"dataframe\">\n",
       "  <thead>\n",
       "    <tr style=\"text-align: right;\">\n",
       "      <th></th>\n",
       "      <th>data</th>\n",
       "    </tr>\n",
       "  </thead>\n",
       "  <tbody>\n",
       "    <tr>\n",
       "      <th>0</th>\n",
       "      <td>1</td>\n",
       "    </tr>\n",
       "    <tr>\n",
       "      <th>1</th>\n",
       "      <td>2</td>\n",
       "    </tr>\n",
       "    <tr>\n",
       "      <th>2</th>\n",
       "      <td>3</td>\n",
       "    </tr>\n",
       "    <tr>\n",
       "      <th>3</th>\n",
       "      <td>None</td>\n",
       "    </tr>\n",
       "  </tbody>\n",
       "</table>\n",
       "</div>"
      ],
      "text/plain": [
       "   data\n",
       "0     1\n",
       "1     2\n",
       "2     3\n",
       "3  None"
      ]
     },
     "execution_count": 52,
     "metadata": {},
     "output_type": "execute_result"
    }
   ],
   "source": [
    "df = spark.createDataFrame([('1',), ('2',), ('3',), (None,)], ['data']) # Aqui já são strings\n",
    "df.toPandas()"
   ]
  },
  {
   "cell_type": "code",
   "execution_count": 53,
   "metadata": {
    "id": "Nokz_PPC994j"
   },
   "outputs": [
    {
     "name": "stdout",
     "output_type": "stream",
     "text": [
      "+----+\n",
      "|data|\n",
      "+----+\n",
      "|   1|\n",
      "|   2|\n",
      "|   3|\n",
      "|null|\n",
      "+----+\n",
      "\n"
     ]
    }
   ],
   "source": [
    "df.show()"
   ]
  },
  {
   "cell_type": "code",
   "execution_count": 58,
   "metadata": {
    "id": "N1wvIzb8-Rpk"
   },
   "outputs": [
    {
     "data": {
      "text/html": [
       "<div>\n",
       "<style scoped>\n",
       "    .dataframe tbody tr th:only-of-type {\n",
       "        vertical-align: middle;\n",
       "    }\n",
       "\n",
       "    .dataframe tbody tr th {\n",
       "        vertical-align: top;\n",
       "    }\n",
       "\n",
       "    .dataframe thead th {\n",
       "        text-align: right;\n",
       "    }\n",
       "</style>\n",
       "<table border=\"1\" class=\"dataframe\">\n",
       "  <thead>\n",
       "    <tr style=\"text-align: right;\">\n",
       "      <th></th>\n",
       "      <th>cnpj_basico</th>\n",
       "      <th>identificador_de_socio</th>\n",
       "      <th>nome_do_socio_ou_razao_social</th>\n",
       "      <th>cnpj_ou_cpf_do_socio</th>\n",
       "      <th>qualificacao_do_socio</th>\n",
       "      <th>data_de_entrada_sociedade</th>\n",
       "      <th>pais</th>\n",
       "      <th>representante_legal</th>\n",
       "      <th>nome_do_representante</th>\n",
       "      <th>qualificacao_do_representante_legal</th>\n",
       "      <th>faixa_etaria</th>\n",
       "    </tr>\n",
       "  </thead>\n",
       "  <tbody>\n",
       "    <tr>\n",
       "      <th>0</th>\n",
       "      <td>411</td>\n",
       "      <td>2</td>\n",
       "      <td>LILIANA PATRICIA GUASTAVINO</td>\n",
       "      <td>***678188**</td>\n",
       "      <td>22</td>\n",
       "      <td>1994-07-25</td>\n",
       "      <td>None</td>\n",
       "      <td>***000000**</td>\n",
       "      <td>None</td>\n",
       "      <td>0</td>\n",
       "      <td>7</td>\n",
       "    </tr>\n",
       "    <tr>\n",
       "      <th>1</th>\n",
       "      <td>411</td>\n",
       "      <td>2</td>\n",
       "      <td>CRISTINA HUNDERTMARK</td>\n",
       "      <td>***637848**</td>\n",
       "      <td>28</td>\n",
       "      <td>1994-07-25</td>\n",
       "      <td>None</td>\n",
       "      <td>***000000**</td>\n",
       "      <td>None</td>\n",
       "      <td>0</td>\n",
       "      <td>7</td>\n",
       "    </tr>\n",
       "    <tr>\n",
       "      <th>2</th>\n",
       "      <td>5813</td>\n",
       "      <td>2</td>\n",
       "      <td>CELSO EDUARDO DE CASTRO STEPHAN</td>\n",
       "      <td>***786068**</td>\n",
       "      <td>49</td>\n",
       "      <td>1994-05-16</td>\n",
       "      <td>None</td>\n",
       "      <td>***000000**</td>\n",
       "      <td>None</td>\n",
       "      <td>0</td>\n",
       "      <td>8</td>\n",
       "    </tr>\n",
       "    <tr>\n",
       "      <th>3</th>\n",
       "      <td>5813</td>\n",
       "      <td>2</td>\n",
       "      <td>EDUARDO BERRINGER STEPHAN</td>\n",
       "      <td>***442348**</td>\n",
       "      <td>49</td>\n",
       "      <td>1994-05-16</td>\n",
       "      <td>None</td>\n",
       "      <td>***000000**</td>\n",
       "      <td>None</td>\n",
       "      <td>0</td>\n",
       "      <td>5</td>\n",
       "    </tr>\n",
       "    <tr>\n",
       "      <th>4</th>\n",
       "      <td>14798</td>\n",
       "      <td>2</td>\n",
       "      <td>HANNE MAHFOUD FADEL</td>\n",
       "      <td>***760388**</td>\n",
       "      <td>49</td>\n",
       "      <td>1994-06-09</td>\n",
       "      <td>None</td>\n",
       "      <td>***000000**</td>\n",
       "      <td>None</td>\n",
       "      <td>0</td>\n",
       "      <td>8</td>\n",
       "    </tr>\n",
       "  </tbody>\n",
       "</table>\n",
       "</div>"
      ],
      "text/plain": [
       "   cnpj_basico  identificador_de_socio    nome_do_socio_ou_razao_social  \\\n",
       "0          411                       2      LILIANA PATRICIA GUASTAVINO   \n",
       "1          411                       2             CRISTINA HUNDERTMARK   \n",
       "2         5813                       2  CELSO EDUARDO DE CASTRO STEPHAN   \n",
       "3         5813                       2        EDUARDO BERRINGER STEPHAN   \n",
       "4        14798                       2              HANNE MAHFOUD FADEL   \n",
       "\n",
       "  cnpj_ou_cpf_do_socio  qualificacao_do_socio data_de_entrada_sociedade  pais  \\\n",
       "0          ***678188**                     22                1994-07-25  None   \n",
       "1          ***637848**                     28                1994-07-25  None   \n",
       "2          ***786068**                     49                1994-05-16  None   \n",
       "3          ***442348**                     49                1994-05-16  None   \n",
       "4          ***760388**                     49                1994-06-09  None   \n",
       "\n",
       "  representante_legal nome_do_representante  \\\n",
       "0         ***000000**                  None   \n",
       "1         ***000000**                  None   \n",
       "2         ***000000**                  None   \n",
       "3         ***000000**                  None   \n",
       "4         ***000000**                  None   \n",
       "\n",
       "   qualificacao_do_representante_legal  faixa_etaria  \n",
       "0                                    0             7  \n",
       "1                                    0             7  \n",
       "2                                    0             8  \n",
       "3                                    0             5  \n",
       "4                                    0             8  "
      ]
     },
     "execution_count": 58,
     "metadata": {},
     "output_type": "execute_result"
    }
   ],
   "source": [
    "socios.select('pais', 'nome_do_representante').limit(5).toPandas() # No do cara tava diferente"
   ]
  },
  {
   "cell_type": "code",
   "execution_count": 57,
   "metadata": {
    "id": "i95DWXnV-Usy"
   },
   "outputs": [
    {
     "name": "stderr",
     "output_type": "stream",
     "text": [
      "[Stage 34:==============================================>           (4 + 1) / 5]"
     ]
    },
    {
     "name": "stdout",
     "output_type": "stream",
     "text": [
      "+----+---------------------+\n",
      "|pais|nome_do_representante|\n",
      "+----+---------------------+\n",
      "|null|                 null|\n",
      "|null|                 null|\n",
      "|null|                 null|\n",
      "|null|                 null|\n",
      "|null|                 null|\n",
      "+----+---------------------+\n",
      "\n"
     ]
    },
    {
     "name": "stderr",
     "output_type": "stream",
     "text": [
      "\r",
      "                                                                                \r"
     ]
    }
   ],
   "source": [
    "socios.select('pais', 'nome_do_representante').limit(5).show()"
   ]
  },
  {
   "cell_type": "code",
   "execution_count": 60,
   "metadata": {
    "id": "7f2vmhnQZrod"
   },
   "outputs": [
    {
     "name": "stderr",
     "output_type": "stream",
     "text": [
      "                                                                                \r"
     ]
    },
    {
     "data": {
      "text/html": [
       "<div>\n",
       "<style scoped>\n",
       "    .dataframe tbody tr th:only-of-type {\n",
       "        vertical-align: middle;\n",
       "    }\n",
       "\n",
       "    .dataframe tbody tr th {\n",
       "        vertical-align: top;\n",
       "    }\n",
       "\n",
       "    .dataframe thead th {\n",
       "        text-align: right;\n",
       "    }\n",
       "</style>\n",
       "<table border=\"1\" class=\"dataframe\">\n",
       "  <thead>\n",
       "    <tr style=\"text-align: right;\">\n",
       "      <th></th>\n",
       "      <th>cnpj_basico</th>\n",
       "      <th>identificador_de_socio</th>\n",
       "      <th>nome_do_socio_ou_razao_social</th>\n",
       "      <th>cnpj_ou_cpf_do_socio</th>\n",
       "      <th>qualificacao_do_socio</th>\n",
       "      <th>data_de_entrada_sociedade</th>\n",
       "      <th>pais</th>\n",
       "      <th>representante_legal</th>\n",
       "      <th>nome_do_representante</th>\n",
       "      <th>qualificacao_do_representante_legal</th>\n",
       "      <th>faixa_etaria</th>\n",
       "    </tr>\n",
       "  </thead>\n",
       "  <tbody>\n",
       "    <tr>\n",
       "      <th>0</th>\n",
       "      <td>0</td>\n",
       "      <td>0</td>\n",
       "      <td>208</td>\n",
       "      <td>1234</td>\n",
       "      <td>0</td>\n",
       "      <td>1</td>\n",
       "      <td>2038255</td>\n",
       "      <td>0</td>\n",
       "      <td>1995432</td>\n",
       "      <td>0</td>\n",
       "      <td>0</td>\n",
       "    </tr>\n",
       "  </tbody>\n",
       "</table>\n",
       "</div>"
      ],
      "text/plain": [
       "   cnpj_basico  identificador_de_socio  nome_do_socio_ou_razao_social  \\\n",
       "0            0                       0                            208   \n",
       "\n",
       "   cnpj_ou_cpf_do_socio  qualificacao_do_socio  data_de_entrada_sociedade  \\\n",
       "0                  1234                      0                          1   \n",
       "\n",
       "      pais  representante_legal  nome_do_representante  \\\n",
       "0  2038255                    0                1995432   \n",
       "\n",
       "   qualificacao_do_representante_legal  faixa_etaria  \n",
       "0                                    0             0  "
      ]
     },
     "execution_count": 60,
     "metadata": {},
     "output_type": "execute_result"
    }
   ],
   "source": [
    "socios\\\n",
    "    .select([\\ # Selecionar\n",
    "             f.count(\\ # A contagem\n",
    "                     f.when(f.isnull(c), 1)).alias(c) \\ # de onde tem valor nulo\n",
    "                             for c in socios.columns\\ # Para todas as colunas\n",
    "            ]).toPandas()"
   ]
  },
  {
   "cell_type": "code",
   "execution_count": 62,
   "metadata": {
    "id": "nlccfXKMavJv"
   },
   "outputs": [
    {
     "data": {
      "text/html": [
       "<div>\n",
       "<style scoped>\n",
       "    .dataframe tbody tr th:only-of-type {\n",
       "        vertical-align: middle;\n",
       "    }\n",
       "\n",
       "    .dataframe tbody tr th {\n",
       "        vertical-align: top;\n",
       "    }\n",
       "\n",
       "    .dataframe thead th {\n",
       "        text-align: right;\n",
       "    }\n",
       "</style>\n",
       "<table border=\"1\" class=\"dataframe\">\n",
       "  <thead>\n",
       "    <tr style=\"text-align: right;\">\n",
       "      <th></th>\n",
       "      <th>cnpj_basico</th>\n",
       "      <th>identificador_de_socio</th>\n",
       "      <th>nome_do_socio_ou_razao_social</th>\n",
       "      <th>cnpj_ou_cpf_do_socio</th>\n",
       "      <th>qualificacao_do_socio</th>\n",
       "      <th>data_de_entrada_sociedade</th>\n",
       "      <th>pais</th>\n",
       "      <th>representante_legal</th>\n",
       "      <th>nome_do_representante</th>\n",
       "      <th>qualificacao_do_representante_legal</th>\n",
       "      <th>faixa_etaria</th>\n",
       "    </tr>\n",
       "  </thead>\n",
       "  <tbody>\n",
       "    <tr>\n",
       "      <th>0</th>\n",
       "      <td>411</td>\n",
       "      <td>2</td>\n",
       "      <td>LILIANA PATRICIA GUASTAVINO</td>\n",
       "      <td>***678188**</td>\n",
       "      <td>22</td>\n",
       "      <td>1994-07-25</td>\n",
       "      <td>0</td>\n",
       "      <td>***000000**</td>\n",
       "      <td>None</td>\n",
       "      <td>0</td>\n",
       "      <td>7</td>\n",
       "    </tr>\n",
       "    <tr>\n",
       "      <th>1</th>\n",
       "      <td>411</td>\n",
       "      <td>2</td>\n",
       "      <td>CRISTINA HUNDERTMARK</td>\n",
       "      <td>***637848**</td>\n",
       "      <td>28</td>\n",
       "      <td>1994-07-25</td>\n",
       "      <td>0</td>\n",
       "      <td>***000000**</td>\n",
       "      <td>None</td>\n",
       "      <td>0</td>\n",
       "      <td>7</td>\n",
       "    </tr>\n",
       "    <tr>\n",
       "      <th>2</th>\n",
       "      <td>5813</td>\n",
       "      <td>2</td>\n",
       "      <td>CELSO EDUARDO DE CASTRO STEPHAN</td>\n",
       "      <td>***786068**</td>\n",
       "      <td>49</td>\n",
       "      <td>1994-05-16</td>\n",
       "      <td>0</td>\n",
       "      <td>***000000**</td>\n",
       "      <td>None</td>\n",
       "      <td>0</td>\n",
       "      <td>8</td>\n",
       "    </tr>\n",
       "    <tr>\n",
       "      <th>3</th>\n",
       "      <td>5813</td>\n",
       "      <td>2</td>\n",
       "      <td>EDUARDO BERRINGER STEPHAN</td>\n",
       "      <td>***442348**</td>\n",
       "      <td>49</td>\n",
       "      <td>1994-05-16</td>\n",
       "      <td>0</td>\n",
       "      <td>***000000**</td>\n",
       "      <td>None</td>\n",
       "      <td>0</td>\n",
       "      <td>5</td>\n",
       "    </tr>\n",
       "    <tr>\n",
       "      <th>4</th>\n",
       "      <td>14798</td>\n",
       "      <td>2</td>\n",
       "      <td>HANNE MAHFOUD FADEL</td>\n",
       "      <td>***760388**</td>\n",
       "      <td>49</td>\n",
       "      <td>1994-06-09</td>\n",
       "      <td>0</td>\n",
       "      <td>***000000**</td>\n",
       "      <td>None</td>\n",
       "      <td>0</td>\n",
       "      <td>8</td>\n",
       "    </tr>\n",
       "  </tbody>\n",
       "</table>\n",
       "</div>"
      ],
      "text/plain": [
       "   cnpj_basico  identificador_de_socio    nome_do_socio_ou_razao_social  \\\n",
       "0          411                       2      LILIANA PATRICIA GUASTAVINO   \n",
       "1          411                       2             CRISTINA HUNDERTMARK   \n",
       "2         5813                       2  CELSO EDUARDO DE CASTRO STEPHAN   \n",
       "3         5813                       2        EDUARDO BERRINGER STEPHAN   \n",
       "4        14798                       2              HANNE MAHFOUD FADEL   \n",
       "\n",
       "  cnpj_ou_cpf_do_socio  qualificacao_do_socio data_de_entrada_sociedade  pais  \\\n",
       "0          ***678188**                     22                1994-07-25     0   \n",
       "1          ***637848**                     28                1994-07-25     0   \n",
       "2          ***786068**                     49                1994-05-16     0   \n",
       "3          ***442348**                     49                1994-05-16     0   \n",
       "4          ***760388**                     49                1994-06-09     0   \n",
       "\n",
       "  representante_legal nome_do_representante  \\\n",
       "0         ***000000**                  None   \n",
       "1         ***000000**                  None   \n",
       "2         ***000000**                  None   \n",
       "3         ***000000**                  None   \n",
       "4         ***000000**                  None   \n",
       "\n",
       "   qualificacao_do_representante_legal  faixa_etaria  \n",
       "0                                    0             7  \n",
       "1                                    0             7  \n",
       "2                                    0             8  \n",
       "3                                    0             5  \n",
       "4                                    0             8  "
      ]
     },
     "execution_count": 62,
     "metadata": {},
     "output_type": "execute_result"
    }
   ],
   "source": [
    "socios.na.fill(0).limit(5).toPandas() # Substituindo os NA, de acordo com o tipo da variável"
   ]
  },
  {
   "cell_type": "code",
   "execution_count": 63,
   "metadata": {
    "id": "p_BjVZKeu_V2"
   },
   "outputs": [
    {
     "data": {
      "text/html": [
       "<div>\n",
       "<style scoped>\n",
       "    .dataframe tbody tr th:only-of-type {\n",
       "        vertical-align: middle;\n",
       "    }\n",
       "\n",
       "    .dataframe tbody tr th {\n",
       "        vertical-align: top;\n",
       "    }\n",
       "\n",
       "    .dataframe thead th {\n",
       "        text-align: right;\n",
       "    }\n",
       "</style>\n",
       "<table border=\"1\" class=\"dataframe\">\n",
       "  <thead>\n",
       "    <tr style=\"text-align: right;\">\n",
       "      <th></th>\n",
       "      <th>cnpj_basico</th>\n",
       "      <th>identificador_de_socio</th>\n",
       "      <th>nome_do_socio_ou_razao_social</th>\n",
       "      <th>cnpj_ou_cpf_do_socio</th>\n",
       "      <th>qualificacao_do_socio</th>\n",
       "      <th>data_de_entrada_sociedade</th>\n",
       "      <th>pais</th>\n",
       "      <th>representante_legal</th>\n",
       "      <th>nome_do_representante</th>\n",
       "      <th>qualificacao_do_representante_legal</th>\n",
       "      <th>faixa_etaria</th>\n",
       "    </tr>\n",
       "  </thead>\n",
       "  <tbody>\n",
       "    <tr>\n",
       "      <th>0</th>\n",
       "      <td>411</td>\n",
       "      <td>2</td>\n",
       "      <td>LILIANA PATRICIA GUASTAVINO</td>\n",
       "      <td>***678188**</td>\n",
       "      <td>22</td>\n",
       "      <td>1994-07-25</td>\n",
       "      <td>None</td>\n",
       "      <td>***000000**</td>\n",
       "      <td>-</td>\n",
       "      <td>0</td>\n",
       "      <td>7</td>\n",
       "    </tr>\n",
       "    <tr>\n",
       "      <th>1</th>\n",
       "      <td>411</td>\n",
       "      <td>2</td>\n",
       "      <td>CRISTINA HUNDERTMARK</td>\n",
       "      <td>***637848**</td>\n",
       "      <td>28</td>\n",
       "      <td>1994-07-25</td>\n",
       "      <td>None</td>\n",
       "      <td>***000000**</td>\n",
       "      <td>-</td>\n",
       "      <td>0</td>\n",
       "      <td>7</td>\n",
       "    </tr>\n",
       "    <tr>\n",
       "      <th>2</th>\n",
       "      <td>5813</td>\n",
       "      <td>2</td>\n",
       "      <td>CELSO EDUARDO DE CASTRO STEPHAN</td>\n",
       "      <td>***786068**</td>\n",
       "      <td>49</td>\n",
       "      <td>1994-05-16</td>\n",
       "      <td>None</td>\n",
       "      <td>***000000**</td>\n",
       "      <td>-</td>\n",
       "      <td>0</td>\n",
       "      <td>8</td>\n",
       "    </tr>\n",
       "    <tr>\n",
       "      <th>3</th>\n",
       "      <td>5813</td>\n",
       "      <td>2</td>\n",
       "      <td>EDUARDO BERRINGER STEPHAN</td>\n",
       "      <td>***442348**</td>\n",
       "      <td>49</td>\n",
       "      <td>1994-05-16</td>\n",
       "      <td>None</td>\n",
       "      <td>***000000**</td>\n",
       "      <td>-</td>\n",
       "      <td>0</td>\n",
       "      <td>5</td>\n",
       "    </tr>\n",
       "    <tr>\n",
       "      <th>4</th>\n",
       "      <td>14798</td>\n",
       "      <td>2</td>\n",
       "      <td>HANNE MAHFOUD FADEL</td>\n",
       "      <td>***760388**</td>\n",
       "      <td>49</td>\n",
       "      <td>1994-06-09</td>\n",
       "      <td>None</td>\n",
       "      <td>***000000**</td>\n",
       "      <td>-</td>\n",
       "      <td>0</td>\n",
       "      <td>8</td>\n",
       "    </tr>\n",
       "  </tbody>\n",
       "</table>\n",
       "</div>"
      ],
      "text/plain": [
       "   cnpj_basico  identificador_de_socio    nome_do_socio_ou_razao_social  \\\n",
       "0          411                       2      LILIANA PATRICIA GUASTAVINO   \n",
       "1          411                       2             CRISTINA HUNDERTMARK   \n",
       "2         5813                       2  CELSO EDUARDO DE CASTRO STEPHAN   \n",
       "3         5813                       2        EDUARDO BERRINGER STEPHAN   \n",
       "4        14798                       2              HANNE MAHFOUD FADEL   \n",
       "\n",
       "  cnpj_ou_cpf_do_socio  qualificacao_do_socio data_de_entrada_sociedade  pais  \\\n",
       "0          ***678188**                     22                1994-07-25  None   \n",
       "1          ***637848**                     28                1994-07-25  None   \n",
       "2          ***786068**                     49                1994-05-16  None   \n",
       "3          ***442348**                     49                1994-05-16  None   \n",
       "4          ***760388**                     49                1994-06-09  None   \n",
       "\n",
       "  representante_legal nome_do_representante  \\\n",
       "0         ***000000**                     -   \n",
       "1         ***000000**                     -   \n",
       "2         ***000000**                     -   \n",
       "3         ***000000**                     -   \n",
       "4         ***000000**                     -   \n",
       "\n",
       "   qualificacao_do_representante_legal  faixa_etaria  \n",
       "0                                    0             7  \n",
       "1                                    0             7  \n",
       "2                                    0             8  \n",
       "3                                    0             5  \n",
       "4                                    0             8  "
      ]
     },
     "execution_count": 63,
     "metadata": {},
     "output_type": "execute_result"
    }
   ],
   "source": [
    "socios.na.fill('-').limit(5).toPandas() # Substituindo os NA, de acordo com o tipo da variável"
   ]
  },
  {
   "cell_type": "markdown",
   "metadata": {
    "id": "m_NMPijDgp97"
   },
   "source": [
    "## Ordenando os dados\n",
    "\n",
    "[DataFrame.orderBy(*cols, **kwargs)](https://spark.apache.org/docs/latest/api/python/reference/api/pyspark.sql.DataFrame.orderBy.html)"
   ]
  },
  {
   "cell_type": "code",
   "execution_count": 67,
   "metadata": {
    "id": "RiEEP4eTd9K_"
   },
   "outputs": [
    {
     "name": "stderr",
     "output_type": "stream",
     "text": [
      "                                                                                \r"
     ]
    },
    {
     "data": {
      "text/html": [
       "<div>\n",
       "<style scoped>\n",
       "    .dataframe tbody tr th:only-of-type {\n",
       "        vertical-align: middle;\n",
       "    }\n",
       "\n",
       "    .dataframe tbody tr th {\n",
       "        vertical-align: top;\n",
       "    }\n",
       "\n",
       "    .dataframe thead th {\n",
       "        text-align: right;\n",
       "    }\n",
       "</style>\n",
       "<table border=\"1\" class=\"dataframe\">\n",
       "  <thead>\n",
       "    <tr style=\"text-align: right;\">\n",
       "      <th></th>\n",
       "      <th>nome_do_socio_ou_razao_social</th>\n",
       "      <th>faixa_etaria</th>\n",
       "      <th>ano_de_entrada</th>\n",
       "    </tr>\n",
       "  </thead>\n",
       "  <tbody>\n",
       "    <tr>\n",
       "      <th>0</th>\n",
       "      <td>JOAO FRANCISCO DE AMORIM JUNCAL</td>\n",
       "      <td>3</td>\n",
       "      <td>NaN</td>\n",
       "    </tr>\n",
       "    <tr>\n",
       "      <th>1</th>\n",
       "      <td>NAIR YOKO HIRAI TAKAKI</td>\n",
       "      <td>7</td>\n",
       "      <td>1900.0</td>\n",
       "    </tr>\n",
       "    <tr>\n",
       "      <th>2</th>\n",
       "      <td>MARIA SILENE BEZERRA DE AGUIAR</td>\n",
       "      <td>8</td>\n",
       "      <td>1900.0</td>\n",
       "    </tr>\n",
       "    <tr>\n",
       "      <th>3</th>\n",
       "      <td>JOSE NELSON VIEIRA CAMPOS</td>\n",
       "      <td>6</td>\n",
       "      <td>1901.0</td>\n",
       "    </tr>\n",
       "    <tr>\n",
       "      <th>4</th>\n",
       "      <td>VALMAR CARDOSO DE SANTANA</td>\n",
       "      <td>5</td>\n",
       "      <td>1901.0</td>\n",
       "    </tr>\n",
       "    <tr>\n",
       "      <th>5</th>\n",
       "      <td>ANTERO DA SILVA RAMALHO CRUZ</td>\n",
       "      <td>9</td>\n",
       "      <td>1918.0</td>\n",
       "    </tr>\n",
       "    <tr>\n",
       "      <th>6</th>\n",
       "      <td>MILTON MARCHETTI FILHO</td>\n",
       "      <td>7</td>\n",
       "      <td>1919.0</td>\n",
       "    </tr>\n",
       "    <tr>\n",
       "      <th>7</th>\n",
       "      <td>MARCIA REGINA KLEFENS MARCHETTI</td>\n",
       "      <td>7</td>\n",
       "      <td>1919.0</td>\n",
       "    </tr>\n",
       "    <tr>\n",
       "      <th>8</th>\n",
       "      <td>PAULO ALCANTARA DO AMARAL</td>\n",
       "      <td>6</td>\n",
       "      <td>1922.0</td>\n",
       "    </tr>\n",
       "    <tr>\n",
       "      <th>9</th>\n",
       "      <td>WANDA GASPE</td>\n",
       "      <td>8</td>\n",
       "      <td>1937.0</td>\n",
       "    </tr>\n",
       "  </tbody>\n",
       "</table>\n",
       "</div>"
      ],
      "text/plain": [
       "     nome_do_socio_ou_razao_social  faixa_etaria  ano_de_entrada\n",
       "0  JOAO FRANCISCO DE AMORIM JUNCAL             3             NaN\n",
       "1           NAIR YOKO HIRAI TAKAKI             7          1900.0\n",
       "2   MARIA SILENE BEZERRA DE AGUIAR             8          1900.0\n",
       "3        JOSE NELSON VIEIRA CAMPOS             6          1901.0\n",
       "4        VALMAR CARDOSO DE SANTANA             5          1901.0\n",
       "5     ANTERO DA SILVA RAMALHO CRUZ             9          1918.0\n",
       "6           MILTON MARCHETTI FILHO             7          1919.0\n",
       "7  MARCIA REGINA KLEFENS MARCHETTI             7          1919.0\n",
       "8        PAULO ALCANTARA DO AMARAL             6          1922.0\n",
       "9                      WANDA GASPE             8          1937.0"
      ]
     },
     "execution_count": 67,
     "metadata": {},
     "output_type": "execute_result"
    }
   ],
   "source": [
    "socios\\\n",
    "    .select('nome_do_socio_ou_razao_social', 'faixa_etaria', f.year('data_de_entrada_sociedade').alias('ano_de_entrada'))\\\n",
    "    .orderBy('ano_de_entrada')\\\n",
    "    .limit(10).toPandas()"
   ]
  },
  {
   "cell_type": "code",
   "execution_count": 68,
   "metadata": {
    "id": "PZrd_p7mfFDR"
   },
   "outputs": [
    {
     "name": "stderr",
     "output_type": "stream",
     "text": [
      "                                                                                \r"
     ]
    },
    {
     "data": {
      "text/html": [
       "<div>\n",
       "<style scoped>\n",
       "    .dataframe tbody tr th:only-of-type {\n",
       "        vertical-align: middle;\n",
       "    }\n",
       "\n",
       "    .dataframe tbody tr th {\n",
       "        vertical-align: top;\n",
       "    }\n",
       "\n",
       "    .dataframe thead th {\n",
       "        text-align: right;\n",
       "    }\n",
       "</style>\n",
       "<table border=\"1\" class=\"dataframe\">\n",
       "  <thead>\n",
       "    <tr style=\"text-align: right;\">\n",
       "      <th></th>\n",
       "      <th>nome_do_socio_ou_razao_social</th>\n",
       "      <th>faixa_etaria</th>\n",
       "      <th>ano_de_entrada</th>\n",
       "    </tr>\n",
       "  </thead>\n",
       "  <tbody>\n",
       "    <tr>\n",
       "      <th>0</th>\n",
       "      <td>JAQUELINE MARIA GIACHINI ENGELMANN</td>\n",
       "      <td>4</td>\n",
       "      <td>2021</td>\n",
       "    </tr>\n",
       "    <tr>\n",
       "      <th>1</th>\n",
       "      <td>GUILLERMO ECHEGARAY INDA</td>\n",
       "      <td>6</td>\n",
       "      <td>2021</td>\n",
       "    </tr>\n",
       "    <tr>\n",
       "      <th>2</th>\n",
       "      <td>ELTON ROBERTO DA SILVA</td>\n",
       "      <td>5</td>\n",
       "      <td>2021</td>\n",
       "    </tr>\n",
       "    <tr>\n",
       "      <th>3</th>\n",
       "      <td>FRANCISCO ANIOMARIO REIS BARBOSA</td>\n",
       "      <td>6</td>\n",
       "      <td>2021</td>\n",
       "    </tr>\n",
       "    <tr>\n",
       "      <th>4</th>\n",
       "      <td>MARCIO AURELIO LEITE</td>\n",
       "      <td>7</td>\n",
       "      <td>2021</td>\n",
       "    </tr>\n",
       "    <tr>\n",
       "      <th>5</th>\n",
       "      <td>JULIANA GABRIELA VIEIRA PASSOS</td>\n",
       "      <td>2</td>\n",
       "      <td>2021</td>\n",
       "    </tr>\n",
       "    <tr>\n",
       "      <th>6</th>\n",
       "      <td>CLAUDIA MIDORI ARIE</td>\n",
       "      <td>3</td>\n",
       "      <td>2021</td>\n",
       "    </tr>\n",
       "    <tr>\n",
       "      <th>7</th>\n",
       "      <td>MARCELO SOARES SANTOS</td>\n",
       "      <td>5</td>\n",
       "      <td>2021</td>\n",
       "    </tr>\n",
       "    <tr>\n",
       "      <th>8</th>\n",
       "      <td>NORBERTO AGUIAR TOMAZ</td>\n",
       "      <td>7</td>\n",
       "      <td>2021</td>\n",
       "    </tr>\n",
       "    <tr>\n",
       "      <th>9</th>\n",
       "      <td>MATHEUS ROCHA SOARES</td>\n",
       "      <td>3</td>\n",
       "      <td>2021</td>\n",
       "    </tr>\n",
       "  </tbody>\n",
       "</table>\n",
       "</div>"
      ],
      "text/plain": [
       "        nome_do_socio_ou_razao_social  faixa_etaria  ano_de_entrada\n",
       "0  JAQUELINE MARIA GIACHINI ENGELMANN             4            2021\n",
       "1            GUILLERMO ECHEGARAY INDA             6            2021\n",
       "2              ELTON ROBERTO DA SILVA             5            2021\n",
       "3    FRANCISCO ANIOMARIO REIS BARBOSA             6            2021\n",
       "4                MARCIO AURELIO LEITE             7            2021\n",
       "5      JULIANA GABRIELA VIEIRA PASSOS             2            2021\n",
       "6                 CLAUDIA MIDORI ARIE             3            2021\n",
       "7               MARCELO SOARES SANTOS             5            2021\n",
       "8               NORBERTO AGUIAR TOMAZ             7            2021\n",
       "9                MATHEUS ROCHA SOARES             3            2021"
      ]
     },
     "execution_count": 68,
     "metadata": {},
     "output_type": "execute_result"
    }
   ],
   "source": [
    "socios\\\n",
    "    .select('nome_do_socio_ou_razao_social', 'faixa_etaria', f.year('data_de_entrada_sociedade').alias('ano_de_entrada'))\\\n",
    "    .orderBy('ano_de_entrada', ascending = False)\\\n",
    "    .limit(10).toPandas()"
   ]
  },
  {
   "cell_type": "code",
   "execution_count": 70,
   "metadata": {},
   "outputs": [
    {
     "name": "stderr",
     "output_type": "stream",
     "text": [
      "                                                                                \r"
     ]
    },
    {
     "data": {
      "text/html": [
       "<div>\n",
       "<style scoped>\n",
       "    .dataframe tbody tr th:only-of-type {\n",
       "        vertical-align: middle;\n",
       "    }\n",
       "\n",
       "    .dataframe tbody tr th {\n",
       "        vertical-align: top;\n",
       "    }\n",
       "\n",
       "    .dataframe thead th {\n",
       "        text-align: right;\n",
       "    }\n",
       "</style>\n",
       "<table border=\"1\" class=\"dataframe\">\n",
       "  <thead>\n",
       "    <tr style=\"text-align: right;\">\n",
       "      <th></th>\n",
       "      <th>nome_do_socio_ou_razao_social</th>\n",
       "      <th>faixa_etaria</th>\n",
       "      <th>ano_de_entrada</th>\n",
       "    </tr>\n",
       "  </thead>\n",
       "  <tbody>\n",
       "    <tr>\n",
       "      <th>0</th>\n",
       "      <td>JOAO FRANCISCO DE AMORIM JUNCAL</td>\n",
       "      <td>3</td>\n",
       "      <td>NaN</td>\n",
       "    </tr>\n",
       "    <tr>\n",
       "      <th>1</th>\n",
       "      <td>NAIR YOKO HIRAI TAKAKI</td>\n",
       "      <td>7</td>\n",
       "      <td>1900.0</td>\n",
       "    </tr>\n",
       "    <tr>\n",
       "      <th>2</th>\n",
       "      <td>MARIA SILENE BEZERRA DE AGUIAR</td>\n",
       "      <td>8</td>\n",
       "      <td>1900.0</td>\n",
       "    </tr>\n",
       "    <tr>\n",
       "      <th>3</th>\n",
       "      <td>VALMAR CARDOSO DE SANTANA</td>\n",
       "      <td>5</td>\n",
       "      <td>1901.0</td>\n",
       "    </tr>\n",
       "    <tr>\n",
       "      <th>4</th>\n",
       "      <td>JOSE NELSON VIEIRA CAMPOS</td>\n",
       "      <td>6</td>\n",
       "      <td>1901.0</td>\n",
       "    </tr>\n",
       "    <tr>\n",
       "      <th>5</th>\n",
       "      <td>ANTERO DA SILVA RAMALHO CRUZ</td>\n",
       "      <td>9</td>\n",
       "      <td>1918.0</td>\n",
       "    </tr>\n",
       "    <tr>\n",
       "      <th>6</th>\n",
       "      <td>MILTON MARCHETTI FILHO</td>\n",
       "      <td>7</td>\n",
       "      <td>1919.0</td>\n",
       "    </tr>\n",
       "    <tr>\n",
       "      <th>7</th>\n",
       "      <td>MARCIA REGINA KLEFENS MARCHETTI</td>\n",
       "      <td>7</td>\n",
       "      <td>1919.0</td>\n",
       "    </tr>\n",
       "    <tr>\n",
       "      <th>8</th>\n",
       "      <td>PAULO ALCANTARA DO AMARAL</td>\n",
       "      <td>6</td>\n",
       "      <td>1922.0</td>\n",
       "    </tr>\n",
       "    <tr>\n",
       "      <th>9</th>\n",
       "      <td>JULIE DE AZEVEDO E SA MULLER CARIOBA</td>\n",
       "      <td>7</td>\n",
       "      <td>1937.0</td>\n",
       "    </tr>\n",
       "  </tbody>\n",
       "</table>\n",
       "</div>"
      ],
      "text/plain": [
       "          nome_do_socio_ou_razao_social  faixa_etaria  ano_de_entrada\n",
       "0       JOAO FRANCISCO DE AMORIM JUNCAL             3             NaN\n",
       "1                NAIR YOKO HIRAI TAKAKI             7          1900.0\n",
       "2        MARIA SILENE BEZERRA DE AGUIAR             8          1900.0\n",
       "3             VALMAR CARDOSO DE SANTANA             5          1901.0\n",
       "4             JOSE NELSON VIEIRA CAMPOS             6          1901.0\n",
       "5          ANTERO DA SILVA RAMALHO CRUZ             9          1918.0\n",
       "6                MILTON MARCHETTI FILHO             7          1919.0\n",
       "7       MARCIA REGINA KLEFENS MARCHETTI             7          1919.0\n",
       "8             PAULO ALCANTARA DO AMARAL             6          1922.0\n",
       "9  JULIE DE AZEVEDO E SA MULLER CARIOBA             7          1937.0"
      ]
     },
     "execution_count": 70,
     "metadata": {},
     "output_type": "execute_result"
    }
   ],
   "source": [
    "socios\\\n",
    "    .select('nome_do_socio_ou_razao_social', 'faixa_etaria', f.year('data_de_entrada_sociedade').alias('ano_de_entrada'))\\\n",
    "    .orderBy(['ano_de_entrada', 'faixa_etaria'], asceding = [True, False])\\\n",
    "    .limit(10).toPandas()"
   ]
  },
  {
   "cell_type": "markdown",
   "metadata": {
    "id": "DeMk86UGhZvc"
   },
   "source": [
    "## Filtrando os dados\n",
    "\n",
    "[DataFrame.where(condition)](https://spark.apache.org/docs/latest/api/python/reference/api/pyspark.sql.DataFrame.where.html) ou [DataFrame.filter(condition)](https://spark.apache.org/docs/latest/api/python/reference/api/pyspark.sql.DataFrame.filter.html)"
   ]
  },
  {
   "cell_type": "code",
   "execution_count": 71,
   "metadata": {
    "id": "Y6ZHVYBHjPa5"
   },
   "outputs": [
    {
     "data": {
      "text/html": [
       "<div>\n",
       "<style scoped>\n",
       "    .dataframe tbody tr th:only-of-type {\n",
       "        vertical-align: middle;\n",
       "    }\n",
       "\n",
       "    .dataframe tbody tr th {\n",
       "        vertical-align: top;\n",
       "    }\n",
       "\n",
       "    .dataframe thead th {\n",
       "        text-align: right;\n",
       "    }\n",
       "</style>\n",
       "<table border=\"1\" class=\"dataframe\">\n",
       "  <thead>\n",
       "    <tr style=\"text-align: right;\">\n",
       "      <th></th>\n",
       "      <th>cnpj_basico</th>\n",
       "      <th>razao_social_nome_empresarial</th>\n",
       "      <th>natureza_juridica</th>\n",
       "      <th>qualificacao_do_responsavel</th>\n",
       "      <th>capital_social_da_empresa</th>\n",
       "      <th>porte_da_empresa</th>\n",
       "      <th>ente_federativo_responsavel</th>\n",
       "    </tr>\n",
       "  </thead>\n",
       "  <tbody>\n",
       "    <tr>\n",
       "      <th>0</th>\n",
       "      <td>17350147</td>\n",
       "      <td>ERIK MARCELO DOS SANTOS 42107848858</td>\n",
       "      <td>2135</td>\n",
       "      <td>50</td>\n",
       "      <td>50.0</td>\n",
       "      <td>1</td>\n",
       "      <td>None</td>\n",
       "    </tr>\n",
       "    <tr>\n",
       "      <th>1</th>\n",
       "      <td>17833214</td>\n",
       "      <td>ALEXANDRE MACHADO LIMA 73750123772</td>\n",
       "      <td>2135</td>\n",
       "      <td>50</td>\n",
       "      <td>50.0</td>\n",
       "      <td>1</td>\n",
       "      <td>None</td>\n",
       "    </tr>\n",
       "    <tr>\n",
       "      <th>2</th>\n",
       "      <td>20860830</td>\n",
       "      <td>YASMIN MOURA DA FONSECA 13457709793</td>\n",
       "      <td>2135</td>\n",
       "      <td>50</td>\n",
       "      <td>50.0</td>\n",
       "      <td>1</td>\n",
       "      <td>None</td>\n",
       "    </tr>\n",
       "    <tr>\n",
       "      <th>3</th>\n",
       "      <td>22242856</td>\n",
       "      <td>JOAO CESAR MESSIAS 08707149883</td>\n",
       "      <td>2135</td>\n",
       "      <td>50</td>\n",
       "      <td>50.0</td>\n",
       "      <td>1</td>\n",
       "      <td>None</td>\n",
       "    </tr>\n",
       "    <tr>\n",
       "      <th>4</th>\n",
       "      <td>23238540</td>\n",
       "      <td>EVERTON ROBERTO DA SILVA 42101963809</td>\n",
       "      <td>2135</td>\n",
       "      <td>50</td>\n",
       "      <td>50.0</td>\n",
       "      <td>1</td>\n",
       "      <td>None</td>\n",
       "    </tr>\n",
       "  </tbody>\n",
       "</table>\n",
       "</div>"
      ],
      "text/plain": [
       "   cnpj_basico         razao_social_nome_empresarial  natureza_juridica  \\\n",
       "0     17350147   ERIK MARCELO DOS SANTOS 42107848858               2135   \n",
       "1     17833214    ALEXANDRE MACHADO LIMA 73750123772               2135   \n",
       "2     20860830   YASMIN MOURA DA FONSECA 13457709793               2135   \n",
       "3     22242856        JOAO CESAR MESSIAS 08707149883               2135   \n",
       "4     23238540  EVERTON ROBERTO DA SILVA 42101963809               2135   \n",
       "\n",
       "   qualificacao_do_responsavel  capital_social_da_empresa  porte_da_empresa  \\\n",
       "0                           50                       50.0                 1   \n",
       "1                           50                       50.0                 1   \n",
       "2                           50                       50.0                 1   \n",
       "3                           50                       50.0                 1   \n",
       "4                           50                       50.0                 1   \n",
       "\n",
       "  ente_federativo_responsavel  \n",
       "0                        None  \n",
       "1                        None  \n",
       "2                        None  \n",
       "3                        None  \n",
       "4                        None  "
      ]
     },
     "execution_count": 71,
     "metadata": {},
     "output_type": "execute_result"
    }
   ],
   "source": [
    "empresas\\\n",
    "    .where('capital_social_da_empresa == 50')\\\n",
    "    .limit(5).toPandas()"
   ]
  },
  {
   "cell_type": "code",
   "execution_count": 72,
   "metadata": {
    "id": "Z6tE7LiKXT1I"
   },
   "outputs": [
    {
     "data": {
      "text/html": [
       "<div>\n",
       "<style scoped>\n",
       "    .dataframe tbody tr th:only-of-type {\n",
       "        vertical-align: middle;\n",
       "    }\n",
       "\n",
       "    .dataframe tbody tr th {\n",
       "        vertical-align: top;\n",
       "    }\n",
       "\n",
       "    .dataframe thead th {\n",
       "        text-align: right;\n",
       "    }\n",
       "</style>\n",
       "<table border=\"1\" class=\"dataframe\">\n",
       "  <thead>\n",
       "    <tr style=\"text-align: right;\">\n",
       "      <th></th>\n",
       "      <th>cnpj_basico</th>\n",
       "      <th>identificador_de_socio</th>\n",
       "      <th>nome_do_socio_ou_razao_social</th>\n",
       "      <th>cnpj_ou_cpf_do_socio</th>\n",
       "      <th>qualificacao_do_socio</th>\n",
       "      <th>data_de_entrada_sociedade</th>\n",
       "      <th>pais</th>\n",
       "      <th>representante_legal</th>\n",
       "      <th>nome_do_representante</th>\n",
       "      <th>qualificacao_do_representante_legal</th>\n",
       "      <th>faixa_etaria</th>\n",
       "    </tr>\n",
       "  </thead>\n",
       "  <tbody>\n",
       "    <tr>\n",
       "      <th>0</th>\n",
       "      <td>24615559</td>\n",
       "      <td>2</td>\n",
       "      <td>RODRIGO BENASSI DIAS</td>\n",
       "      <td>***390078**</td>\n",
       "      <td>5</td>\n",
       "      <td>2016-04-18</td>\n",
       "      <td>None</td>\n",
       "      <td>***000000**</td>\n",
       "      <td>None</td>\n",
       "      <td>0</td>\n",
       "      <td>5</td>\n",
       "    </tr>\n",
       "    <tr>\n",
       "      <th>1</th>\n",
       "      <td>9201777</td>\n",
       "      <td>2</td>\n",
       "      <td>RODRIGO RUDIBERTO DIAS</td>\n",
       "      <td>***668809**</td>\n",
       "      <td>22</td>\n",
       "      <td>2010-05-20</td>\n",
       "      <td>None</td>\n",
       "      <td>***000000**</td>\n",
       "      <td>None</td>\n",
       "      <td>0</td>\n",
       "      <td>3</td>\n",
       "    </tr>\n",
       "    <tr>\n",
       "      <th>2</th>\n",
       "      <td>10479364</td>\n",
       "      <td>2</td>\n",
       "      <td>RODRIGO AURELIANO DIAS</td>\n",
       "      <td>***233809**</td>\n",
       "      <td>49</td>\n",
       "      <td>2013-08-30</td>\n",
       "      <td>None</td>\n",
       "      <td>***000000**</td>\n",
       "      <td>None</td>\n",
       "      <td>0</td>\n",
       "      <td>3</td>\n",
       "    </tr>\n",
       "    <tr>\n",
       "      <th>3</th>\n",
       "      <td>11165614</td>\n",
       "      <td>2</td>\n",
       "      <td>RODRIGO SIMOES LEMOS DIAS</td>\n",
       "      <td>***303326**</td>\n",
       "      <td>22</td>\n",
       "      <td>2019-12-19</td>\n",
       "      <td>None</td>\n",
       "      <td>***000000**</td>\n",
       "      <td>None</td>\n",
       "      <td>0</td>\n",
       "      <td>5</td>\n",
       "    </tr>\n",
       "    <tr>\n",
       "      <th>4</th>\n",
       "      <td>18007795</td>\n",
       "      <td>2</td>\n",
       "      <td>RODRIGO GEORGE DIAS</td>\n",
       "      <td>***581078**</td>\n",
       "      <td>49</td>\n",
       "      <td>2013-04-25</td>\n",
       "      <td>None</td>\n",
       "      <td>***000000**</td>\n",
       "      <td>None</td>\n",
       "      <td>0</td>\n",
       "      <td>5</td>\n",
       "    </tr>\n",
       "  </tbody>\n",
       "</table>\n",
       "</div>"
      ],
      "text/plain": [
       "   cnpj_basico  identificador_de_socio nome_do_socio_ou_razao_social  \\\n",
       "0     24615559                       2          RODRIGO BENASSI DIAS   \n",
       "1      9201777                       2        RODRIGO RUDIBERTO DIAS   \n",
       "2     10479364                       2        RODRIGO AURELIANO DIAS   \n",
       "3     11165614                       2     RODRIGO SIMOES LEMOS DIAS   \n",
       "4     18007795                       2           RODRIGO GEORGE DIAS   \n",
       "\n",
       "  cnpj_ou_cpf_do_socio  qualificacao_do_socio data_de_entrada_sociedade  pais  \\\n",
       "0          ***390078**                      5                2016-04-18  None   \n",
       "1          ***668809**                     22                2010-05-20  None   \n",
       "2          ***233809**                     49                2013-08-30  None   \n",
       "3          ***303326**                     22                2019-12-19  None   \n",
       "4          ***581078**                     49                2013-04-25  None   \n",
       "\n",
       "  representante_legal nome_do_representante  \\\n",
       "0         ***000000**                  None   \n",
       "1         ***000000**                  None   \n",
       "2         ***000000**                  None   \n",
       "3         ***000000**                  None   \n",
       "4         ***000000**                  None   \n",
       "\n",
       "   qualificacao_do_representante_legal  faixa_etaria  \n",
       "0                                    0             5  \n",
       "1                                    0             3  \n",
       "2                                    0             3  \n",
       "3                                    0             5  \n",
       "4                                    0             5  "
      ]
     },
     "execution_count": 72,
     "metadata": {},
     "output_type": "execute_result"
    }
   ],
   "source": [
    "socios\\\n",
    "    .filter(socios.nome_do_socio_ou_razao_social.startswith('RODRIGO'))\\ # Começa com\n",
    "    .filter(socios.nome_do_socio_ou_razao_social.endswith('DIAS'))\\ # Termina com\n",
    "    .limit(5).toPandas()"
   ]
  },
  {
   "cell_type": "markdown",
   "metadata": {
    "id": "WJ_FrfbOK-1a"
   },
   "source": [
    "## O comando LIKE\n",
    "\n",
    "[Column.like(other)](https://spark.apache.org/docs/latest/api/python/reference/api/pyspark.sql.Column.like.html)"
   ]
  },
  {
   "cell_type": "code",
   "execution_count": 11,
   "metadata": {
    "id": "R3sMWIEIQLY7"
   },
   "outputs": [
    {
     "name": "stderr",
     "output_type": "stream",
     "text": [
      "\r",
      "[Stage 6:>                                                          (0 + 4) / 4]\r",
      "                                                                                \r"
     ]
    },
    {
     "data": {
      "text/html": [
       "<div>\n",
       "<style scoped>\n",
       "    .dataframe tbody tr th:only-of-type {\n",
       "        vertical-align: middle;\n",
       "    }\n",
       "\n",
       "    .dataframe tbody tr th {\n",
       "        vertical-align: top;\n",
       "    }\n",
       "\n",
       "    .dataframe thead th {\n",
       "        text-align: right;\n",
       "    }\n",
       "</style>\n",
       "<table border=\"1\" class=\"dataframe\">\n",
       "  <thead>\n",
       "    <tr style=\"text-align: right;\">\n",
       "      <th></th>\n",
       "      <th>data</th>\n",
       "    </tr>\n",
       "  </thead>\n",
       "  <tbody>\n",
       "    <tr>\n",
       "      <th>0</th>\n",
       "      <td>RESTAURANTE DO RUI</td>\n",
       "    </tr>\n",
       "    <tr>\n",
       "      <th>1</th>\n",
       "      <td>Juca restaurantes ltda</td>\n",
       "    </tr>\n",
       "    <tr>\n",
       "      <th>2</th>\n",
       "      <td>Joca Restaurante</td>\n",
       "    </tr>\n",
       "  </tbody>\n",
       "</table>\n",
       "</div>"
      ],
      "text/plain": [
       "                     data\n",
       "0      RESTAURANTE DO RUI\n",
       "1  Juca restaurantes ltda\n",
       "2        Joca Restaurante"
      ]
     },
     "execution_count": 11,
     "metadata": {},
     "output_type": "execute_result"
    }
   ],
   "source": [
    "df = spark.createDataFrame([('RESTAURANTE DO RUI',), ('Juca restaurantes ltda',), ('Joca Restaurante',)], ['data'])\n",
    "df.toPandas()"
   ]
  },
  {
   "cell_type": "code",
   "execution_count": 16,
   "metadata": {
    "id": "Zfc1p_pEQ1UJ"
   },
   "outputs": [
    {
     "name": "stdout",
     "output_type": "stream",
     "text": [
      "+----------------------+\n",
      "|data                  |\n",
      "+----------------------+\n",
      "|RESTAURANTE DO RUI    |\n",
      "|Juca restaurantes ltda|\n",
      "|Joca Restaurante      |\n",
      "+----------------------+\n",
      "\n"
     ]
    }
   ],
   "source": [
    "df\\\n",
    "   .where(f.upper(df.data).like('%RESTAURANTE%'))\\\n",
    "   .show(truncate = False)"
   ]
  },
  {
   "cell_type": "code",
   "execution_count": 17,
   "metadata": {
    "id": "eHqcmjIxGlIF"
   },
   "outputs": [
    {
     "name": "stdout",
     "output_type": "stream",
     "text": [
      "+------------------+\n",
      "|data              |\n",
      "+------------------+\n",
      "|RESTAURANTE DO RUI|\n",
      "+------------------+\n",
      "\n"
     ]
    }
   ],
   "source": [
    "df\\\n",
    "   .where(f.upper(df.data).like('RESTAURANTE%'))\\\n",
    "   .show(truncate = False)"
   ]
  },
  {
   "cell_type": "code",
   "execution_count": 18,
   "metadata": {},
   "outputs": [
    {
     "name": "stdout",
     "output_type": "stream",
     "text": [
      "+----------------+\n",
      "|data            |\n",
      "+----------------+\n",
      "|Joca Restaurante|\n",
      "+----------------+\n",
      "\n"
     ]
    }
   ],
   "source": [
    "df\\\n",
    "   .where(f.upper(df.data).like('%RESTAURANTE'))\\\n",
    "   .show(truncate = False)"
   ]
  },
  {
   "cell_type": "code",
   "execution_count": 20,
   "metadata": {},
   "outputs": [
    {
     "data": {
      "text/html": [
       "<div>\n",
       "<style scoped>\n",
       "    .dataframe tbody tr th:only-of-type {\n",
       "        vertical-align: middle;\n",
       "    }\n",
       "\n",
       "    .dataframe tbody tr th {\n",
       "        vertical-align: top;\n",
       "    }\n",
       "\n",
       "    .dataframe thead th {\n",
       "        text-align: right;\n",
       "    }\n",
       "</style>\n",
       "<table border=\"1\" class=\"dataframe\">\n",
       "  <thead>\n",
       "    <tr style=\"text-align: right;\">\n",
       "      <th></th>\n",
       "      <th>razao_social_nome_empresarial</th>\n",
       "      <th>natureza_juridica</th>\n",
       "      <th>porte_da_empresa</th>\n",
       "      <th>capital_social_da_empresa</th>\n",
       "    </tr>\n",
       "  </thead>\n",
       "  <tbody>\n",
       "    <tr>\n",
       "      <th>0</th>\n",
       "      <td>RESTAURANTE IMIGRANTE PORTUGUES LTDA.</td>\n",
       "      <td>2062</td>\n",
       "      <td>5</td>\n",
       "      <td>0,00</td>\n",
       "    </tr>\n",
       "    <tr>\n",
       "      <th>1</th>\n",
       "      <td>MORAIS &amp; CARVALHO RESTAURANTE E PIZZARIA LTDA</td>\n",
       "      <td>2062</td>\n",
       "      <td>1</td>\n",
       "      <td>0,00</td>\n",
       "    </tr>\n",
       "    <tr>\n",
       "      <th>2</th>\n",
       "      <td>BAR E RESTAURANTE PAGANOTTO LTDA</td>\n",
       "      <td>2062</td>\n",
       "      <td>5</td>\n",
       "      <td>0,00</td>\n",
       "    </tr>\n",
       "    <tr>\n",
       "      <th>3</th>\n",
       "      <td>RODRIGUES &amp; RODRIGUES RESTAURANTE LTDA</td>\n",
       "      <td>2062</td>\n",
       "      <td>5</td>\n",
       "      <td>0,00</td>\n",
       "    </tr>\n",
       "    <tr>\n",
       "      <th>4</th>\n",
       "      <td>TEXAS RANCH BAR RESTAURANTE PRODUCOES ARTISTIC...</td>\n",
       "      <td>2062</td>\n",
       "      <td>1</td>\n",
       "      <td>0,00</td>\n",
       "    </tr>\n",
       "    <tr>\n",
       "      <th>5</th>\n",
       "      <td>V V SANTOS RESTAURANTE BAR E ATIV DESPORTIVAS ...</td>\n",
       "      <td>2062</td>\n",
       "      <td>1</td>\n",
       "      <td>0,00</td>\n",
       "    </tr>\n",
       "    <tr>\n",
       "      <th>6</th>\n",
       "      <td>BAR E RESTAURANTE CASA DA QUINTA LTDA</td>\n",
       "      <td>2062</td>\n",
       "      <td>1</td>\n",
       "      <td>5000,00</td>\n",
       "    </tr>\n",
       "    <tr>\n",
       "      <th>7</th>\n",
       "      <td>DON MUGO RESTAURANTE LTDA</td>\n",
       "      <td>2062</td>\n",
       "      <td>1</td>\n",
       "      <td>10000,00</td>\n",
       "    </tr>\n",
       "    <tr>\n",
       "      <th>8</th>\n",
       "      <td>MARIA ROZA DOS SANTOS- BAR E RESTAURANTE</td>\n",
       "      <td>2135</td>\n",
       "      <td>5</td>\n",
       "      <td>0,00</td>\n",
       "    </tr>\n",
       "    <tr>\n",
       "      <th>9</th>\n",
       "      <td>GERACAO DE OURO - BAR E RESTAURANTE LTDA</td>\n",
       "      <td>2062</td>\n",
       "      <td>5</td>\n",
       "      <td>40000,00</td>\n",
       "    </tr>\n",
       "  </tbody>\n",
       "</table>\n",
       "</div>"
      ],
      "text/plain": [
       "                       razao_social_nome_empresarial  natureza_juridica  \\\n",
       "0              RESTAURANTE IMIGRANTE PORTUGUES LTDA.               2062   \n",
       "1      MORAIS & CARVALHO RESTAURANTE E PIZZARIA LTDA               2062   \n",
       "2                   BAR E RESTAURANTE PAGANOTTO LTDA               2062   \n",
       "3             RODRIGUES & RODRIGUES RESTAURANTE LTDA               2062   \n",
       "4  TEXAS RANCH BAR RESTAURANTE PRODUCOES ARTISTIC...               2062   \n",
       "5  V V SANTOS RESTAURANTE BAR E ATIV DESPORTIVAS ...               2062   \n",
       "6              BAR E RESTAURANTE CASA DA QUINTA LTDA               2062   \n",
       "7                          DON MUGO RESTAURANTE LTDA               2062   \n",
       "8           MARIA ROZA DOS SANTOS- BAR E RESTAURANTE               2135   \n",
       "9           GERACAO DE OURO - BAR E RESTAURANTE LTDA               2062   \n",
       "\n",
       "   porte_da_empresa capital_social_da_empresa  \n",
       "0                 5                      0,00  \n",
       "1                 1                      0,00  \n",
       "2                 5                      0,00  \n",
       "3                 5                      0,00  \n",
       "4                 1                      0,00  \n",
       "5                 1                      0,00  \n",
       "6                 1                   5000,00  \n",
       "7                 1                  10000,00  \n",
       "8                 5                      0,00  \n",
       "9                 5                  40000,00  "
      ]
     },
     "execution_count": 20,
     "metadata": {},
     "output_type": "execute_result"
    }
   ],
   "source": [
    "empresas\\\n",
    "    .select('razao_social_nome_empresarial', 'natureza_juridica', 'porte_da_empresa', 'capital_social_da_empresa')\\\n",
    "    .filter(f.upper(f.col('razao_social_nome_empresarial')).like('%RESTAURANTE%'))\\\n",
    "    .limit(10).toPandas()"
   ]
  },
  {
   "cell_type": "markdown",
   "metadata": {
    "id": "uiyZCFaEQPtQ"
   },
   "source": [
    "# Agregações e Junções\n",
    "---\n",
    "\n",
    "[DataFrame.groupBy(*cols)](https://spark.apache.org/docs/latest/api/python/reference/api/pyspark.sql.DataFrame.groupBy.html)\n",
    "\n",
    "[DataFrame.agg(*exprs)](https://spark.apache.org/docs/latest/api/python/reference/api/pyspark.sql.DataFrame.agg.html)\n",
    "\n",
    "[DataFrame.summary(*statistics)](https://spark.apache.org/docs/latest/api/python/reference/api/pyspark.sql.DataFrame.summary.html)\n",
    "\n",
    "> Funções:\n",
    "[approx_count_distinct](https://spark.apache.org/docs/latest/api/python/reference/api/pyspark.sql.functions.approx_count_distinct.html) | \n",
    "[avg](https://spark.apache.org/docs/latest/api/python/reference/api/pyspark.sql.functions.avg.html) | \n",
    "[collect_list](https://spark.apache.org/docs/latest/api/python/reference/api/pyspark.sql.functions.collect_list.html) | \n",
    "[collect_set](https://spark.apache.org/docs/latest/api/python/reference/api/pyspark.sql.functions.collect_set.html) | \n",
    "[countDistinct](https://spark.apache.org/docs/latest/api/python/reference/api/pyspark.sql.functions.countDistinct.html) | \n",
    "[count](https://spark.apache.org/docs/latest/api/python/reference/api/pyspark.sql.functions.count.html) | \n",
    "[grouping](https://spark.apache.org/docs/latest/api/python/reference/api/pyspark.sql.functions.grouping.html) | \n",
    "[first](https://spark.apache.org/docs/latest/api/python/reference/api/pyspark.sql.functions.first.html) | \n",
    "[last](https://spark.apache.org/docs/latest/api/python/reference/api/pyspark.sql.functions.last.html) | \n",
    "[kurtosis](https://spark.apache.org/docs/latest/api/python/reference/api/pyspark.sql.functions.kurtosis.html) | \n",
    "[max](https://spark.apache.org/docs/latest/api/python/reference/api/pyspark.sql.functions.max.html) | \n",
    "[min](https://spark.apache.org/docs/latest/api/python/reference/api/pyspark.sql.functions.min.html) | \n",
    "[mean](https://spark.apache.org/docs/latest/api/python/reference/api/pyspark.sql.functions.mean.html) | \n",
    "[skewness](https://spark.apache.org/docs/latest/api/python/reference/api/pyspark.sql.functions.skewness.html) | \n",
    "[stddev ou stddev_samp](https://spark.apache.org/docs/latest/api/python/reference/api/pyspark.sql.functions.stddev.html) | \n",
    "[stddev_pop](https://spark.apache.org/docs/latest/api/python/reference/api/pyspark.sql.functions.stddev_pop.html) | \n",
    "[sum](https://spark.apache.org/docs/latest/api/python/reference/api/pyspark.sql.functions.sum.html) | \n",
    "[sumDistinct](https://spark.apache.org/docs/latest/api/python/reference/api/pyspark.sql.functions.sumDistinct.html) | \n",
    "[variance ou var_samp](https://spark.apache.org/docs/latest/api/python/reference/api/pyspark.sql.functions.variance.html) | \n",
    "[var_pop](https://spark.apache.org/docs/latest/api/python/reference/api/pyspark.sql.functions.var_pop.html)"
   ]
  },
  {
   "cell_type": "markdown",
   "metadata": {
    "id": "Mc6YDFOkywQc"
   },
   "source": [
    "## Sumarizando os dados"
   ]
  },
  {
   "cell_type": "code",
   "execution_count": 29,
   "metadata": {
    "id": "o8p8BS7QQKfS"
   },
   "outputs": [
    {
     "name": "stderr",
     "output_type": "stream",
     "text": [
      "[Stage 18:==============================================>           (4 + 1) / 5]"
     ]
    },
    {
     "name": "stdout",
     "output_type": "stream",
     "text": [
      "+--------------+------+\n",
      "|ano_de_entrada| count|\n",
      "+--------------+------+\n",
      "|          2010| 79337|\n",
      "|          2011| 83906|\n",
      "|          2012| 80101|\n",
      "|          2013| 83919|\n",
      "|          2014| 80590|\n",
      "|          2015| 80906|\n",
      "|          2016| 81587|\n",
      "|          2017| 90221|\n",
      "|          2018| 99935|\n",
      "|          2019|118248|\n",
      "|          2020|125927|\n",
      "|          2021| 56316|\n",
      "+--------------+------+\n",
      "\n"
     ]
    },
    {
     "name": "stderr",
     "output_type": "stream",
     "text": [
      "\r",
      "[Stage 19:=============================================>        (170 + 5) / 200]\r",
      "                                                                                \r"
     ]
    }
   ],
   "source": [
    "socios\\\n",
    "    .select(f.year('data_de_entrada_sociedade').alias('ano_de_entrada'))\\\n",
    "    .where('ano_de_entrada >= 2010')\\\n",
    "    .groupby('ano_de_entrada')\\\n",
    "    .count()\\\n",
    "    .orderBy('ano_de_entrada')\\\n",
    "    .show()"
   ]
  },
  {
   "cell_type": "code",
   "execution_count": 30,
   "metadata": {
    "id": "xlAbbR4SdZHw"
   },
   "outputs": [
    {
     "name": "stderr",
     "output_type": "stream",
     "text": [
      "[Stage 20:==============================================>           (4 + 1) / 5]"
     ]
    },
    {
     "name": "stdout",
     "output_type": "stream",
     "text": [
      "+----------------+--------------------+----------+\n",
      "|porte_da_empresa|capital_social_medio|frequência|\n",
      "+----------------+--------------------+----------+\n",
      "|            null|    8.35421888053467|      5985|\n",
      "|               1|  339994.53313507006|   3129043|\n",
      "|               3|   2601001.767709269|    115151|\n",
      "|               5|   708660.4208249792|   1335500|\n",
      "+----------------+--------------------+----------+\n",
      "\n"
     ]
    },
    {
     "name": "stderr",
     "output_type": "stream",
     "text": [
      "\r",
      "[Stage 21:========================================>             (150 + 5) / 200]\r",
      "                                                                                \r"
     ]
    }
   ],
   "source": [
    "empresas\\\n",
    "    .groupby('porte_da_empresa')\\\n",
    "    .agg(\n",
    "        f.avg('capital_social_da_empresa').alias('capital_social_medio'),\n",
    "        f.count('cnpj_basico').alias('frequência')\n",
    "    )\\\n",
    "    .orderBy('porte_da_empresa')\\\n",
    "    .show()"
   ]
  },
  {
   "cell_type": "code",
   "execution_count": 31,
   "metadata": {
    "id": "_oOOQPUqNiRZ"
   },
   "outputs": [
    {
     "name": "stderr",
     "output_type": "stream",
     "text": [
      "[Stage 22:==============================================>           (4 + 1) / 5]"
     ]
    },
    {
     "name": "stdout",
     "output_type": "stream",
     "text": [
      "+-------+-------------------------+\n",
      "|summary|capital_social_da_empresa|\n",
      "+-------+-------------------------+\n",
      "|  count|                  4585679|\n",
      "|   mean|        503694.5478542677|\n",
      "| stddev|      2.111869149053794E8|\n",
      "|    min|                      0.0|\n",
      "|    25%|                      0.0|\n",
      "|    50%|                   1000.0|\n",
      "|    75%|                   7000.0|\n",
      "|    max|         3.22014670262E11|\n",
      "+-------+-------------------------+\n",
      "\n"
     ]
    },
    {
     "name": "stderr",
     "output_type": "stream",
     "text": [
      "\r",
      "                                                                                \r"
     ]
    }
   ],
   "source": [
    "empresas\\\n",
    "    .select('capital_social_da_empresa')\\\n",
    "    .summary()\\\n",
    "    .show()\n",
    "\n",
    "# .summary('count', 'mean', 'stddev', 'min', '25%', '50%', '75%', 'max') - Também dá para escolher as informações;"
   ]
  },
  {
   "cell_type": "code",
   "execution_count": 32,
   "metadata": {},
   "outputs": [
    {
     "name": "stderr",
     "output_type": "stream",
     "text": [
      "[Stage 24:==============================================>           (4 + 1) / 5]"
     ]
    },
    {
     "name": "stdout",
     "output_type": "stream",
     "text": [
      "+-------+-------------------------+\n",
      "|summary|capital_social_da_empresa|\n",
      "+-------+-------------------------+\n",
      "|  count|                  4585679|\n",
      "|   mean|        503694.5478542677|\n",
      "| stddev|      2.111869149053794E8|\n",
      "|    min|                      0.0|\n",
      "|    max|         3.22014670262E11|\n",
      "+-------+-------------------------+\n",
      "\n"
     ]
    },
    {
     "name": "stderr",
     "output_type": "stream",
     "text": [
      "\r",
      "                                                                                \r"
     ]
    }
   ],
   "source": [
    "empresas\\\n",
    "    .select('capital_social_da_empresa')\\\n",
    "    .describe()\\\n",
    "    .show()"
   ]
  },
  {
   "cell_type": "code",
   "execution_count": 45,
   "metadata": {},
   "outputs": [
    {
     "name": "stderr",
     "output_type": "stream",
     "text": [
      "[Stage 35:==============================================>           (4 + 1) / 5]"
     ]
    },
    {
     "name": "stdout",
     "output_type": "stream",
     "text": [
      "+-------+-----------------------------+\n",
      "|summary|nome_do_socio_ou_razao_social|\n",
      "+-------+-----------------------------+\n",
      "|  count|                      2046222|\n",
      "|   mean|                         null|\n",
      "| stddev|                         null|\n",
      "|    min|         '' PROTENDE '' SI...|\n",
      "|    25%|                         null|\n",
      "|    50%|                         null|\n",
      "|    75%|                         null|\n",
      "|    max|         iDtrust Tecnologi...|\n",
      "+-------+-----------------------------+\n",
      "\n"
     ]
    },
    {
     "name": "stderr",
     "output_type": "stream",
     "text": [
      "\r",
      "                                                                                \r"
     ]
    }
   ],
   "source": [
    "socios\\\n",
    "    .select('nome_do_socio_ou_razao_social')\\\n",
    "    .summary()\\\n",
    "    .show()"
   ]
  },
  {
   "cell_type": "code",
   "execution_count": 44,
   "metadata": {},
   "outputs": [
    {
     "name": "stderr",
     "output_type": "stream",
     "text": [
      "[Stage 33:==============================================>           (4 + 1) / 5]"
     ]
    },
    {
     "name": "stdout",
     "output_type": "stream",
     "text": [
      "+-------+-----------------------------+\n",
      "|summary|nome_do_socio_ou_razao_social|\n",
      "+-------+-----------------------------+\n",
      "|  count|                      2046222|\n",
      "|   mean|                         null|\n",
      "| stddev|                         null|\n",
      "|    min|         '' PROTENDE '' SI...|\n",
      "|    max|         iDtrust Tecnologi...|\n",
      "+-------+-----------------------------+\n",
      "\n"
     ]
    },
    {
     "name": "stderr",
     "output_type": "stream",
     "text": [
      "\r",
      "                                                                                \r"
     ]
    }
   ],
   "source": [
    "socios\\\n",
    "    .select('nome_do_socio_ou_razao_social')\\\n",
    "    .describe()\\\n",
    "    .show()"
   ]
  },
  {
   "cell_type": "markdown",
   "metadata": {
    "id": "rOCWSMepX5jN"
   },
   "source": [
    "## Juntando DataFrames - Joins\n",
    "\n",
    "[DataFrame.join(*args)](https://spark.apache.org/docs/latest/api/python/reference/api/pyspark.sql.DataFrame.join.html)"
   ]
  },
  {
   "cell_type": "code",
   "execution_count": 46,
   "metadata": {
    "id": "6uklRCkDX4Tf"
   },
   "outputs": [],
   "source": [
    "produtos = spark.createDataFrame(\n",
    "    [\n",
    "        ('1', 'Bebidas', 'Água mineral'),\n",
    "        ('2', 'Limpeza', 'Sabão em pó'),\n",
    "        ('3', 'Frios', 'Queijo'),\n",
    "        ('4', 'Bebidas', 'Refrigerante'),\n",
    "        ('5', 'Pet', 'Ração para cães')\n",
    "    ],\n",
    "    ['id', 'cat', 'prod']\n",
    ")\n",
    "\n",
    "impostos = spark.createDataFrame(\n",
    "    [\n",
    "        ('Bebidas', 0.15),\n",
    "        ('Limpeza', 0.05),\n",
    "        ('Frios', 0.065),\n",
    "        ('Carnes', 0.08)\n",
    "    ],\n",
    "    ['cat', 'tax']\n",
    ")"
   ]
  },
  {
   "cell_type": "code",
   "execution_count": 47,
   "metadata": {
    "id": "eCMHBCrokoc3"
   },
   "outputs": [
    {
     "name": "stdout",
     "output_type": "stream",
     "text": [
      "+-------+---+------------+-----+\n",
      "|    cat| id|        prod|  tax|\n",
      "+-------+---+------------+-----+\n",
      "|Bebidas|  1|Água mineral| 0.15|\n",
      "|Limpeza|  2| Sabão em pó| 0.05|\n",
      "|  Frios|  3|      Queijo|0.065|\n",
      "|Bebidas|  4|Refrigerante| 0.15|\n",
      "+-------+---+------------+-----+\n",
      "\n"
     ]
    },
    {
     "name": "stderr",
     "output_type": "stream",
     "text": [
      "\r",
      "[Stage 39:============================================>         (165 + 4) / 200]\r",
      "                                                                                \r"
     ]
    }
   ],
   "source": [
    "produtos.join(impostos, 'cat', how = 'inner')\\ # Mostra o que tem em ambos\n",
    "    .sort('id')\\\n",
    "    .show()"
   ]
  },
  {
   "cell_type": "code",
   "execution_count": 49,
   "metadata": {
    "id": "oDaN4XFQkdsE"
   },
   "outputs": [
    {
     "name": "stdout",
     "output_type": "stream",
     "text": [
      "+-------+---+---------------+-----+\n",
      "|    cat| id|           prod|  tax|\n",
      "+-------+---+---------------+-----+\n",
      "|Bebidas|  1|   Água mineral| 0.15|\n",
      "|Limpeza|  2|    Sabão em pó| 0.05|\n",
      "|  Frios|  3|         Queijo|0.065|\n",
      "|Bebidas|  4|   Refrigerante| 0.15|\n",
      "|    Pet|  5|Ração para cães| null|\n",
      "+-------+---+---------------+-----+\n",
      "\n"
     ]
    },
    {
     "name": "stderr",
     "output_type": "stream",
     "text": [
      "\r",
      "[Stage 42:=========================================>            (154 + 4) / 200]\r",
      "                                                                                \r"
     ]
    }
   ],
   "source": [
    "produtos.join(impostos, 'cat', how = 'left')\\\n",
    "    .sort('id')\\\n",
    "    .show()"
   ]
  },
  {
   "cell_type": "code",
   "execution_count": 50,
   "metadata": {
    "id": "VyvClbqRHviC"
   },
   "outputs": [
    {
     "name": "stderr",
     "output_type": "stream",
     "text": [
      "\r",
      "[Stage 45:================================>                     (119 + 4) / 200]\r",
      "[Stage 45:==============================================>       (173 + 4) / 200]"
     ]
    },
    {
     "name": "stdout",
     "output_type": "stream",
     "text": [
      "+-------+----+------------+-----+\n",
      "|    cat|  id|        prod|  tax|\n",
      "+-------+----+------------+-----+\n",
      "| Carnes|null|        null| 0.08|\n",
      "|Bebidas|   1|Água mineral| 0.15|\n",
      "|Limpeza|   2| Sabão em pó| 0.05|\n",
      "|  Frios|   3|      Queijo|0.065|\n",
      "|Bebidas|   4|Refrigerante| 0.15|\n",
      "+-------+----+------------+-----+\n",
      "\n"
     ]
    },
    {
     "name": "stderr",
     "output_type": "stream",
     "text": [
      "\r",
      "                                                                                \r"
     ]
    }
   ],
   "source": [
    "produtos.join(impostos, 'cat', how = 'right')\\\n",
    "    .sort('id')\\\n",
    "    .show()"
   ]
  },
  {
   "cell_type": "code",
   "execution_count": 51,
   "metadata": {
    "id": "nq_pGKucIjri"
   },
   "outputs": [
    {
     "name": "stdout",
     "output_type": "stream",
     "text": [
      "+-------+----+---------------+-----+\n",
      "|    cat|  id|           prod|  tax|\n",
      "+-------+----+---------------+-----+\n",
      "| Carnes|null|           null| 0.08|\n",
      "|Bebidas|   1|   Água mineral| 0.15|\n",
      "|Limpeza|   2|    Sabão em pó| 0.05|\n",
      "|  Frios|   3|         Queijo|0.065|\n",
      "|Bebidas|   4|   Refrigerante| 0.15|\n",
      "|    Pet|   5|Ração para cães| null|\n",
      "+-------+----+---------------+-----+\n",
      "\n"
     ]
    }
   ],
   "source": [
    "produtos.join(impostos, 'cat', how = 'outer')\\\n",
    "    .sort('id')\\\n",
    "    .show()"
   ]
  },
  {
   "cell_type": "code",
   "execution_count": 52,
   "metadata": {
    "id": "wWoVxvYKJkC-"
   },
   "outputs": [
    {
     "name": "stdout",
     "output_type": "stream",
     "text": [
      "root\n",
      " |-- cnpj_basico: integer (nullable = true)\n",
      " |-- cnpj_ordem: integer (nullable = true)\n",
      " |-- cnpj_dv: integer (nullable = true)\n",
      " |-- identificador_matriz_filial: integer (nullable = true)\n",
      " |-- nome_fantasia: string (nullable = true)\n",
      " |-- situacao_cadastral: integer (nullable = true)\n",
      " |-- data_situacao_cadastral: date (nullable = true)\n",
      " |-- motivo_situacao_cadastral: integer (nullable = true)\n",
      " |-- nome_da_cidade_no_exterior: string (nullable = true)\n",
      " |-- pais: integer (nullable = true)\n",
      " |-- data_de_inicio_atividade: date (nullable = true)\n",
      " |-- cnae_fiscal_principal: integer (nullable = true)\n",
      " |-- cnae_fiscal_secundaria: string (nullable = true)\n",
      " |-- tipo_de_logradouro: string (nullable = true)\n",
      " |-- logradouro: string (nullable = true)\n",
      " |-- numero: string (nullable = true)\n",
      " |-- complemento: string (nullable = true)\n",
      " |-- bairro: string (nullable = true)\n",
      " |-- cep: integer (nullable = true)\n",
      " |-- uf: string (nullable = true)\n",
      " |-- municipio: integer (nullable = true)\n",
      " |-- ddd_1: string (nullable = true)\n",
      " |-- telefone_1: string (nullable = true)\n",
      " |-- ddd_2: string (nullable = true)\n",
      " |-- telefone_2: string (nullable = true)\n",
      " |-- ddd_do_fax: integer (nullable = true)\n",
      " |-- fax: string (nullable = true)\n",
      " |-- correio_eletronico: string (nullable = true)\n",
      " |-- situacao_especial: string (nullable = true)\n",
      " |-- data_da_situacao_especial: date (nullable = true)\n",
      " |-- razao_social_nome_empresarial: string (nullable = true)\n",
      " |-- natureza_juridica: integer (nullable = true)\n",
      " |-- qualificacao_do_responsavel: integer (nullable = true)\n",
      " |-- capital_social_da_empresa: double (nullable = true)\n",
      " |-- porte_da_empresa: integer (nullable = true)\n",
      " |-- ente_federativo_responsavel: string (nullable = true)\n",
      "\n"
     ]
    }
   ],
   "source": [
    "empresas_join = estabelecimentos.join(empresas, 'cnpj_basico', how = 'inner')\n",
    "empresas_join.printSchema()"
   ]
  },
  {
   "cell_type": "code",
   "execution_count": 57,
   "metadata": {
    "id": "Ta9UsinQJn1w"
   },
   "outputs": [
    {
     "name": "stderr",
     "output_type": "stream",
     "text": [
      "                                                                                \r"
     ]
    },
    {
     "data": {
      "text/html": [
       "<div>\n",
       "<style scoped>\n",
       "    .dataframe tbody tr th:only-of-type {\n",
       "        vertical-align: middle;\n",
       "    }\n",
       "\n",
       "    .dataframe tbody tr th {\n",
       "        vertical-align: top;\n",
       "    }\n",
       "\n",
       "    .dataframe thead th {\n",
       "        text-align: right;\n",
       "    }\n",
       "</style>\n",
       "<table border=\"1\" class=\"dataframe\">\n",
       "  <thead>\n",
       "    <tr style=\"text-align: right;\">\n",
       "      <th></th>\n",
       "      <th>data_de_inicio</th>\n",
       "      <th>frequencia</th>\n",
       "    </tr>\n",
       "  </thead>\n",
       "  <tbody>\n",
       "    <tr>\n",
       "      <th>0</th>\n",
       "      <td>2010</td>\n",
       "      <td>154159</td>\n",
       "    </tr>\n",
       "    <tr>\n",
       "      <th>1</th>\n",
       "      <td>2011</td>\n",
       "      <td>172677</td>\n",
       "    </tr>\n",
       "    <tr>\n",
       "      <th>2</th>\n",
       "      <td>2012</td>\n",
       "      <td>232480</td>\n",
       "    </tr>\n",
       "    <tr>\n",
       "      <th>3</th>\n",
       "      <td>2013</td>\n",
       "      <td>198424</td>\n",
       "    </tr>\n",
       "    <tr>\n",
       "      <th>4</th>\n",
       "      <td>2014</td>\n",
       "      <td>202276</td>\n",
       "    </tr>\n",
       "    <tr>\n",
       "      <th>5</th>\n",
       "      <td>2015</td>\n",
       "      <td>212523</td>\n",
       "    </tr>\n",
       "    <tr>\n",
       "      <th>6</th>\n",
       "      <td>2016</td>\n",
       "      <td>265417</td>\n",
       "    </tr>\n",
       "    <tr>\n",
       "      <th>7</th>\n",
       "      <td>2017</td>\n",
       "      <td>237292</td>\n",
       "    </tr>\n",
       "    <tr>\n",
       "      <th>8</th>\n",
       "      <td>2018</td>\n",
       "      <td>275435</td>\n",
       "    </tr>\n",
       "    <tr>\n",
       "      <th>9</th>\n",
       "      <td>2019</td>\n",
       "      <td>325922</td>\n",
       "    </tr>\n",
       "    <tr>\n",
       "      <th>10</th>\n",
       "      <td>2020</td>\n",
       "      <td>400654</td>\n",
       "    </tr>\n",
       "    <tr>\n",
       "      <th>11</th>\n",
       "      <td>2021</td>\n",
       "      <td>153275</td>\n",
       "    </tr>\n",
       "  </tbody>\n",
       "</table>\n",
       "</div>"
      ],
      "text/plain": [
       "    data_de_inicio  frequencia\n",
       "0             2010      154159\n",
       "1             2011      172677\n",
       "2             2012      232480\n",
       "3             2013      198424\n",
       "4             2014      202276\n",
       "5             2015      212523\n",
       "6             2016      265417\n",
       "7             2017      237292\n",
       "8             2018      275435\n",
       "9             2019      325922\n",
       "10            2020      400654\n",
       "11            2021      153275"
      ]
     },
     "execution_count": 57,
     "metadata": {},
     "output_type": "execute_result"
    }
   ],
   "source": [
    "freq = empresas_join\\\n",
    "    .select(\n",
    "        'cnpj_basico', \n",
    "        f.year('data_de_inicio_atividade').alias('data_de_inicio')\n",
    "    )\\\n",
    "    .where('data_de_inicio >= 2010')\\\n",
    "    .groupby('data_de_inicio')\\\n",
    "    .agg(f.count('cnpj_basico').alias('frequencia'))\\\n",
    "    .orderBy('data_de_inicio')\n",
    "\n",
    "freq.toPandas()"
   ]
  },
  {
   "cell_type": "code",
   "execution_count": 58,
   "metadata": {
    "id": "kki6ZPfNJ_sI"
   },
   "outputs": [
    {
     "name": "stderr",
     "output_type": "stream",
     "text": [
      "                                                                                \r"
     ]
    },
    {
     "name": "stdout",
     "output_type": "stream",
     "text": [
      "+--------------+----------+\n",
      "|data_de_inicio|frequencia|\n",
      "+--------------+----------+\n",
      "|          2010|    154159|\n",
      "|          2011|    172677|\n",
      "|          2012|    232480|\n",
      "|          2013|    198424|\n",
      "|          2014|    202276|\n",
      "|          2015|    212523|\n",
      "|          2016|    265417|\n",
      "|          2017|    237292|\n",
      "|          2018|    275435|\n",
      "|          2019|    325922|\n",
      "|          2020|    400654|\n",
      "|          2021|    153275|\n",
      "|         Total|   2830534|\n",
      "+--------------+----------+\n",
      "\n"
     ]
    }
   ],
   "source": [
    "freq.union(     # Embaixo do banco freq, vai ser adicionado mais linhas de outro banco,\n",
    "    freq.select(   # Criando o segundo banco\n",
    "        f.lit('Total').alias('data_de_inicio'),    # Que possui o valor 'Total' para a variável 'data_de_inicio'\n",
    "        f.sum(freq.frequencia).alias('frequencia') # E a soma de todas frequências na variável 'frequencia'\n",
    "    )\n",
    ").show()"
   ]
  },
  {
   "cell_type": "markdown",
   "metadata": {
    "id": "Bq-9n_n2GlIF"
   },
   "source": [
    "## SparkSQL\n",
    "\n",
    "[SparkSession.sql(sqlQuery)](https://spark.apache.org/docs/latest/api/python/reference/api/pyspark.sql.SparkSession.sql.html)\n",
    "\n",
    "Para saber mais sobre performance: [Artigo - Spark RDDs vs DataFrames vs SparkSQL](https://community.cloudera.com/t5/Community-Articles/Spark-RDDs-vs-DataFrames-vs-SparkSQL/ta-p/246547)"
   ]
  },
  {
   "cell_type": "code",
   "execution_count": 59,
   "metadata": {
    "id": "NGCFVpPnGlIF"
   },
   "outputs": [],
   "source": [
    "empresas.createOrReplaceTempView('empresasView')"
   ]
  },
  {
   "cell_type": "code",
   "execution_count": 60,
   "metadata": {
    "id": "5c_OrvMLGlIF"
   },
   "outputs": [
    {
     "name": "stdout",
     "output_type": "stream",
     "text": [
      "+-----------+-----------------------------+-----------------+---------------------------+-------------------------+----------------+---------------------------+\n",
      "|cnpj_basico|razao_social_nome_empresarial|natureza_juridica|qualificacao_do_responsavel|capital_social_da_empresa|porte_da_empresa|ente_federativo_responsavel|\n",
      "+-----------+-----------------------------+-----------------+---------------------------+-------------------------+----------------+---------------------------+\n",
      "|        306|         FRANCAMAR REFRIGE...|             2240|                         49|                      0.0|               1|                       null|\n",
      "|       1355|         BRASILEIRO & OLIV...|             2062|                         49|                      0.0|               5|                       null|\n",
      "|       4820|         REGISTRO DE IMOVE...|             3034|                         32|                      0.0|               5|                       null|\n",
      "|       5347|         ROSELY APARECIDA ...|             2135|                         50|                      0.0|               5|                       null|\n",
      "|       6846|         BADU E FILHOS TEC...|             2062|                         49|                   4000.0|               1|                       null|\n",
      "+-----------+-----------------------------+-----------------+---------------------------+-------------------------+----------------+---------------------------+\n",
      "only showing top 5 rows\n",
      "\n"
     ]
    }
   ],
   "source": [
    "spark.sql('SELECT * FROM empresasView').show(5)"
   ]
  },
  {
   "cell_type": "code",
   "execution_count": 61,
   "metadata": {
    "id": "5cff25Y3GlIG"
   },
   "outputs": [
    {
     "name": "stderr",
     "output_type": "stream",
     "text": [
      "                                                                                \r"
     ]
    },
    {
     "data": {
      "text/html": [
       "<div>\n",
       "<style scoped>\n",
       "    .dataframe tbody tr th:only-of-type {\n",
       "        vertical-align: middle;\n",
       "    }\n",
       "\n",
       "    .dataframe tbody tr th {\n",
       "        vertical-align: top;\n",
       "    }\n",
       "\n",
       "    .dataframe thead th {\n",
       "        text-align: right;\n",
       "    }\n",
       "</style>\n",
       "<table border=\"1\" class=\"dataframe\">\n",
       "  <thead>\n",
       "    <tr style=\"text-align: right;\">\n",
       "      <th></th>\n",
       "      <th>cnpj_basico</th>\n",
       "      <th>razao_social_nome_empresarial</th>\n",
       "      <th>natureza_juridica</th>\n",
       "      <th>qualificacao_do_responsavel</th>\n",
       "      <th>capital_social_da_empresa</th>\n",
       "      <th>porte_da_empresa</th>\n",
       "      <th>ente_federativo_responsavel</th>\n",
       "    </tr>\n",
       "  </thead>\n",
       "  <tbody>\n",
       "    <tr>\n",
       "      <th>0</th>\n",
       "      <td>17350147</td>\n",
       "      <td>ERIK MARCELO DOS SANTOS 42107848858</td>\n",
       "      <td>2135</td>\n",
       "      <td>50</td>\n",
       "      <td>50.0</td>\n",
       "      <td>1</td>\n",
       "      <td>None</td>\n",
       "    </tr>\n",
       "    <tr>\n",
       "      <th>1</th>\n",
       "      <td>17833214</td>\n",
       "      <td>ALEXANDRE MACHADO LIMA 73750123772</td>\n",
       "      <td>2135</td>\n",
       "      <td>50</td>\n",
       "      <td>50.0</td>\n",
       "      <td>1</td>\n",
       "      <td>None</td>\n",
       "    </tr>\n",
       "    <tr>\n",
       "      <th>2</th>\n",
       "      <td>20860830</td>\n",
       "      <td>YASMIN MOURA DA FONSECA 13457709793</td>\n",
       "      <td>2135</td>\n",
       "      <td>50</td>\n",
       "      <td>50.0</td>\n",
       "      <td>1</td>\n",
       "      <td>None</td>\n",
       "    </tr>\n",
       "    <tr>\n",
       "      <th>3</th>\n",
       "      <td>22242856</td>\n",
       "      <td>JOAO CESAR MESSIAS 08707149883</td>\n",
       "      <td>2135</td>\n",
       "      <td>50</td>\n",
       "      <td>50.0</td>\n",
       "      <td>1</td>\n",
       "      <td>None</td>\n",
       "    </tr>\n",
       "    <tr>\n",
       "      <th>4</th>\n",
       "      <td>23238540</td>\n",
       "      <td>EVERTON ROBERTO DA SILVA 42101963809</td>\n",
       "      <td>2135</td>\n",
       "      <td>50</td>\n",
       "      <td>50.0</td>\n",
       "      <td>1</td>\n",
       "      <td>None</td>\n",
       "    </tr>\n",
       "    <tr>\n",
       "      <th>...</th>\n",
       "      <td>...</td>\n",
       "      <td>...</td>\n",
       "      <td>...</td>\n",
       "      <td>...</td>\n",
       "      <td>...</td>\n",
       "      <td>...</td>\n",
       "      <td>...</td>\n",
       "    </tr>\n",
       "    <tr>\n",
       "      <th>6546</th>\n",
       "      <td>39717910</td>\n",
       "      <td>JANAINA CRISTINA GUEDES DE NOVAIS 40789379856</td>\n",
       "      <td>2135</td>\n",
       "      <td>50</td>\n",
       "      <td>50.0</td>\n",
       "      <td>1</td>\n",
       "      <td>None</td>\n",
       "    </tr>\n",
       "    <tr>\n",
       "      <th>6547</th>\n",
       "      <td>40134726</td>\n",
       "      <td>JOSE VENITH 44292147949</td>\n",
       "      <td>2135</td>\n",
       "      <td>50</td>\n",
       "      <td>50.0</td>\n",
       "      <td>1</td>\n",
       "      <td>None</td>\n",
       "    </tr>\n",
       "    <tr>\n",
       "      <th>6548</th>\n",
       "      <td>40983141</td>\n",
       "      <td>VALERIO ANTONIO CRISPIM DA CRUZ 53025776668</td>\n",
       "      <td>2135</td>\n",
       "      <td>50</td>\n",
       "      <td>50.0</td>\n",
       "      <td>1</td>\n",
       "      <td>None</td>\n",
       "    </tr>\n",
       "    <tr>\n",
       "      <th>6549</th>\n",
       "      <td>41238271</td>\n",
       "      <td>MARIANGELA RAMOS PIMENTA 73179787600</td>\n",
       "      <td>2135</td>\n",
       "      <td>50</td>\n",
       "      <td>50.0</td>\n",
       "      <td>1</td>\n",
       "      <td>None</td>\n",
       "    </tr>\n",
       "    <tr>\n",
       "      <th>6550</th>\n",
       "      <td>41446979</td>\n",
       "      <td>THIAGO BATISTA DA SILVA 48084389840</td>\n",
       "      <td>2135</td>\n",
       "      <td>50</td>\n",
       "      <td>50.0</td>\n",
       "      <td>1</td>\n",
       "      <td>None</td>\n",
       "    </tr>\n",
       "  </tbody>\n",
       "</table>\n",
       "<p>6551 rows × 7 columns</p>\n",
       "</div>"
      ],
      "text/plain": [
       "      cnpj_basico                  razao_social_nome_empresarial  \\\n",
       "0        17350147            ERIK MARCELO DOS SANTOS 42107848858   \n",
       "1        17833214             ALEXANDRE MACHADO LIMA 73750123772   \n",
       "2        20860830            YASMIN MOURA DA FONSECA 13457709793   \n",
       "3        22242856                 JOAO CESAR MESSIAS 08707149883   \n",
       "4        23238540           EVERTON ROBERTO DA SILVA 42101963809   \n",
       "...           ...                                            ...   \n",
       "6546     39717910  JANAINA CRISTINA GUEDES DE NOVAIS 40789379856   \n",
       "6547     40134726                        JOSE VENITH 44292147949   \n",
       "6548     40983141    VALERIO ANTONIO CRISPIM DA CRUZ 53025776668   \n",
       "6549     41238271           MARIANGELA RAMOS PIMENTA 73179787600   \n",
       "6550     41446979            THIAGO BATISTA DA SILVA 48084389840   \n",
       "\n",
       "      natureza_juridica  qualificacao_do_responsavel  \\\n",
       "0                  2135                           50   \n",
       "1                  2135                           50   \n",
       "2                  2135                           50   \n",
       "3                  2135                           50   \n",
       "4                  2135                           50   \n",
       "...                 ...                          ...   \n",
       "6546               2135                           50   \n",
       "6547               2135                           50   \n",
       "6548               2135                           50   \n",
       "6549               2135                           50   \n",
       "6550               2135                           50   \n",
       "\n",
       "      capital_social_da_empresa  porte_da_empresa ente_federativo_responsavel  \n",
       "0                          50.0                 1                        None  \n",
       "1                          50.0                 1                        None  \n",
       "2                          50.0                 1                        None  \n",
       "3                          50.0                 1                        None  \n",
       "4                          50.0                 1                        None  \n",
       "...                         ...               ...                         ...  \n",
       "6546                       50.0                 1                        None  \n",
       "6547                       50.0                 1                        None  \n",
       "6548                       50.0                 1                        None  \n",
       "6549                       50.0                 1                        None  \n",
       "6550                       50.0                 1                        None  \n",
       "\n",
       "[6551 rows x 7 columns]"
      ]
     },
     "execution_count": 61,
     "metadata": {},
     "output_type": "execute_result"
    }
   ],
   "source": [
    "spark\\\n",
    "    .sql(\"\"\"\n",
    "        SELECT *\n",
    "        FROM empresasView\n",
    "        WHERE capital_social_da_empresa =50\n",
    "    \"\"\").toPandas()"
   ]
  },
  {
   "cell_type": "code",
   "execution_count": 63,
   "metadata": {
    "id": "Rj0ADzBfGlIG"
   },
   "outputs": [
    {
     "name": "stderr",
     "output_type": "stream",
     "text": [
      "                                                                                \r"
     ]
    },
    {
     "data": {
      "text/html": [
       "<div>\n",
       "<style scoped>\n",
       "    .dataframe tbody tr th:only-of-type {\n",
       "        vertical-align: middle;\n",
       "    }\n",
       "\n",
       "    .dataframe tbody tr th {\n",
       "        vertical-align: top;\n",
       "    }\n",
       "\n",
       "    .dataframe thead th {\n",
       "        text-align: right;\n",
       "    }\n",
       "</style>\n",
       "<table border=\"1\" class=\"dataframe\">\n",
       "  <thead>\n",
       "    <tr style=\"text-align: right;\">\n",
       "      <th></th>\n",
       "      <th>porte_da_empresa</th>\n",
       "      <th>Media</th>\n",
       "    </tr>\n",
       "  </thead>\n",
       "  <tbody>\n",
       "    <tr>\n",
       "      <th>0</th>\n",
       "      <td>NaN</td>\n",
       "      <td>8.354219e+00</td>\n",
       "    </tr>\n",
       "    <tr>\n",
       "      <th>1</th>\n",
       "      <td>1.0</td>\n",
       "      <td>3.399945e+05</td>\n",
       "    </tr>\n",
       "    <tr>\n",
       "      <th>2</th>\n",
       "      <td>3.0</td>\n",
       "      <td>2.601002e+06</td>\n",
       "    </tr>\n",
       "    <tr>\n",
       "      <th>3</th>\n",
       "      <td>5.0</td>\n",
       "      <td>7.086604e+05</td>\n",
       "    </tr>\n",
       "  </tbody>\n",
       "</table>\n",
       "</div>"
      ],
      "text/plain": [
       "   porte_da_empresa         Media\n",
       "0               NaN  8.354219e+00\n",
       "1               1.0  3.399945e+05\n",
       "2               3.0  2.601002e+06\n",
       "3               5.0  7.086604e+05"
      ]
     },
     "execution_count": 63,
     "metadata": {},
     "output_type": "execute_result"
    }
   ],
   "source": [
    "spark\\\n",
    "    .sql(\"\"\"\n",
    "        SELECT porte_da_empresa, MEAN(capital_social_da_empresa) AS Media \n",
    "        FROM empresasView\n",
    "        GROUP BY porte_da_empresa\n",
    "    \"\"\").toPandas()"
   ]
  },
  {
   "cell_type": "code",
   "execution_count": 64,
   "metadata": {
    "id": "RRxV3Crg1ZFo"
   },
   "outputs": [],
   "source": [
    "empresas_join.createOrReplaceTempView('empresasJoinView')"
   ]
  },
  {
   "cell_type": "code",
   "execution_count": 65,
   "metadata": {
    "id": "Q0zjZOxM0jzy"
   },
   "outputs": [
    {
     "name": "stderr",
     "output_type": "stream",
     "text": [
      "                                                                                \r"
     ]
    },
    {
     "data": {
      "text/html": [
       "<div>\n",
       "<style scoped>\n",
       "    .dataframe tbody tr th:only-of-type {\n",
       "        vertical-align: middle;\n",
       "    }\n",
       "\n",
       "    .dataframe tbody tr th {\n",
       "        vertical-align: top;\n",
       "    }\n",
       "\n",
       "    .dataframe thead th {\n",
       "        text-align: right;\n",
       "    }\n",
       "</style>\n",
       "<table border=\"1\" class=\"dataframe\">\n",
       "  <thead>\n",
       "    <tr style=\"text-align: right;\">\n",
       "      <th></th>\n",
       "      <th>data_de_inicio</th>\n",
       "      <th>count</th>\n",
       "    </tr>\n",
       "  </thead>\n",
       "  <tbody>\n",
       "    <tr>\n",
       "      <th>0</th>\n",
       "      <td>2010</td>\n",
       "      <td>154159</td>\n",
       "    </tr>\n",
       "    <tr>\n",
       "      <th>1</th>\n",
       "      <td>2011</td>\n",
       "      <td>172677</td>\n",
       "    </tr>\n",
       "    <tr>\n",
       "      <th>2</th>\n",
       "      <td>2012</td>\n",
       "      <td>232480</td>\n",
       "    </tr>\n",
       "    <tr>\n",
       "      <th>3</th>\n",
       "      <td>2013</td>\n",
       "      <td>198424</td>\n",
       "    </tr>\n",
       "    <tr>\n",
       "      <th>4</th>\n",
       "      <td>2014</td>\n",
       "      <td>202276</td>\n",
       "    </tr>\n",
       "    <tr>\n",
       "      <th>5</th>\n",
       "      <td>2015</td>\n",
       "      <td>212523</td>\n",
       "    </tr>\n",
       "    <tr>\n",
       "      <th>6</th>\n",
       "      <td>2016</td>\n",
       "      <td>265417</td>\n",
       "    </tr>\n",
       "    <tr>\n",
       "      <th>7</th>\n",
       "      <td>2017</td>\n",
       "      <td>237292</td>\n",
       "    </tr>\n",
       "    <tr>\n",
       "      <th>8</th>\n",
       "      <td>2018</td>\n",
       "      <td>275435</td>\n",
       "    </tr>\n",
       "    <tr>\n",
       "      <th>9</th>\n",
       "      <td>2019</td>\n",
       "      <td>325922</td>\n",
       "    </tr>\n",
       "    <tr>\n",
       "      <th>10</th>\n",
       "      <td>2020</td>\n",
       "      <td>400654</td>\n",
       "    </tr>\n",
       "    <tr>\n",
       "      <th>11</th>\n",
       "      <td>2021</td>\n",
       "      <td>153275</td>\n",
       "    </tr>\n",
       "  </tbody>\n",
       "</table>\n",
       "</div>"
      ],
      "text/plain": [
       "    data_de_inicio   count\n",
       "0             2010  154159\n",
       "1             2011  172677\n",
       "2             2012  232480\n",
       "3             2013  198424\n",
       "4             2014  202276\n",
       "5             2015  212523\n",
       "6             2016  265417\n",
       "7             2017  237292\n",
       "8             2018  275435\n",
       "9             2019  325922\n",
       "10            2020  400654\n",
       "11            2021  153275"
      ]
     },
     "execution_count": 65,
     "metadata": {},
     "output_type": "execute_result"
    }
   ],
   "source": [
    "freq = spark\\\n",
    "    .sql(\"\"\"\n",
    "        SELECT YEAR(data_de_inicio_atividade) AS data_de_inicio, COUNT(cnpj_basico) as count\n",
    "        FROM empresasJoinView\n",
    "        WHERE YEAR(data_de_inicio_atividade) >= 2010\n",
    "        GROUP BY data_de_inicio\n",
    "        ORDER BY data_de_inicio\n",
    "    \"\"\")\n",
    "\n",
    "freq.toPandas()"
   ]
  },
  {
   "cell_type": "code",
   "execution_count": 66,
   "metadata": {
    "id": "Z0oUrvo4E76z"
   },
   "outputs": [],
   "source": [
    "freq.createOrReplaceTempView('freqView')"
   ]
  },
  {
   "cell_type": "code",
   "execution_count": 67,
   "metadata": {
    "id": "ghAEAvfj0eS3"
   },
   "outputs": [
    {
     "name": "stderr",
     "output_type": "stream",
     "text": [
      "                                                                                \r"
     ]
    },
    {
     "data": {
      "text/html": [
       "<div>\n",
       "<style scoped>\n",
       "    .dataframe tbody tr th:only-of-type {\n",
       "        vertical-align: middle;\n",
       "    }\n",
       "\n",
       "    .dataframe tbody tr th {\n",
       "        vertical-align: top;\n",
       "    }\n",
       "\n",
       "    .dataframe thead th {\n",
       "        text-align: right;\n",
       "    }\n",
       "</style>\n",
       "<table border=\"1\" class=\"dataframe\">\n",
       "  <thead>\n",
       "    <tr style=\"text-align: right;\">\n",
       "      <th></th>\n",
       "      <th>data_de_inicio</th>\n",
       "      <th>count</th>\n",
       "    </tr>\n",
       "  </thead>\n",
       "  <tbody>\n",
       "    <tr>\n",
       "      <th>0</th>\n",
       "      <td>2010</td>\n",
       "      <td>154159</td>\n",
       "    </tr>\n",
       "    <tr>\n",
       "      <th>1</th>\n",
       "      <td>2011</td>\n",
       "      <td>172677</td>\n",
       "    </tr>\n",
       "    <tr>\n",
       "      <th>2</th>\n",
       "      <td>2012</td>\n",
       "      <td>232480</td>\n",
       "    </tr>\n",
       "    <tr>\n",
       "      <th>3</th>\n",
       "      <td>2013</td>\n",
       "      <td>198424</td>\n",
       "    </tr>\n",
       "    <tr>\n",
       "      <th>4</th>\n",
       "      <td>2014</td>\n",
       "      <td>202276</td>\n",
       "    </tr>\n",
       "    <tr>\n",
       "      <th>5</th>\n",
       "      <td>2015</td>\n",
       "      <td>212523</td>\n",
       "    </tr>\n",
       "    <tr>\n",
       "      <th>6</th>\n",
       "      <td>2016</td>\n",
       "      <td>265417</td>\n",
       "    </tr>\n",
       "    <tr>\n",
       "      <th>7</th>\n",
       "      <td>2017</td>\n",
       "      <td>237292</td>\n",
       "    </tr>\n",
       "    <tr>\n",
       "      <th>8</th>\n",
       "      <td>2018</td>\n",
       "      <td>275435</td>\n",
       "    </tr>\n",
       "    <tr>\n",
       "      <th>9</th>\n",
       "      <td>2019</td>\n",
       "      <td>325922</td>\n",
       "    </tr>\n",
       "    <tr>\n",
       "      <th>10</th>\n",
       "      <td>2020</td>\n",
       "      <td>400654</td>\n",
       "    </tr>\n",
       "    <tr>\n",
       "      <th>11</th>\n",
       "      <td>2021</td>\n",
       "      <td>153275</td>\n",
       "    </tr>\n",
       "    <tr>\n",
       "      <th>12</th>\n",
       "      <td>Total</td>\n",
       "      <td>2830534</td>\n",
       "    </tr>\n",
       "  </tbody>\n",
       "</table>\n",
       "</div>"
      ],
      "text/plain": [
       "   data_de_inicio    count\n",
       "0            2010   154159\n",
       "1            2011   172677\n",
       "2            2012   232480\n",
       "3            2013   198424\n",
       "4            2014   202276\n",
       "5            2015   212523\n",
       "6            2016   265417\n",
       "7            2017   237292\n",
       "8            2018   275435\n",
       "9            2019   325922\n",
       "10           2020   400654\n",
       "11           2021   153275\n",
       "12          Total  2830534"
      ]
     },
     "execution_count": 67,
     "metadata": {},
     "output_type": "execute_result"
    }
   ],
   "source": [
    "spark\\\n",
    "    .sql(\"\"\"\n",
    "        SELECT *\n",
    "        FROM freqView\n",
    "        UNION ALL\n",
    "        SELECT 'Total' AS data_de_inicio, SUM(count) AS count\n",
    "        FROM freqView\n",
    "    \"\"\").toPandas()"
   ]
  },
  {
   "cell_type": "markdown",
   "metadata": {
    "id": "XDM3l-CUGlIJ"
   },
   "source": [
    "# Formas de Armazenamento\n",
    "---"
   ]
  },
  {
   "cell_type": "markdown",
   "metadata": {
    "id": "ySrkXajNGlIK"
   },
   "source": [
    "## Arquivos CSV\n",
    "\n",
    "[property DataFrame.write](https://spark.apache.org/docs/latest/api/python/reference/api/pyspark.sql.DataFrame.write.html)\n",
    "\n",
    "[DataFrameWriter.csv(*args)](https://spark.apache.org/docs/latest/api/python/reference/api/pyspark.sql.DataFrameWriter.csv.html)"
   ]
  },
  {
   "cell_type": "code",
   "execution_count": 69,
   "metadata": {
    "id": "f1PBgc6kGlIK"
   },
   "outputs": [
    {
     "name": "stderr",
     "output_type": "stream",
     "text": [
      "                                                                                \r"
     ]
    }
   ],
   "source": [
    "empresas.write.csv(\n",
    "    path = 'empresas/csv',\n",
    "    mode = 'overwrite', # sobscreve o arquivo se já tiver outro\n",
    "    sep = ';',\n",
    "    header = True\n",
    ")"
   ]
  },
  {
   "cell_type": "markdown",
   "metadata": {
    "id": "Z4KYGLOUe9VN"
   },
   "source": [
    "## Faça como eu fiz"
   ]
  },
  {
   "cell_type": "code",
   "execution_count": 70,
   "metadata": {
    "id": "8ttmS8v1GlIK"
   },
   "outputs": [
    {
     "name": "stderr",
     "output_type": "stream",
     "text": [
      "                                                                                \r"
     ]
    }
   ],
   "source": [
    "socios.write.csv(\n",
    "    path = 'socios/csv',\n",
    "    mode = 'overwrite', # sobscreve o arquivo se já tiver outro\n",
    "    sep = ';',\n",
    "    header = True\n",
    ")"
   ]
  },
  {
   "cell_type": "code",
   "execution_count": 71,
   "metadata": {
    "id": "3YvAdU_MGlIK"
   },
   "outputs": [
    {
     "name": "stderr",
     "output_type": "stream",
     "text": [
      "                                                                                \r"
     ]
    }
   ],
   "source": [
    "estabelecimentos.write.csv(\n",
    "    path = 'estabelecimentos/csv',\n",
    "    mode = 'overwrite', # sobscreve o arquivo se já tiver outro\n",
    "    sep = ';',\n",
    "    header = True\n",
    ")"
   ]
  },
  {
   "cell_type": "markdown",
   "metadata": {
    "id": "ge7vmWujGlIK"
   },
   "source": [
    "## Arquivos PARQUET\n",
    "\n",
    "[Apache Parquet](https://parquet.apache.org/)\n",
    "\n",
    "[DataFrameWriter.parquet(*args)](https://spark.apache.org/docs/latest/api/python/reference/api/pyspark.sql.DataFrameWriter.parquet.html)"
   ]
  },
  {
   "cell_type": "code",
   "execution_count": 82,
   "metadata": {
    "id": "qd14cXcto9za"
   },
   "outputs": [
    {
     "name": "stderr",
     "output_type": "stream",
     "text": [
      "                                                                                \r"
     ]
    }
   ],
   "source": [
    "empresas.write.parquet(\n",
    "    path = 'empresas/parquet',\n",
    "    mode = 'overwrite' # sobscreve o arquivo se já tiver outro\n",
    ")"
   ]
  },
  {
   "cell_type": "code",
   "execution_count": 73,
   "metadata": {},
   "outputs": [],
   "source": [
    "empresas_parquet = spark.read.parquet( # Lê bem mais rápido\n",
    "    'empresas/parquet'\n",
    ")"
   ]
  },
  {
   "cell_type": "code",
   "execution_count": 74,
   "metadata": {},
   "outputs": [
    {
     "name": "stdout",
     "output_type": "stream",
     "text": [
      "root\n",
      " |-- cnpj_basico: integer (nullable = true)\n",
      " |-- razao_social_nome_empresarial: string (nullable = true)\n",
      " |-- natureza_juridica: integer (nullable = true)\n",
      " |-- qualificacao_do_responsavel: integer (nullable = true)\n",
      " |-- capital_social_da_empresa: double (nullable = true)\n",
      " |-- porte_da_empresa: integer (nullable = true)\n",
      " |-- ente_federativo_responsavel: string (nullable = true)\n",
      "\n"
     ]
    }
   ],
   "source": [
    "empresas_parquet.printSchema()"
   ]
  },
  {
   "cell_type": "code",
   "execution_count": null,
   "metadata": {
    "id": "ZysCHmzicRo4"
   },
   "outputs": [],
   "source": [
    "socios.write.parquet(\n",
    "    path = 'socios/parquet',\n",
    "    mode = 'overwrite' # sobscreve o arquivo se já tiver outro\n",
    ")"
   ]
  },
  {
   "cell_type": "code",
   "execution_count": null,
   "metadata": {
    "id": "9siUUauWdAej"
   },
   "outputs": [],
   "source": [
    "estabelecimentos.write.parquet(\n",
    "    path = 'estabelecimentos/parquet',\n",
    "    mode = 'overwrite' # sobscreve o arquivo se já tiver outro\n",
    ")"
   ]
  },
  {
   "cell_type": "markdown",
   "metadata": {
    "id": "UYsfCfudGlIK"
   },
   "source": [
    "## Particionamento dos dados\n",
    "\n",
    "[DataFrameWriter.partitionBy(*cols)](https://spark.apache.org/docs/latest/api/python/reference/api/pyspark.sql.DataFrameWriter.partitionBy.html)"
   ]
  },
  {
   "cell_type": "code",
   "execution_count": 75,
   "metadata": {
    "id": "p3lGYb4qRVz3"
   },
   "outputs": [
    {
     "name": "stderr",
     "output_type": "stream",
     "text": [
      "                                                                                \r"
     ]
    }
   ],
   "source": [
    "empresas.coalesce(1).write.csv( # diminui o número de partições\n",
    "    path = 'empresas/csv-unico',\n",
    "    mode = 'overwrite', \n",
    "    sep = ';',\n",
    "    header = True\n",
    ")"
   ]
  },
  {
   "cell_type": "code",
   "execution_count": 83,
   "metadata": {
    "id": "i6Tv9DelGlIL"
   },
   "outputs": [
    {
     "name": "stderr",
     "output_type": "stream",
     "text": [
      "                                                                                \r"
     ]
    }
   ],
   "source": [
    "empresas.write.parquet( # Lê bem mais rápido\n",
    "    path = 'empresas/parquet-partitionBy',\n",
    "    mode = 'overwrite',\n",
    "    partitionBy = 'porte_da_empresa'\n",
    ")"
   ]
  },
  {
   "cell_type": "code",
   "execution_count": 84,
   "metadata": {},
   "outputs": [],
   "source": [
    "# Para encerrar a seção Spark\n",
    "spark.stop()"
   ]
  },
  {
   "cell_type": "code",
   "execution_count": null,
   "metadata": {},
   "outputs": [],
   "source": []
  }
 ],
 "metadata": {
  "colab": {
   "collapsed_sections": [],
   "name": "projeto_spark.ipynb",
   "provenance": [],
   "toc_visible": true
  },
  "kernelspec": {
   "display_name": "Python 3 (ipykernel)",
   "language": "python",
   "name": "python3"
  },
  "language_info": {
   "codemirror_mode": {
    "name": "ipython",
    "version": 3
   },
   "file_extension": ".py",
   "mimetype": "text/x-python",
   "name": "python",
   "nbconvert_exporter": "python",
   "pygments_lexer": "ipython3",
   "version": "3.8.10"
  },
  "varInspector": {
   "cols": {
    "lenName": 16,
    "lenType": 16,
    "lenVar": 40
   },
   "kernels_config": {
    "python": {
     "delete_cmd_postfix": "",
     "delete_cmd_prefix": "del ",
     "library": "var_list.py",
     "varRefreshCmd": "print(var_dic_list())"
    },
    "r": {
     "delete_cmd_postfix": ") ",
     "delete_cmd_prefix": "rm(",
     "library": "var_list.r",
     "varRefreshCmd": "cat(var_dic_list()) "
    }
   },
   "types_to_exclude": [
    "module",
    "function",
    "builtin_function_or_method",
    "instance",
    "_Feature"
   ],
   "window_display": false
  }
 },
 "nbformat": 4,
 "nbformat_minor": 1
}
