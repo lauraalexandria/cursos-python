{
  "cells": [
    {
      "cell_type": "markdown",
      "metadata": {
        "id": "rM97R8wLOu-2"
      },
      "source": [
        "# Data Science com Python"
      ]
    },
    {
      "cell_type": "markdown",
      "source": [
        "#### Importando Bibliotecas"
      ],
      "metadata": {
        "id": "-_SEmaw5PcRv"
      }
    },
    {
      "cell_type": "code",
      "execution_count": null,
      "metadata": {
        "id": "q5s63deROu-5"
      },
      "outputs": [],
      "source": [
        "import pandas as pd\n",
        "import numpy as np\n",
        "import os"
      ]
    },
    {
      "cell_type": "markdown",
      "metadata": {
        "id": "lGuVJHE-Ou-4"
      },
      "source": [
        "#### Gerando amostras aleatórias"
      ]
    },
    {
      "cell_type": "markdown",
      "source": [
        "##### Amostra Aleatória"
      ],
      "metadata": {
        "id": "rmVn6MB7Qg72"
      }
    },
    {
      "cell_type": "code",
      "execution_count": null,
      "metadata": {
        "colab": {
          "base_uri": "https://localhost:8080/"
        },
        "id": "Xnr2iqcUOu-7",
        "outputId": "a978521a-e86b-4de3-d798-2e08d7b8f198"
      },
      "outputs": [
        {
          "output_type": "execute_result",
          "data": {
            "text/plain": [
              "array([0, 0, 0, 0, 0, 1, 0, 0, 1, 1, 0, 1, 1, 0, 1, 1, 1, 1, 0, 1, 0, 1,\n",
              "       0, 1, 0, 1, 1, 1, 1, 0, 0, 0, 1, 1, 0, 0, 0, 1, 1, 0, 0, 1, 1, 0,\n",
              "       1, 0, 1, 0, 0, 0, 1, 0, 0, 1, 1, 0, 1, 0, 0, 0, 1, 1, 1, 0, 0, 1,\n",
              "       1, 1, 1, 0, 0, 1, 0, 1, 0, 0, 0, 1, 1, 0, 0, 1, 0, 0, 0, 1, 0, 1,\n",
              "       0, 0, 0, 1, 0, 1, 1, 1, 1, 1, 0, 1, 1, 0, 1, 0, 0, 0, 0, 0, 1, 1,\n",
              "       0, 1, 0, 1, 0, 1, 1, 0, 0, 1, 1, 0, 1, 0, 0, 1, 1, 0, 1, 1, 0, 1,\n",
              "       1, 0, 1, 1, 0, 1, 1, 1, 1, 0, 0, 0, 0, 0, 0, 0, 1, 1])"
            ]
          },
          "metadata": {},
          "execution_count": 4
        }
      ],
      "source": [
        "amostra=np.random.choice(a=[0,1],       # Opções\n",
        "                         size=150,      # Tamanho da amostra;\n",
        "                         replace=True,  # Se pode haver repetição;\n",
        "                         p=[0.5,0.5])   # Probabilidade de cada elemento ser selecionado;\n",
        "amostra"
      ]
    },
    {
      "cell_type": "code",
      "source": [
        "len(amostra[amostra == 1])"
      ],
      "metadata": {
        "colab": {
          "base_uri": "https://localhost:8080/"
        },
        "id": "-SpDIuYMQM5m",
        "outputId": "9733899d-b4d0-4879-b70e-b467c9a88ec7"
      },
      "execution_count": null,
      "outputs": [
        {
          "output_type": "execute_result",
          "data": {
            "text/plain": [
              "74"
            ]
          },
          "metadata": {},
          "execution_count": 5
        }
      ]
    },
    {
      "cell_type": "code",
      "source": [
        "len(amostra[amostra == 0])"
      ],
      "metadata": {
        "colab": {
          "base_uri": "https://localhost:8080/"
        },
        "id": "vLcF6ucOQX3M",
        "outputId": "fc4071b6-1869-4827-8388-6f6da64cee5f"
      },
      "execution_count": null,
      "outputs": [
        {
          "output_type": "execute_result",
          "data": {
            "text/plain": [
              "76"
            ]
          },
          "metadata": {},
          "execution_count": 6
        }
      ]
    },
    {
      "cell_type": "code",
      "execution_count": null,
      "metadata": {
        "colab": {
          "base_uri": "https://localhost:8080/",
          "height": 206
        },
        "id": "rb_-HBE1Ou-6",
        "outputId": "4cb5b27c-a19e-4203-9a57-3c6676d8a46b"
      },
      "outputs": [
        {
          "output_type": "execute_result",
          "data": {
            "text/plain": [
              "   num cat\n",
              "0    2   c\n",
              "1    1   e\n",
              "2    4   d\n",
              "3    1   a\n",
              "4    1   a"
            ],
            "text/html": [
              "\n",
              "  <div id=\"df-d3f99717-9358-4647-bac3-eab5915f7299\">\n",
              "    <div class=\"colab-df-container\">\n",
              "      <div>\n",
              "<style scoped>\n",
              "    .dataframe tbody tr th:only-of-type {\n",
              "        vertical-align: middle;\n",
              "    }\n",
              "\n",
              "    .dataframe tbody tr th {\n",
              "        vertical-align: top;\n",
              "    }\n",
              "\n",
              "    .dataframe thead th {\n",
              "        text-align: right;\n",
              "    }\n",
              "</style>\n",
              "<table border=\"1\" class=\"dataframe\">\n",
              "  <thead>\n",
              "    <tr style=\"text-align: right;\">\n",
              "      <th></th>\n",
              "      <th>num</th>\n",
              "      <th>cat</th>\n",
              "    </tr>\n",
              "  </thead>\n",
              "  <tbody>\n",
              "    <tr>\n",
              "      <th>0</th>\n",
              "      <td>2</td>\n",
              "      <td>c</td>\n",
              "    </tr>\n",
              "    <tr>\n",
              "      <th>1</th>\n",
              "      <td>1</td>\n",
              "      <td>e</td>\n",
              "    </tr>\n",
              "    <tr>\n",
              "      <th>2</th>\n",
              "      <td>4</td>\n",
              "      <td>d</td>\n",
              "    </tr>\n",
              "    <tr>\n",
              "      <th>3</th>\n",
              "      <td>1</td>\n",
              "      <td>a</td>\n",
              "    </tr>\n",
              "    <tr>\n",
              "      <th>4</th>\n",
              "      <td>1</td>\n",
              "      <td>a</td>\n",
              "    </tr>\n",
              "  </tbody>\n",
              "</table>\n",
              "</div>\n",
              "      <button class=\"colab-df-convert\" onclick=\"convertToInteractive('df-d3f99717-9358-4647-bac3-eab5915f7299')\"\n",
              "              title=\"Convert this dataframe to an interactive table.\"\n",
              "              style=\"display:none;\">\n",
              "        \n",
              "  <svg xmlns=\"http://www.w3.org/2000/svg\" height=\"24px\"viewBox=\"0 0 24 24\"\n",
              "       width=\"24px\">\n",
              "    <path d=\"M0 0h24v24H0V0z\" fill=\"none\"/>\n",
              "    <path d=\"M18.56 5.44l.94 2.06.94-2.06 2.06-.94-2.06-.94-.94-2.06-.94 2.06-2.06.94zm-11 1L8.5 8.5l.94-2.06 2.06-.94-2.06-.94L8.5 2.5l-.94 2.06-2.06.94zm10 10l.94 2.06.94-2.06 2.06-.94-2.06-.94-.94-2.06-.94 2.06-2.06.94z\"/><path d=\"M17.41 7.96l-1.37-1.37c-.4-.4-.92-.59-1.43-.59-.52 0-1.04.2-1.43.59L10.3 9.45l-7.72 7.72c-.78.78-.78 2.05 0 2.83L4 21.41c.39.39.9.59 1.41.59.51 0 1.02-.2 1.41-.59l7.78-7.78 2.81-2.81c.8-.78.8-2.07 0-2.86zM5.41 20L4 18.59l7.72-7.72 1.47 1.35L5.41 20z\"/>\n",
              "  </svg>\n",
              "      </button>\n",
              "      \n",
              "  <style>\n",
              "    .colab-df-container {\n",
              "      display:flex;\n",
              "      flex-wrap:wrap;\n",
              "      gap: 12px;\n",
              "    }\n",
              "\n",
              "    .colab-df-convert {\n",
              "      background-color: #E8F0FE;\n",
              "      border: none;\n",
              "      border-radius: 50%;\n",
              "      cursor: pointer;\n",
              "      display: none;\n",
              "      fill: #1967D2;\n",
              "      height: 32px;\n",
              "      padding: 0 0 0 0;\n",
              "      width: 32px;\n",
              "    }\n",
              "\n",
              "    .colab-df-convert:hover {\n",
              "      background-color: #E2EBFA;\n",
              "      box-shadow: 0px 1px 2px rgba(60, 64, 67, 0.3), 0px 1px 3px 1px rgba(60, 64, 67, 0.15);\n",
              "      fill: #174EA6;\n",
              "    }\n",
              "\n",
              "    [theme=dark] .colab-df-convert {\n",
              "      background-color: #3B4455;\n",
              "      fill: #D2E3FC;\n",
              "    }\n",
              "\n",
              "    [theme=dark] .colab-df-convert:hover {\n",
              "      background-color: #434B5C;\n",
              "      box-shadow: 0px 1px 3px 1px rgba(0, 0, 0, 0.15);\n",
              "      filter: drop-shadow(0px 1px 2px rgba(0, 0, 0, 0.3));\n",
              "      fill: #FFFFFF;\n",
              "    }\n",
              "  </style>\n",
              "\n",
              "      <script>\n",
              "        const buttonEl =\n",
              "          document.querySelector('#df-d3f99717-9358-4647-bac3-eab5915f7299 button.colab-df-convert');\n",
              "        buttonEl.style.display =\n",
              "          google.colab.kernel.accessAllowed ? 'block' : 'none';\n",
              "\n",
              "        async function convertToInteractive(key) {\n",
              "          const element = document.querySelector('#df-d3f99717-9358-4647-bac3-eab5915f7299');\n",
              "          const dataTable =\n",
              "            await google.colab.kernel.invokeFunction('convertToInteractive',\n",
              "                                                     [key], {});\n",
              "          if (!dataTable) return;\n",
              "\n",
              "          const docLinkHtml = 'Like what you see? Visit the ' +\n",
              "            '<a target=\"_blank\" href=https://colab.research.google.com/notebooks/data_table.ipynb>data table notebook</a>'\n",
              "            + ' to learn more about interactive tables.';\n",
              "          element.innerHTML = '';\n",
              "          dataTable['output_type'] = 'display_data';\n",
              "          await google.colab.output.renderOutput(dataTable, element);\n",
              "          const docLink = document.createElement('div');\n",
              "          docLink.innerHTML = docLinkHtml;\n",
              "          element.appendChild(docLink);\n",
              "        }\n",
              "      </script>\n",
              "    </div>\n",
              "  </div>\n",
              "  "
            ]
          },
          "metadata": {},
          "execution_count": 3
        }
      ],
      "source": [
        "obj = {'num': np.random.choice(a=[1,2,3,4,5],            # Opções\n",
        "                               size=30,                  # Tamanho da amostra;\n",
        "                               replace=True,             # Se pode haver repetição;\n",
        "                               p=[0.2,0.2,0.2,0.2,0.2]), # Probabilidade de cada elemento ser selecionado;\n",
        "       'cat': np.random.choice(a=[\"a\",\"b\",\"c\",\"d\",\"e\"], size=30, replace=True, p=[0.2,0.2,0.2,0.2,0.2])}\n",
        "\n",
        "base = pd.DataFrame(data=obj)          # Fazendo minha própria tabelinha\n",
        "base.head()"
      ]
    },
    {
      "cell_type": "code",
      "execution_count": null,
      "metadata": {
        "colab": {
          "base_uri": "https://localhost:8080/"
        },
        "id": "iW4DBxUAOu-_",
        "outputId": "c8c038a7-4a9a-4fbe-9ca9-00597d283418"
      },
      "outputs": [
        {
          "output_type": "execute_result",
          "data": {
            "text/plain": [
              "1    11\n",
              "4     7\n",
              "2     4\n",
              "5     4\n",
              "3     4\n",
              "Name: num, dtype: int64"
            ]
          },
          "metadata": {},
          "execution_count": 8
        }
      ],
      "source": [
        "base['num'].value_counts() # Mostra quantas vezes aparece cada um dos valores"
      ]
    },
    {
      "cell_type": "markdown",
      "metadata": {
        "id": "T8bOnq2aOu--"
      },
      "source": [
        "##### Amostra Estratificada"
      ]
    },
    {
      "cell_type": "code",
      "execution_count": null,
      "metadata": {
        "id": "mDVmooaWOu-_"
      },
      "outputs": [],
      "source": [
        "from sklearn.model_selection import train_test_split"
      ]
    },
    {
      "cell_type": "code",
      "execution_count": null,
      "metadata": {
        "colab": {
          "base_uri": "https://localhost:8080/",
          "height": 269
        },
        "id": "T0uHRg22Ou_A",
        "outputId": "9ab4e3a5-2039-4da8-d1aa-9e27cc7d2af1"
      },
      "outputs": [
        {
          "output_type": "execute_result",
          "data": {
            "text/plain": [
              "    num cat\n",
              "6     2   a\n",
              "28    4   c\n",
              "2     4   d\n",
              "15    2   e\n",
              "14    2   a\n",
              "24    4   b\n",
              "18    4   d"
            ],
            "text/html": [
              "\n",
              "  <div id=\"df-2f19e9ab-94a8-4a44-a164-6a5a58834426\">\n",
              "    <div class=\"colab-df-container\">\n",
              "      <div>\n",
              "<style scoped>\n",
              "    .dataframe tbody tr th:only-of-type {\n",
              "        vertical-align: middle;\n",
              "    }\n",
              "\n",
              "    .dataframe tbody tr th {\n",
              "        vertical-align: top;\n",
              "    }\n",
              "\n",
              "    .dataframe thead th {\n",
              "        text-align: right;\n",
              "    }\n",
              "</style>\n",
              "<table border=\"1\" class=\"dataframe\">\n",
              "  <thead>\n",
              "    <tr style=\"text-align: right;\">\n",
              "      <th></th>\n",
              "      <th>num</th>\n",
              "      <th>cat</th>\n",
              "    </tr>\n",
              "  </thead>\n",
              "  <tbody>\n",
              "    <tr>\n",
              "      <th>6</th>\n",
              "      <td>2</td>\n",
              "      <td>a</td>\n",
              "    </tr>\n",
              "    <tr>\n",
              "      <th>28</th>\n",
              "      <td>4</td>\n",
              "      <td>c</td>\n",
              "    </tr>\n",
              "    <tr>\n",
              "      <th>2</th>\n",
              "      <td>4</td>\n",
              "      <td>d</td>\n",
              "    </tr>\n",
              "    <tr>\n",
              "      <th>15</th>\n",
              "      <td>2</td>\n",
              "      <td>e</td>\n",
              "    </tr>\n",
              "    <tr>\n",
              "      <th>14</th>\n",
              "      <td>2</td>\n",
              "      <td>a</td>\n",
              "    </tr>\n",
              "    <tr>\n",
              "      <th>24</th>\n",
              "      <td>4</td>\n",
              "      <td>b</td>\n",
              "    </tr>\n",
              "    <tr>\n",
              "      <th>18</th>\n",
              "      <td>4</td>\n",
              "      <td>d</td>\n",
              "    </tr>\n",
              "  </tbody>\n",
              "</table>\n",
              "</div>\n",
              "      <button class=\"colab-df-convert\" onclick=\"convertToInteractive('df-2f19e9ab-94a8-4a44-a164-6a5a58834426')\"\n",
              "              title=\"Convert this dataframe to an interactive table.\"\n",
              "              style=\"display:none;\">\n",
              "        \n",
              "  <svg xmlns=\"http://www.w3.org/2000/svg\" height=\"24px\"viewBox=\"0 0 24 24\"\n",
              "       width=\"24px\">\n",
              "    <path d=\"M0 0h24v24H0V0z\" fill=\"none\"/>\n",
              "    <path d=\"M18.56 5.44l.94 2.06.94-2.06 2.06-.94-2.06-.94-.94-2.06-.94 2.06-2.06.94zm-11 1L8.5 8.5l.94-2.06 2.06-.94-2.06-.94L8.5 2.5l-.94 2.06-2.06.94zm10 10l.94 2.06.94-2.06 2.06-.94-2.06-.94-.94-2.06-.94 2.06-2.06.94z\"/><path d=\"M17.41 7.96l-1.37-1.37c-.4-.4-.92-.59-1.43-.59-.52 0-1.04.2-1.43.59L10.3 9.45l-7.72 7.72c-.78.78-.78 2.05 0 2.83L4 21.41c.39.39.9.59 1.41.59.51 0 1.02-.2 1.41-.59l7.78-7.78 2.81-2.81c.8-.78.8-2.07 0-2.86zM5.41 20L4 18.59l7.72-7.72 1.47 1.35L5.41 20z\"/>\n",
              "  </svg>\n",
              "      </button>\n",
              "      \n",
              "  <style>\n",
              "    .colab-df-container {\n",
              "      display:flex;\n",
              "      flex-wrap:wrap;\n",
              "      gap: 12px;\n",
              "    }\n",
              "\n",
              "    .colab-df-convert {\n",
              "      background-color: #E8F0FE;\n",
              "      border: none;\n",
              "      border-radius: 50%;\n",
              "      cursor: pointer;\n",
              "      display: none;\n",
              "      fill: #1967D2;\n",
              "      height: 32px;\n",
              "      padding: 0 0 0 0;\n",
              "      width: 32px;\n",
              "    }\n",
              "\n",
              "    .colab-df-convert:hover {\n",
              "      background-color: #E2EBFA;\n",
              "      box-shadow: 0px 1px 2px rgba(60, 64, 67, 0.3), 0px 1px 3px 1px rgba(60, 64, 67, 0.15);\n",
              "      fill: #174EA6;\n",
              "    }\n",
              "\n",
              "    [theme=dark] .colab-df-convert {\n",
              "      background-color: #3B4455;\n",
              "      fill: #D2E3FC;\n",
              "    }\n",
              "\n",
              "    [theme=dark] .colab-df-convert:hover {\n",
              "      background-color: #434B5C;\n",
              "      box-shadow: 0px 1px 3px 1px rgba(0, 0, 0, 0.15);\n",
              "      filter: drop-shadow(0px 1px 2px rgba(0, 0, 0, 0.3));\n",
              "      fill: #FFFFFF;\n",
              "    }\n",
              "  </style>\n",
              "\n",
              "      <script>\n",
              "        const buttonEl =\n",
              "          document.querySelector('#df-2f19e9ab-94a8-4a44-a164-6a5a58834426 button.colab-df-convert');\n",
              "        buttonEl.style.display =\n",
              "          google.colab.kernel.accessAllowed ? 'block' : 'none';\n",
              "\n",
              "        async function convertToInteractive(key) {\n",
              "          const element = document.querySelector('#df-2f19e9ab-94a8-4a44-a164-6a5a58834426');\n",
              "          const dataTable =\n",
              "            await google.colab.kernel.invokeFunction('convertToInteractive',\n",
              "                                                     [key], {});\n",
              "          if (!dataTable) return;\n",
              "\n",
              "          const docLinkHtml = 'Like what you see? Visit the ' +\n",
              "            '<a target=\"_blank\" href=https://colab.research.google.com/notebooks/data_table.ipynb>data table notebook</a>'\n",
              "            + ' to learn more about interactive tables.';\n",
              "          element.innerHTML = '';\n",
              "          dataTable['output_type'] = 'display_data';\n",
              "          await google.colab.output.renderOutput(dataTable, element);\n",
              "          const docLink = document.createElement('div');\n",
              "          docLink.innerHTML = docLinkHtml;\n",
              "          element.appendChild(docLink);\n",
              "        }\n",
              "      </script>\n",
              "    </div>\n",
              "  </div>\n",
              "  "
            ]
          },
          "metadata": {},
          "execution_count": 9
        }
      ],
      "source": [
        "x,_,y,_= train_test_split(base.iloc[:,0:2],base.iloc[:,1], # o traço é usado pra evitar que a variável receba o complemento da base de dados\n",
        "                   test_size = 0.75,  # Tamanho da amostra a ser retirada (mas parace que acontece o contrário)\n",
        "                   stratify=base.iloc[:,1]) # Categoria que é a base para a estratificação;\n",
        "x"
      ]
    },
    {
      "cell_type": "code",
      "execution_count": null,
      "metadata": {
        "colab": {
          "base_uri": "https://localhost:8080/"
        },
        "id": "5U9aCJmCOu_B",
        "outputId": "425061b8-76c4-4977-8df0-612534101ff6"
      },
      "outputs": [
        {
          "output_type": "execute_result",
          "data": {
            "text/plain": [
              "a    2\n",
              "d    2\n",
              "c    1\n",
              "e    1\n",
              "b    1\n",
              "Name: cat, dtype: int64"
            ]
          },
          "metadata": {},
          "execution_count": 11
        }
      ],
      "source": [
        "y.value_counts()"
      ]
    },
    {
      "cell_type": "markdown",
      "metadata": {
        "id": "P_lsGyGWOu_B"
      },
      "source": [
        "##### Amostra sistemática"
      ]
    },
    {
      "cell_type": "code",
      "execution_count": null,
      "metadata": {
        "id": "uHHye28XOu_C"
      },
      "outputs": [],
      "source": [
        "from math import ceil # função para arredondamento"
      ]
    },
    {
      "cell_type": "code",
      "execution_count": null,
      "metadata": {
        "id": "TeDscB45Ou_C"
      },
      "outputs": [],
      "source": [
        "pop = 30\n",
        "amostra = 5\n",
        "k = pop/amostra"
      ]
    },
    {
      "cell_type": "code",
      "execution_count": null,
      "metadata": {
        "id": "J0YnYuHpOu_C",
        "outputId": "5c284fa5-08e7-49a6-b0f8-613472482350"
      },
      "outputs": [
        {
          "data": {
            "text/plain": [
              "[4, 10.0, 16.0, 22.0, 28.0]"
            ]
          },
          "execution_count": 43,
          "metadata": {},
          "output_type": "execute_result"
        }
      ],
      "source": [
        "r = np.random.randint(low=1, high = k+1, size = 1) #gerar amostras de números inteiros\n",
        "sorteados=[]\n",
        "acumulador=r[0] #pra mostrar o valor do r\n",
        "for i in range(amostra):\n",
        "    sorteados.append(acumulador)\n",
        "    acumulador += k\n",
        "    \n",
        "sorteados"
      ]
    },
    {
      "cell_type": "code",
      "execution_count": null,
      "metadata": {
        "id": "R2NHouCyOu_D",
        "outputId": "42ad9fe2-273b-4f3c-d015-e5effb3df7f6"
      },
      "outputs": [
        {
          "data": {
            "text/html": [
              "<div>\n",
              "<style scoped>\n",
              "    .dataframe tbody tr th:only-of-type {\n",
              "        vertical-align: middle;\n",
              "    }\n",
              "\n",
              "    .dataframe tbody tr th {\n",
              "        vertical-align: top;\n",
              "    }\n",
              "\n",
              "    .dataframe thead th {\n",
              "        text-align: right;\n",
              "    }\n",
              "</style>\n",
              "<table border=\"1\" class=\"dataframe\">\n",
              "  <thead>\n",
              "    <tr style=\"text-align: right;\">\n",
              "      <th></th>\n",
              "      <th>num</th>\n",
              "      <th>cat</th>\n",
              "    </tr>\n",
              "  </thead>\n",
              "  <tbody>\n",
              "    <tr>\n",
              "      <th>4.0</th>\n",
              "      <td>1</td>\n",
              "      <td>a</td>\n",
              "    </tr>\n",
              "    <tr>\n",
              "      <th>10.0</th>\n",
              "      <td>1</td>\n",
              "      <td>b</td>\n",
              "    </tr>\n",
              "    <tr>\n",
              "      <th>16.0</th>\n",
              "      <td>3</td>\n",
              "      <td>e</td>\n",
              "    </tr>\n",
              "    <tr>\n",
              "      <th>22.0</th>\n",
              "      <td>5</td>\n",
              "      <td>e</td>\n",
              "    </tr>\n",
              "    <tr>\n",
              "      <th>28.0</th>\n",
              "      <td>4</td>\n",
              "      <td>a</td>\n",
              "    </tr>\n",
              "  </tbody>\n",
              "</table>\n",
              "</div>"
            ],
            "text/plain": [
              "      num cat\n",
              "4.0     1   a\n",
              "10.0    1   b\n",
              "16.0    3   e\n",
              "22.0    5   e\n",
              "28.0    4   a"
            ]
          },
          "execution_count": 44,
          "metadata": {},
          "output_type": "execute_result"
        }
      ],
      "source": [
        "base.loc[sorteados] #nesse .loc parece que ele pega todos os valores correspondntes a uma linha "
      ]
    },
    {
      "cell_type": "markdown",
      "metadata": {
        "id": "mQ0ZAe-pOu_D"
      },
      "source": [
        "### Medidas de Centralidade e Variabilidade"
      ]
    },
    {
      "cell_type": "code",
      "execution_count": null,
      "metadata": {
        "id": "_tphluVBOu_D"
      },
      "outputs": [],
      "source": [
        "import numpy as np\n",
        "from scipy import stats"
      ]
    },
    {
      "cell_type": "code",
      "execution_count": null,
      "metadata": {
        "colab": {
          "base_uri": "https://localhost:8080/"
        },
        "id": "tfc-BvYkOu_D",
        "outputId": "3981aa66-c76a-4e35-d1e3-cd7985740745"
      },
      "outputs": [
        {
          "output_type": "execute_result",
          "data": {
            "text/plain": [
              "5.0"
            ]
          },
          "metadata": {},
          "execution_count": 15
        }
      ],
      "source": [
        "jogadores=[2, 5, 6, 2, 9, 8, 3, 5]\n",
        "np.mean(jogadores)"
      ]
    },
    {
      "cell_type": "code",
      "execution_count": null,
      "metadata": {
        "colab": {
          "base_uri": "https://localhost:8080/"
        },
        "id": "qAVMU9cAOu_E",
        "outputId": "9f1a0400-5721-4d37-aa8e-5f575bb6586e"
      },
      "outputs": [
        {
          "output_type": "execute_result",
          "data": {
            "text/plain": [
              "5.0"
            ]
          },
          "metadata": {},
          "execution_count": 16
        }
      ],
      "source": [
        "np.median(jogadores)"
      ]
    },
    {
      "cell_type": "code",
      "execution_count": null,
      "metadata": {
        "colab": {
          "base_uri": "https://localhost:8080/"
        },
        "id": "GQtu5hV3Ou_E",
        "outputId": "340fdf0f-37bf-4ff5-8235-b06102d4ac0c"
      },
      "outputs": [
        {
          "output_type": "execute_result",
          "data": {
            "text/plain": [
              "array([2., 5., 9.])"
            ]
          },
          "metadata": {},
          "execution_count": 17
        }
      ],
      "source": [
        "np.quantile(jogadores,[0,0.5,1])"
      ]
    },
    {
      "cell_type": "code",
      "execution_count": null,
      "metadata": {
        "colab": {
          "base_uri": "https://localhost:8080/"
        },
        "id": "a-qSrmBCOu_E",
        "outputId": "87e7c6ed-289f-4d50-e0d2-0a4f49b54c77"
      },
      "outputs": [
        {
          "output_type": "execute_result",
          "data": {
            "text/plain": [
              "2.6186146828319083"
            ]
          },
          "metadata": {},
          "execution_count": 18
        }
      ],
      "source": [
        "np.std(jogadores, ddof=1) # o ddof para calcular o desvio amostral"
      ]
    },
    {
      "cell_type": "code",
      "execution_count": null,
      "metadata": {
        "colab": {
          "base_uri": "https://localhost:8080/"
        },
        "id": "_NxyULEmOu_E",
        "outputId": "7801ce7e-d904-4866-c4f5-1e0756af9645"
      },
      "outputs": [
        {
          "output_type": "execute_result",
          "data": {
            "text/plain": [
              "DescribeResult(nobs=8, minmax=(2, 9), mean=5.0, variance=6.857142857142857, skewness=0.2551551815399144, kurtosis=-1.2083333333333333)"
            ]
          },
          "metadata": {},
          "execution_count": 19
        }
      ],
      "source": [
        "stats.describe(jogadores)"
      ]
    },
    {
      "cell_type": "markdown",
      "metadata": {
        "id": "bKsHIhsKOu_F"
      },
      "source": [
        "### Probabilidade "
      ]
    },
    {
      "cell_type": "markdown",
      "metadata": {
        "id": "yoA8dtTBOu_F"
      },
      "source": [
        "##### Distribuição Binomial"
      ]
    },
    {
      "cell_type": "code",
      "execution_count": null,
      "metadata": {
        "id": "y1TjBws1Ou_F"
      },
      "outputs": [],
      "source": [
        "from scipy.stats import binom"
      ]
    },
    {
      "cell_type": "code",
      "execution_count": null,
      "metadata": {
        "id": "8qndH6c_Ou_F",
        "outputId": "6d12d3a5-ce9c-4fbe-9c2b-4a0f2bc37afe"
      },
      "outputs": [
        {
          "data": {
            "text/plain": [
              "0.13229999999999992"
            ]
          },
          "execution_count": 9,
          "metadata": {},
          "output_type": "execute_result"
        }
      ],
      "source": [
        "binom.pmf(3,5,0.3) #P(X=3), X~Bin(5,0.3)"
      ]
    },
    {
      "cell_type": "code",
      "execution_count": null,
      "metadata": {
        "id": "J5yXcEVhOu_F",
        "outputId": "fe9ded81-01e7-4d69-e850-7cbfb13995e9"
      },
      "outputs": [
        {
          "data": {
            "text/plain": [
              "0.96922"
            ]
          },
          "execution_count": 11,
          "metadata": {},
          "output_type": "execute_result"
        }
      ],
      "source": [
        "binom.cdf(3,5,0.3) #P(X<=3), X~Bin(5,0.3)"
      ]
    },
    {
      "cell_type": "markdown",
      "metadata": {
        "id": "RQgs0GWGOu_G"
      },
      "source": [
        "##### Distribuição Normal"
      ]
    },
    {
      "cell_type": "code",
      "execution_count": null,
      "metadata": {
        "id": "KJYUZecnOu_G"
      },
      "outputs": [],
      "source": [
        "from scipy.stats import norm"
      ]
    },
    {
      "cell_type": "code",
      "execution_count": null,
      "metadata": {
        "id": "UKp62HYsOu_G",
        "outputId": "053e08d8-febf-4aa4-d008-b5b03c1f44f8"
      },
      "outputs": [
        {
          "data": {
            "text/plain": [
              "0.15865525393145707"
            ]
          },
          "execution_count": 2,
          "metadata": {},
          "output_type": "execute_result"
        }
      ],
      "source": [
        "norm.cdf(6,8,2) #P(X<6), X~Normal(8, desvio padrão=2)"
      ]
    },
    {
      "cell_type": "code",
      "execution_count": null,
      "metadata": {
        "id": "xMMyO_NXOu_G"
      },
      "outputs": [],
      "source": [
        "from scipy import stats\n",
        "from scipy.stats import norm\n",
        "import matplotlib.pyplot as plt"
      ]
    },
    {
      "cell_type": "code",
      "execution_count": null,
      "metadata": {
        "id": "nEfWYfn2Ou_H",
        "outputId": "2d307561-fbb9-4ad9-a663-66e368c6a563"
      },
      "outputs": [
        {
          "data": {
            "text/plain": [
              "((array([-2.46203784, -2.12570747, -1.93122778, -1.79044653, -1.67819304,\n",
              "         -1.58381122, -1.50174123, -1.42869743, -1.36256869, -1.30191411,\n",
              "         -1.24570419, -1.19317644, -1.14374949, -1.09696931, -1.05247413,\n",
              "         -1.00997067, -0.96921765, -0.93001393, -0.89218993, -0.85560121,\n",
              "         -0.82012357, -0.78564937, -0.75208458, -0.71934648, -0.68736185,\n",
              "         -0.65606548, -0.62539893, -0.59530962, -0.56574992, -0.53667655,\n",
              "         -0.50804994, -0.47983378, -0.45199463, -0.42450149, -0.39732558,\n",
              "         -0.37044003, -0.34381966, -0.31744076, -0.29128096, -0.26531902,\n",
              "         -0.23953472, -0.21390872, -0.18842244, -0.16305799, -0.13779803,\n",
              "         -0.1126257 , -0.08752455, -0.06247843, -0.03747145, -0.01248789,\n",
              "          0.01248789,  0.03747145,  0.06247843,  0.08752455,  0.1126257 ,\n",
              "          0.13779803,  0.16305799,  0.18842244,  0.21390872,  0.23953472,\n",
              "          0.26531902,  0.29128096,  0.31744076,  0.34381966,  0.37044003,\n",
              "          0.39732558,  0.42450149,  0.45199463,  0.47983378,  0.50804994,\n",
              "          0.53667655,  0.56574992,  0.59530962,  0.62539893,  0.65606548,\n",
              "          0.68736185,  0.71934648,  0.75208458,  0.78564937,  0.82012357,\n",
              "          0.85560121,  0.89218993,  0.93001393,  0.96921765,  1.00997067,\n",
              "          1.05247413,  1.09696931,  1.14374949,  1.19317644,  1.24570419,\n",
              "          1.30191411,  1.36256869,  1.42869743,  1.50174123,  1.58381122,\n",
              "          1.67819304,  1.79044653,  1.93122778,  2.12570747,  2.46203784]),\n",
              "  array([-2.63034957e+00, -1.99099292e+00, -1.93748132e+00, -1.74895623e+00,\n",
              "         -1.51242342e+00, -1.24363112e+00, -1.23719375e+00, -1.13565262e+00,\n",
              "         -1.00258834e+00, -9.77935891e-01, -9.58087980e-01, -9.49670146e-01,\n",
              "         -9.19174053e-01, -8.94489880e-01, -8.90283332e-01, -8.48319260e-01,\n",
              "         -8.42228347e-01, -7.79015634e-01, -7.78868353e-01, -7.28267950e-01,\n",
              "         -7.15114959e-01, -6.43663451e-01, -6.27267119e-01, -6.12326768e-01,\n",
              "         -5.92944220e-01, -5.66119099e-01, -5.61900402e-01, -5.28096901e-01,\n",
              "         -4.74153628e-01, -4.56018141e-01, -4.06175703e-01, -3.96134294e-01,\n",
              "         -3.69129064e-01, -3.38721842e-01, -3.25375476e-01, -2.86501736e-01,\n",
              "         -2.63287448e-01, -2.53592819e-01, -2.46111227e-01, -2.33976993e-01,\n",
              "         -2.27093519e-01, -2.10019139e-01, -2.08869395e-01, -1.87209005e-01,\n",
              "         -1.68624290e-01, -1.51416786e-01, -1.30113876e-01, -1.01656005e-01,\n",
              "         -6.52270798e-02, -3.06349874e-02, -2.02854153e-02,  2.41985580e-03,\n",
              "          4.46787491e-02,  5.69161266e-02,  5.73534347e-02,  9.42797414e-02,\n",
              "          1.13726086e-01,  1.21881835e-01,  1.39907887e-01,  1.60215446e-01,\n",
              "          1.82695755e-01,  2.23203286e-01,  2.55777894e-01,  2.57537596e-01,\n",
              "          2.64659642e-01,  2.80367587e-01,  2.89622188e-01,  3.32435035e-01,\n",
              "          3.64194427e-01,  4.41659032e-01,  4.56138163e-01,  4.97984218e-01,\n",
              "          5.19905104e-01,  5.21712783e-01,  5.52497240e-01,  5.60493501e-01,\n",
              "          6.91687874e-01,  7.03930008e-01,  7.37631012e-01,  7.39857568e-01,\n",
              "          7.58822357e-01,  8.03327403e-01,  8.34180653e-01,  9.15060540e-01,\n",
              "          1.07301688e+00,  1.08784724e+00,  1.14082303e+00,  1.16563629e+00,\n",
              "          1.22053529e+00,  1.24912793e+00,  1.25611474e+00,  1.26604419e+00,\n",
              "          1.34244426e+00,  1.63441051e+00,  1.69030002e+00,  1.72242714e+00,\n",
              "          1.84788303e+00,  1.90552222e+00,  2.26468052e+00,  3.00462898e+00])),\n",
              " (0.9521649602241987, 0.03444831398700017, 0.9922924625199153))"
            ]
          },
          "execution_count": 4,
          "metadata": {},
          "output_type": "execute_result"
        },
        {
          "data": {
            "image/png": "[encoded data removed]",
            "text/plain": [
              "<Figure size 432x288 with 1 Axes>"
            ]
          },
          "metadata": {
            "needs_background": "light"
          },
          "output_type": "display_data"
        }
      ],
      "source": [
        "dados = norm.rvs(size=100) # Gera uma amostra a partir de uma distribuição Normal;\n",
        "stats.probplot(dados, plot = plt) # QQplot para verificar Normalidade;"
      ]
    },
    {
      "cell_type": "code",
      "execution_count": null,
      "metadata": {
        "id": "bS4C6atUOu_H",
        "outputId": "ee57b6d3-ccc3-4286-90cd-a9e78b122eba"
      },
      "outputs": [
        {
          "data": {
            "text/plain": [
              "(0.9888631701469421, 0.5738451480865479)"
            ]
          },
          "execution_count": 5,
          "metadata": {},
          "output_type": "execute_result"
        }
      ],
      "source": [
        "stats.shapiro(dados) #Teste de Shapiro-Wilk, primeiro retorna a Estatística de teste, depois o p-valor"
      ]
    },
    {
      "cell_type": "markdown",
      "metadata": {
        "id": "-HSb50MvOu_H"
      },
      "source": [
        "##### Distribuição T de Student"
      ]
    },
    {
      "cell_type": "code",
      "execution_count": null,
      "metadata": {
        "id": "-LcsTwlnOu_H"
      },
      "outputs": [],
      "source": [
        "from scipy.stats import t"
      ]
    },
    {
      "cell_type": "code",
      "execution_count": null,
      "metadata": {
        "id": "jTSvthL5Ou_H",
        "outputId": "7717f9e7-ee80-4d66-9a9e-086483e2bb88"
      },
      "outputs": [
        {
          "data": {
            "text/plain": [
              "0.9139983540240443"
            ]
          },
          "execution_count": 7,
          "metadata": {},
          "output_type": "execute_result"
        }
      ],
      "source": [
        "t.cdf(1.5,8) #P(X<1.5), X~T-Student, gl=8"
      ]
    },
    {
      "cell_type": "code",
      "execution_count": null,
      "metadata": {
        "id": "HeIdnGRkOu_M",
        "outputId": "a923fb20-dd8c-4381-bcfd-6a9f04d10534"
      },
      "outputs": [
        {
          "data": {
            "text/plain": [
              "0.08600164597595565"
            ]
          },
          "execution_count": 8,
          "metadata": {},
          "output_type": "execute_result"
        }
      ],
      "source": [
        "t.sf(1.5,8) #P(X>1.5), X~T-Student, gl=8"
      ]
    },
    {
      "cell_type": "markdown",
      "metadata": {
        "id": "DmE2JlJ2Ou_M"
      },
      "source": [
        "##### Distribuição Poisson"
      ]
    },
    {
      "cell_type": "code",
      "execution_count": null,
      "metadata": {
        "id": "s3vsMsL3Ou_M"
      },
      "outputs": [],
      "source": [
        "from scipy.stats import poisson "
      ]
    },
    {
      "cell_type": "code",
      "execution_count": null,
      "metadata": {
        "id": "VrlrxonqOu_M",
        "outputId": "91f59e9a-b21a-4fd0-c3e5-79769286cda9"
      },
      "outputs": [
        {
          "data": {
            "text/plain": [
              "0.18044704431548356"
            ]
          },
          "execution_count": 2,
          "metadata": {},
          "output_type": "execute_result"
        }
      ],
      "source": [
        "poisson.pmf(3,2) #P(X=3), X~Poisson(2)"
      ]
    },
    {
      "cell_type": "code",
      "execution_count": null,
      "metadata": {
        "id": "23rD9EL1Ou_M",
        "outputId": "be5c423d-61db-4909-daf5-85a5a1d9daff"
      },
      "outputs": [
        {
          "data": {
            "text/plain": [
              "0.857123460498547"
            ]
          },
          "execution_count": 3,
          "metadata": {},
          "output_type": "execute_result"
        }
      ],
      "source": [
        "poisson.cdf(3,2) #P(X<=3), X~Poisson(2)"
      ]
    },
    {
      "cell_type": "code",
      "execution_count": null,
      "metadata": {
        "id": "CnuoKlFyOu_M",
        "outputId": "daff7b09-5a69-4f8d-f5fb-b64c4e4fc463"
      },
      "outputs": [
        {
          "data": {
            "text/plain": [
              "0.14287653950145296"
            ]
          },
          "execution_count": 4,
          "metadata": {},
          "output_type": "execute_result"
        }
      ],
      "source": [
        "poisson.sf(3,2) #P(X>3), X~Poisson(2)"
      ]
    },
    {
      "cell_type": "markdown",
      "metadata": {
        "id": "eIP6koOqOu_N"
      },
      "source": [
        "### Teste de Independência"
      ]
    },
    {
      "cell_type": "code",
      "execution_count": null,
      "metadata": {
        "id": "b0Nz53cAOu_N"
      },
      "outputs": [],
      "source": [
        "import numpy as np\n",
        "from scipy.stats import chi2_contingency"
      ]
    },
    {
      "cell_type": "code",
      "execution_count": null,
      "metadata": {
        "id": "MNp-v4s7Ou_N",
        "outputId": "45604449-cbfa-4fb0-c43f-53cc51a4347c"
      },
      "outputs": [
        {
          "data": {
            "text/plain": [
              "array([[19,  6],\n",
              "       [43, 32]])"
            ]
          },
          "execution_count": 8,
          "metadata": {},
          "output_type": "execute_result"
        }
      ],
      "source": [
        "novela = np.array([[19,6],[43,32]])\n",
        "novela"
      ]
    },
    {
      "cell_type": "code",
      "execution_count": null,
      "metadata": {
        "id": "uPgQ8680Ou_N",
        "outputId": "9fcb40cf-e214-4100-8663-85209099d150"
      },
      "outputs": [
        {
          "data": {
            "text/plain": [
              "(2.037351443123939, 0.15347667161786666, 1, array([[15.5,  9.5],\n",
              "        [46.5, 28.5]]))"
            ]
          },
          "execution_count": 9,
          "metadata": {},
          "output_type": "execute_result"
        }
      ],
      "source": [
        "chi2_contingency(novela) # Teste de Independêcia ChiQuadrado\n",
        "# Primerio valor é a Est. de Teste, o segundo é o p-valor, o terceiro é o grau de liberdade e o último é \n",
        "# o array caso a matriz fosse independente."
      ]
    },
    {
      "cell_type": "markdown",
      "metadata": {
        "id": "PRJCcS6tOu_N"
      },
      "source": [
        "### Análise de Regressão"
      ]
    },
    {
      "cell_type": "code",
      "execution_count": null,
      "metadata": {
        "id": "tzAl5D9nOu_O"
      },
      "outputs": [],
      "source": [
        "import pandas as pd\n",
        "import numpy as np\n",
        "import matplotlib.pyplot as plt\n",
        "from sklearn.linear_model import LinearRegression"
      ]
    },
    {
      "cell_type": "code",
      "execution_count": null,
      "metadata": {
        "id": "nNEXxjzIOu_O"
      },
      "outputs": [],
      "source": [
        "obj={\"vel\": np.random.choice(a=[30,40,50,60,70], size = 50, replace = True, p = [0.2,0.2,0.2,0.2,0.2]),\n",
        "     \"dist\": np.random.choice(a=[100,150,200,250,300], size = 50, replace = True, p = [0.2,0.2,0.2,0.2,0.2]),\n",
        "     \"teste\":[1,1,1,1,1,1,1,1,1,1,1,1,1,1,1,1,1,1,1,1,1,1,1,1,1,1,1,1,1,1,1,1,1,1,1,1,1,1,1,1,1,1,1,1,1,1,1,1,1,1]}\n",
        "\n",
        "base=pd.DataFrame(data=obj)"
      ]
    },
    {
      "cell_type": "code",
      "execution_count": null,
      "metadata": {
        "id": "NnySQOIpOu_O"
      },
      "outputs": [],
      "source": [
        "base = base.drop([\"teste\"], axis=1) #Tirar informações do banco de dados, o axis=1 representa a retirada por coluna"
      ]
    },
    {
      "cell_type": "code",
      "execution_count": null,
      "metadata": {
        "id": "iqmwQ3UIOu_P"
      },
      "outputs": [],
      "source": [
        "x = base.iloc[:,1].values\n",
        "y = base.iloc[:,0].values"
      ]
    },
    {
      "cell_type": "code",
      "execution_count": null,
      "metadata": {
        "id": "uKa0pk_7Ou_P",
        "outputId": "c2c18eb2-4641-495d-b349-376ac94ea2bf"
      },
      "outputs": [
        {
          "data": {
            "text/plain": [
              "array([250, 200, 250, 150, 100, 150, 300, 100, 250, 300, 300, 150, 250,\n",
              "       250, 250, 150, 200, 200, 250, 100, 100, 150, 150, 100, 150, 100,\n",
              "       150, 150, 200, 300, 100, 100, 100, 200, 100, 150, 250, 250, 100,\n",
              "       100, 250, 250, 100, 250, 200, 250, 150, 200, 200, 100])"
            ]
          },
          "execution_count": 5,
          "metadata": {},
          "output_type": "execute_result"
        }
      ],
      "source": [
        "x"
      ]
    },
    {
      "cell_type": "code",
      "execution_count": null,
      "metadata": {
        "id": "vxgEV7_WOu_Q",
        "outputId": "0ba34e07-a9fb-4d33-e6de-e902e07a4686"
      },
      "outputs": [
        {
          "data": {
            "text/plain": [
              "array([30, 70, 40, 60, 30, 30, 40, 30, 70, 60, 40, 60, 70, 60, 40, 30, 40,\n",
              "       50, 50, 30, 60, 40, 30, 60, 40, 50, 60, 40, 30, 40, 60, 70, 50, 50,\n",
              "       60, 40, 30, 70, 40, 70, 60, 30, 50, 50, 70, 70, 70, 40, 30, 60])"
            ]
          },
          "execution_count": 7,
          "metadata": {},
          "output_type": "execute_result"
        }
      ],
      "source": [
        "y"
      ]
    },
    {
      "cell_type": "code",
      "execution_count": null,
      "metadata": {
        "colab": {
          "base_uri": "https://localhost:8080/"
        },
        "id": "YcMhMcmZOu_Q",
        "outputId": "e55abe7b-efad-4938-a7c5-b02e07a8ae0b"
      },
      "outputs": [
        {
          "output_type": "execute_result",
          "data": {
            "text/plain": [
              "array([[ 1.        , -0.03980294],\n",
              "       [-0.03980294,  1.        ]])"
            ]
          },
          "metadata": {},
          "execution_count": 25
        }
      ],
      "source": [
        "correlacao = np.corrcoef(x,y) #Para fazer a análise de Correlação\n",
        "correlacao"
      ]
    },
    {
      "cell_type": "code",
      "execution_count": null,
      "metadata": {
        "colab": {
          "base_uri": "https://localhost:8080/"
        },
        "id": "QUMQf-vcOu_R",
        "outputId": "c88c79eb-0a35-4cc6-88a0-027396a6ccc4"
      },
      "outputs": [
        {
          "output_type": "execute_result",
          "data": {
            "text/plain": [
              "array([[200],\n",
              "       [150],\n",
              "       [200],\n",
              "       [250],\n",
              "       [200],\n",
              "       [150],\n",
              "       [250],\n",
              "       [200],\n",
              "       [250],\n",
              "       [300],\n",
              "       [300],\n",
              "       [300],\n",
              "       [100],\n",
              "       [300],\n",
              "       [250],\n",
              "       [100],\n",
              "       [150],\n",
              "       [200],\n",
              "       [100],\n",
              "       [150],\n",
              "       [100],\n",
              "       [300],\n",
              "       [100],\n",
              "       [250],\n",
              "       [150],\n",
              "       [100],\n",
              "       [200],\n",
              "       [100],\n",
              "       [150],\n",
              "       [200],\n",
              "       [150],\n",
              "       [300],\n",
              "       [150],\n",
              "       [200],\n",
              "       [100],\n",
              "       [100],\n",
              "       [200],\n",
              "       [150],\n",
              "       [300],\n",
              "       [250],\n",
              "       [200],\n",
              "       [200],\n",
              "       [150],\n",
              "       [300],\n",
              "       [150],\n",
              "       [250],\n",
              "       [200],\n",
              "       [250],\n",
              "       [250],\n",
              "       [100]])"
            ]
          },
          "metadata": {},
          "execution_count": 26
        }
      ],
      "source": [
        "x=x.reshape(-1,1) #Colocando no formato para usar na fórmula do modelo\n",
        "x"
      ]
    },
    {
      "cell_type": "code",
      "execution_count": null,
      "metadata": {
        "colab": {
          "base_uri": "https://localhost:8080/"
        },
        "id": "bZVavy6nOu_R",
        "outputId": "8fd2ef1c-9e7a-4029-966d-8af489d3d05f"
      },
      "outputs": [
        {
          "output_type": "execute_result",
          "data": {
            "text/plain": [
              "LinearRegression()"
            ]
          },
          "metadata": {},
          "execution_count": 27
        }
      ],
      "source": [
        "modelo = LinearRegression() # Ajustando uma regressão linear\n",
        "modelo.fit(x,y)"
      ]
    },
    {
      "cell_type": "code",
      "execution_count": null,
      "metadata": {
        "colab": {
          "base_uri": "https://localhost:8080/"
        },
        "id": "191ALP3JOu_R",
        "outputId": "6a8c3c2d-87fc-4b93-ddab-eb80b46c85a6"
      },
      "outputs": [
        {
          "output_type": "execute_result",
          "data": {
            "text/plain": [
              "52.296231375985975"
            ]
          },
          "metadata": {},
          "execution_count": 28
        }
      ],
      "source": [
        "modelo.intercept_ # Verificando o intercepto"
      ]
    },
    {
      "cell_type": "code",
      "execution_count": null,
      "metadata": {
        "colab": {
          "base_uri": "https://localhost:8080/"
        },
        "id": "SCrjfksmOu_S",
        "outputId": "13ff65e2-14e9-40e9-cab7-fbe52c463a49"
      },
      "outputs": [
        {
          "output_type": "execute_result",
          "data": {
            "text/plain": [
              "array([-0.00771253])"
            ]
          },
          "metadata": {},
          "execution_count": 29
        }
      ],
      "source": [
        "modelo.coef_"
      ]
    },
    {
      "cell_type": "code",
      "execution_count": null,
      "metadata": {
        "colab": {
          "base_uri": "https://localhost:8080/",
          "height": 282
        },
        "id": "upxzL6UzOu_S",
        "outputId": "1ed6dcb7-aed0-4531-bd27-a43ede650274"
      },
      "outputs": [
        {
          "output_type": "execute_result",
          "data": {
            "text/plain": [
              "[<matplotlib.lines.Line2D at 0x7f0c573a92d0>]"
            ]
          },
          "metadata": {},
          "execution_count": 30
        },
        {
          "output_type": "display_data",
          "data": {
            "text/plain": [
              "<Figure size 432x288 with 1 Axes>"
            ],
            "image/png": "[encoded data removed]"
          },
          "metadata": {
            "needs_background": "light"
          }
        }
      ],
      "source": [
        "plt.scatter(x,y) # Gráfico de Dispersão\n",
        "plt.plot(x, modelo.predict(x), color = \"red\") # Para plotar a reta esperada"
      ]
    },
    {
      "cell_type": "code",
      "execution_count": null,
      "metadata": {
        "id": "54MKDVUqOu_S",
        "outputId": "d60540bc-cb7e-45fe-9398-f462ab61d6b9"
      },
      "outputs": [
        {
          "data": {
            "text/plain": [
              "10241.242180518318"
            ]
          },
          "execution_count": 16,
          "metadata": {},
          "output_type": "execute_result"
        }
      ],
      "source": [
        "modelo._residues # Mostra a soma dos resíduos"
      ]
    },
    {
      "cell_type": "code",
      "execution_count": null,
      "metadata": {
        "id": "fzSdCrovOu_S"
      },
      "outputs": [],
      "source": [
        "from yellowbrick.regressor import ResidualsPlot #T"
      ]
    },
    {
      "cell_type": "code",
      "execution_count": null,
      "metadata": {
        "colab": {
          "base_uri": "https://localhost:8080/",
          "height": 393
        },
        "id": "lrPbC4tjOu_T",
        "outputId": "b6a6b110-bcb4-4605-e1b5-1e7936f15d29"
      },
      "outputs": [
        {
          "output_type": "display_data",
          "data": {
            "text/plain": [
              "<Figure size 576x396 with 2 Axes>"
            ],
            "image/png": "[encoded data removed]"
          },
          "metadata": {}
        },
        {
          "output_type": "execute_result",
          "data": {
            "text/plain": [
              "<matplotlib.axes._subplots.AxesSubplot at 0x7f0c571d88d0>"
            ]
          },
          "metadata": {},
          "execution_count": 32
        }
      ],
      "source": [
        "visualizador = ResidualsPlot(modelo)\n",
        "visualizador.fit(x,y)\n",
        "visualizador.poof()"
      ]
    },
    {
      "cell_type": "markdown",
      "metadata": {
        "id": "xc79PPZpOu_T"
      },
      "source": [
        "### Anova"
      ]
    },
    {
      "cell_type": "code",
      "execution_count": null,
      "metadata": {
        "id": "S8FLj9ADOu_T"
      },
      "outputs": [],
      "source": [
        "obj={'sexo':[\"F\",\"F\",\"F\",\"F\",\"M\",\"M\",\"M\",\"M\",\"F\",\"F\",\"F\",\"F\",\"M\",\"M\",\"M\",\"M\",\"F\",\"F\",\"F\",\"F\",\"M\",\"M\",\"M\",\"M\"],\n",
        "     'remédio':[\"A\",\"A\",\"A\",\"A\",\"A\",\"A\",\"A\",\"A\",\"B\",\"B\",\"B\",\"B\",\"B\",\"B\",\"B\",\"B\",\"C\",\"C\",\"C\",\"C\",\"C\",\"C\",\"C\",\"C\"],\n",
        "     'horas':[5,10,7,7,7,6,9,9,5,5,5,8,7,8,10,7,10,10,6,6,10,6,10,5]}\n",
        "\n",
        "trat = pd.DataFrame(data=obj)"
      ]
    },
    {
      "cell_type": "code",
      "execution_count": null,
      "metadata": {
        "id": "Wr7U9EriOu_T",
        "outputId": "baf910c3-c993-437a-a498-709b51f83e63"
      },
      "outputs": [
        {
          "data": {
            "text/plain": [
              "<matplotlib.axes._subplots.AxesSubplot at 0x7fc3572500b8>"
            ]
          },
          "execution_count": 8,
          "metadata": {},
          "output_type": "execute_result"
        },
        {
          "data": {
            "image/png": "[encoded data removed]",
            "text/plain": [
              "<Figure size 432x288 with 1 Axes>"
            ]
          },
          "metadata": {
            "needs_background": "light"
          },
          "output_type": "display_data"
        }
      ],
      "source": [
        "from scipy import stats\n",
        "trat.boxplot(by='remédio')"
      ]
    },
    {
      "cell_type": "code",
      "execution_count": null,
      "metadata": {
        "colab": {
          "base_uri": "https://localhost:8080/"
        },
        "id": "5KaqZk49Ou_T",
        "outputId": "8e5a12fb-00b1-4267-92c6-85af2f349a79"
      },
      "outputs": [
        {
          "output_type": "stream",
          "name": "stderr",
          "text": [
            "/usr/local/lib/python3.7/dist-packages/statsmodels/tools/_testing.py:19: FutureWarning: pandas.util.testing is deprecated. Use the functions in the public API at pandas.testing instead.\n",
            "  import pandas.util.testing as tm\n"
          ]
        }
      ],
      "source": [
        "import statsmodels.api as sm             \n",
        "from statsmodels.formula.api import ols "
      ]
    },
    {
      "cell_type": "code",
      "execution_count": null,
      "metadata": {
        "colab": {
          "base_uri": "https://localhost:8080/"
        },
        "id": "Ok9tq1sHOu_U",
        "outputId": "c91cb06c-0d1b-4670-a2f3-250ad1fe145b"
      },
      "outputs": [
        {
          "output_type": "stream",
          "name": "stdout",
          "text": [
            "            df     sum_sq   mean_sq         F    PR(>F)\n",
            "remédio    2.0   4.083333  2.041667  0.537618  0.591966\n",
            "Residual  21.0  79.750000  3.797619       NaN       NaN\n"
          ]
        }
      ],
      "source": [
        "modelo1 = ols('horas ~ remédio', data = trat).fit() \n",
        "resultados1 = sm.stats.anova_lm(modelo1, typ = 1) # ANOVA tipo 1\n",
        "print(resultados1)"
      ]
    },
    {
      "cell_type": "code",
      "execution_count": null,
      "metadata": {
        "id": "XY5GCg4JOu_U"
      },
      "outputs": [],
      "source": [
        "# mc = MultiComparison(trat['horas'], trat['remédio'])  # Teste de Tukey;\n",
        "# resultado_teste = mc.tukeyhsd()\n",
        "# print(resultado_teste)"
      ]
    },
    {
      "cell_type": "markdown",
      "metadata": {
        "id": "fwFtzGd3Ou_U"
      },
      "source": [
        "### Outliers"
      ]
    },
    {
      "cell_type": "code",
      "execution_count": null,
      "metadata": {
        "id": "GZ4SdQufOu_U"
      },
      "outputs": [],
      "source": [
        "from scipy.stats import norm\n",
        "import matplotlib.pyplot as plt\n",
        "import pandas as pd"
      ]
    },
    {
      "cell_type": "code",
      "execution_count": null,
      "metadata": {
        "id": "zz-cTCTfOu_U"
      },
      "outputs": [],
      "source": [
        "obj = {'num': [4, 3, 5, 3, 5, 3, 4, 3, 2, 3, 78]}\n",
        "base = pd.DataFrame(data = obj) "
      ]
    },
    {
      "cell_type": "code",
      "execution_count": null,
      "metadata": {
        "id": "iXNQemRVOu_U",
        "outputId": "954cf969-eda9-47b5-89c1-54bb3043b50d"
      },
      "outputs": [
        {
          "data": {
            "text/plain": [
              "{'whiskers': [<matplotlib.lines.Line2D at 0x7f825c776128>,\n",
              "  <matplotlib.lines.Line2D at 0x7f825c776470>,\n",
              "  <matplotlib.lines.Line2D at 0x7f825c6ff860>,\n",
              "  <matplotlib.lines.Line2D at 0x7f825c6ffba8>,\n",
              "  <matplotlib.lines.Line2D at 0x7f825c70bf98>,\n",
              "  <matplotlib.lines.Line2D at 0x7f825c715320>,\n",
              "  <matplotlib.lines.Line2D at 0x7f825c71e710>,\n",
              "  <matplotlib.lines.Line2D at 0x7f825c71ea58>,\n",
              "  <matplotlib.lines.Line2D at 0x7f825c728e48>,\n",
              "  <matplotlib.lines.Line2D at 0x7f825c7331d0>,\n",
              "  <matplotlib.lines.Line2D at 0x7f825c6bd5c0>,\n",
              "  <matplotlib.lines.Line2D at 0x7f825c6bd908>,\n",
              "  <matplotlib.lines.Line2D at 0x7f825c6c7cf8>,\n",
              "  <matplotlib.lines.Line2D at 0x7f825c6d2080>,\n",
              "  <matplotlib.lines.Line2D at 0x7f825c6dd470>,\n",
              "  <matplotlib.lines.Line2D at 0x7f825c6dd7b8>,\n",
              "  <matplotlib.lines.Line2D at 0x7f825c6e6ba8>,\n",
              "  <matplotlib.lines.Line2D at 0x7f825c6e6ef0>,\n",
              "  <matplotlib.lines.Line2D at 0x7f825c6fa320>,\n",
              "  <matplotlib.lines.Line2D at 0x7f825c6fa668>,\n",
              "  <matplotlib.lines.Line2D at 0x7f825c684a58>,\n",
              "  <matplotlib.lines.Line2D at 0x7f825c684da0>],\n",
              " 'caps': [<matplotlib.lines.Line2D at 0x7f825c7767b8>,\n",
              "  <matplotlib.lines.Line2D at 0x7f825c776b00>,\n",
              "  <matplotlib.lines.Line2D at 0x7f825c6ffef0>,\n",
              "  <matplotlib.lines.Line2D at 0x7f825c70b278>,\n",
              "  <matplotlib.lines.Line2D at 0x7f825c715668>,\n",
              "  <matplotlib.lines.Line2D at 0x7f825c7159b0>,\n",
              "  <matplotlib.lines.Line2D at 0x7f825c71eda0>,\n",
              "  <matplotlib.lines.Line2D at 0x7f825c728128>,\n",
              "  <matplotlib.lines.Line2D at 0x7f825c733518>,\n",
              "  <matplotlib.lines.Line2D at 0x7f825c733860>,\n",
              "  <matplotlib.lines.Line2D at 0x7f825c6bdc50>,\n",
              "  <matplotlib.lines.Line2D at 0x7f825c6bdf98>,\n",
              "  <matplotlib.lines.Line2D at 0x7f825c6d23c8>,\n",
              "  <matplotlib.lines.Line2D at 0x7f825c6d2710>,\n",
              "  <matplotlib.lines.Line2D at 0x7f825c6ddb00>,\n",
              "  <matplotlib.lines.Line2D at 0x7f825c6dde48>,\n",
              "  <matplotlib.lines.Line2D at 0x7f825c6ef278>,\n",
              "  <matplotlib.lines.Line2D at 0x7f825c6ef5c0>,\n",
              "  <matplotlib.lines.Line2D at 0x7f825c6fa9b0>,\n",
              "  <matplotlib.lines.Line2D at 0x7f825c6facf8>,\n",
              "  <matplotlib.lines.Line2D at 0x7f825c68f128>,\n",
              "  <matplotlib.lines.Line2D at 0x7f825c68f470>],\n",
              " 'boxes': [<matplotlib.lines.Line2D at 0x7f825c76cf98>,\n",
              "  <matplotlib.lines.Line2D at 0x7f825c6ff4e0>,\n",
              "  <matplotlib.lines.Line2D at 0x7f825c70bc18>,\n",
              "  <matplotlib.lines.Line2D at 0x7f825c71e390>,\n",
              "  <matplotlib.lines.Line2D at 0x7f825c728ac8>,\n",
              "  <matplotlib.lines.Line2D at 0x7f825c6bd240>,\n",
              "  <matplotlib.lines.Line2D at 0x7f825c6c7978>,\n",
              "  <matplotlib.lines.Line2D at 0x7f825c6dd0f0>,\n",
              "  <matplotlib.lines.Line2D at 0x7f825c6e6828>,\n",
              "  <matplotlib.lines.Line2D at 0x7f825c6eff60>,\n",
              "  <matplotlib.lines.Line2D at 0x7f825c6846d8>],\n",
              " 'medians': [<matplotlib.lines.Line2D at 0x7f825c776e48>,\n",
              "  <matplotlib.lines.Line2D at 0x7f825c70b5c0>,\n",
              "  <matplotlib.lines.Line2D at 0x7f825c715cf8>,\n",
              "  <matplotlib.lines.Line2D at 0x7f825c728470>,\n",
              "  <matplotlib.lines.Line2D at 0x7f825c733ba8>,\n",
              "  <matplotlib.lines.Line2D at 0x7f825c6c7320>,\n",
              "  <matplotlib.lines.Line2D at 0x7f825c6d2a58>,\n",
              "  <matplotlib.lines.Line2D at 0x7f825c6e61d0>,\n",
              "  <matplotlib.lines.Line2D at 0x7f825c6ef908>,\n",
              "  <matplotlib.lines.Line2D at 0x7f825c684080>,\n",
              "  <matplotlib.lines.Line2D at 0x7f825c68f7b8>],\n",
              " 'fliers': [<matplotlib.lines.Line2D at 0x7f825c6ff1d0>,\n",
              "  <matplotlib.lines.Line2D at 0x7f825c70b908>,\n",
              "  <matplotlib.lines.Line2D at 0x7f825c71e080>,\n",
              "  <matplotlib.lines.Line2D at 0x7f825c7287b8>,\n",
              "  <matplotlib.lines.Line2D at 0x7f825c733ef0>,\n",
              "  <matplotlib.lines.Line2D at 0x7f825c6c7668>,\n",
              "  <matplotlib.lines.Line2D at 0x7f825c6d2da0>,\n",
              "  <matplotlib.lines.Line2D at 0x7f825c6e6518>,\n",
              "  <matplotlib.lines.Line2D at 0x7f825c6efc50>,\n",
              "  <matplotlib.lines.Line2D at 0x7f825c6843c8>,\n",
              "  <matplotlib.lines.Line2D at 0x7f825c68fb00>],\n",
              " 'means': []}"
            ]
          },
          "execution_count": 29,
          "metadata": {},
          "output_type": "execute_result"
        },
        {
          "data": {
            "image/png": "[encoded data removed]",
            "text/plain": [
              "<Figure size 432x288 with 1 Axes>"
            ]
          },
          "metadata": {
            "needs_background": "light"
          },
          "output_type": "display_data"
        }
      ],
      "source": [
        "plt.boxplot(base.iloc[:,], showfliers = True) "
      ]
    },
    {
      "cell_type": "markdown",
      "metadata": {
        "id": "LIcHTPxROu_V"
      },
      "source": [
        "### Séries Temporais"
      ]
    },
    {
      "cell_type": "code",
      "execution_count": null,
      "metadata": {
        "colab": {
          "base_uri": "https://localhost:8080/",
          "height": 1000
        },
        "id": "YT4bHs19Ou_V",
        "outputId": "b25ebfec-4125-46e7-b00f-ed9f9dfa837a"
      },
      "outputs": [
        {
          "output_type": "execute_result",
          "data": {
            "text/plain": [
              "      datas  info\n",
              "0    1949-1   112\n",
              "1    1949-2   118\n",
              "2    1949-3   132\n",
              "3    1949-4   129\n",
              "4    1949-5   121\n",
              "5    1949-6   135\n",
              "6    1949-7   148\n",
              "7    1949-8   148\n",
              "8    1949-9   136\n",
              "9   1949-10   119\n",
              "10  1949-11   104\n",
              "11  1949-12   118\n",
              "12   1950-1   115\n",
              "13   1950-2   126\n",
              "14   1950-3   141\n",
              "15   1950-4   135\n",
              "16   1950-5   125\n",
              "17   1950-6   149\n",
              "18   1950-7   170\n",
              "19   1950-8   170\n",
              "20   1950-9   158\n",
              "21  1950-10   133\n",
              "22  1950-11   114\n",
              "23  1950-12   140\n",
              "24   1951-1   145\n",
              "25   1951-2   150\n",
              "26   1951-3   178\n",
              "27   1951-4   163\n",
              "28   1951-5   172\n",
              "29   1951-6   178\n",
              "30   1951-7   199\n",
              "31   1951-8   199\n",
              "32   1951-9   184\n",
              "33  1951-10   162\n",
              "34  1951-11   146\n",
              "35  1951-12   166"
            ],
            "text/html": [
              "\n",
              "  <div id=\"df-ac887a83-46a3-4c62-976e-dd809484a166\">\n",
              "    <div class=\"colab-df-container\">\n",
              "      <div>\n",
              "<style scoped>\n",
              "    .dataframe tbody tr th:only-of-type {\n",
              "        vertical-align: middle;\n",
              "    }\n",
              "\n",
              "    .dataframe tbody tr th {\n",
              "        vertical-align: top;\n",
              "    }\n",
              "\n",
              "    .dataframe thead th {\n",
              "        text-align: right;\n",
              "    }\n",
              "</style>\n",
              "<table border=\"1\" class=\"dataframe\">\n",
              "  <thead>\n",
              "    <tr style=\"text-align: right;\">\n",
              "      <th></th>\n",
              "      <th>datas</th>\n",
              "      <th>info</th>\n",
              "    </tr>\n",
              "  </thead>\n",
              "  <tbody>\n",
              "    <tr>\n",
              "      <th>0</th>\n",
              "      <td>1949-1</td>\n",
              "      <td>112</td>\n",
              "    </tr>\n",
              "    <tr>\n",
              "      <th>1</th>\n",
              "      <td>1949-2</td>\n",
              "      <td>118</td>\n",
              "    </tr>\n",
              "    <tr>\n",
              "      <th>2</th>\n",
              "      <td>1949-3</td>\n",
              "      <td>132</td>\n",
              "    </tr>\n",
              "    <tr>\n",
              "      <th>3</th>\n",
              "      <td>1949-4</td>\n",
              "      <td>129</td>\n",
              "    </tr>\n",
              "    <tr>\n",
              "      <th>4</th>\n",
              "      <td>1949-5</td>\n",
              "      <td>121</td>\n",
              "    </tr>\n",
              "    <tr>\n",
              "      <th>5</th>\n",
              "      <td>1949-6</td>\n",
              "      <td>135</td>\n",
              "    </tr>\n",
              "    <tr>\n",
              "      <th>6</th>\n",
              "      <td>1949-7</td>\n",
              "      <td>148</td>\n",
              "    </tr>\n",
              "    <tr>\n",
              "      <th>7</th>\n",
              "      <td>1949-8</td>\n",
              "      <td>148</td>\n",
              "    </tr>\n",
              "    <tr>\n",
              "      <th>8</th>\n",
              "      <td>1949-9</td>\n",
              "      <td>136</td>\n",
              "    </tr>\n",
              "    <tr>\n",
              "      <th>9</th>\n",
              "      <td>1949-10</td>\n",
              "      <td>119</td>\n",
              "    </tr>\n",
              "    <tr>\n",
              "      <th>10</th>\n",
              "      <td>1949-11</td>\n",
              "      <td>104</td>\n",
              "    </tr>\n",
              "    <tr>\n",
              "      <th>11</th>\n",
              "      <td>1949-12</td>\n",
              "      <td>118</td>\n",
              "    </tr>\n",
              "    <tr>\n",
              "      <th>12</th>\n",
              "      <td>1950-1</td>\n",
              "      <td>115</td>\n",
              "    </tr>\n",
              "    <tr>\n",
              "      <th>13</th>\n",
              "      <td>1950-2</td>\n",
              "      <td>126</td>\n",
              "    </tr>\n",
              "    <tr>\n",
              "      <th>14</th>\n",
              "      <td>1950-3</td>\n",
              "      <td>141</td>\n",
              "    </tr>\n",
              "    <tr>\n",
              "      <th>15</th>\n",
              "      <td>1950-4</td>\n",
              "      <td>135</td>\n",
              "    </tr>\n",
              "    <tr>\n",
              "      <th>16</th>\n",
              "      <td>1950-5</td>\n",
              "      <td>125</td>\n",
              "    </tr>\n",
              "    <tr>\n",
              "      <th>17</th>\n",
              "      <td>1950-6</td>\n",
              "      <td>149</td>\n",
              "    </tr>\n",
              "    <tr>\n",
              "      <th>18</th>\n",
              "      <td>1950-7</td>\n",
              "      <td>170</td>\n",
              "    </tr>\n",
              "    <tr>\n",
              "      <th>19</th>\n",
              "      <td>1950-8</td>\n",
              "      <td>170</td>\n",
              "    </tr>\n",
              "    <tr>\n",
              "      <th>20</th>\n",
              "      <td>1950-9</td>\n",
              "      <td>158</td>\n",
              "    </tr>\n",
              "    <tr>\n",
              "      <th>21</th>\n",
              "      <td>1950-10</td>\n",
              "      <td>133</td>\n",
              "    </tr>\n",
              "    <tr>\n",
              "      <th>22</th>\n",
              "      <td>1950-11</td>\n",
              "      <td>114</td>\n",
              "    </tr>\n",
              "    <tr>\n",
              "      <th>23</th>\n",
              "      <td>1950-12</td>\n",
              "      <td>140</td>\n",
              "    </tr>\n",
              "    <tr>\n",
              "      <th>24</th>\n",
              "      <td>1951-1</td>\n",
              "      <td>145</td>\n",
              "    </tr>\n",
              "    <tr>\n",
              "      <th>25</th>\n",
              "      <td>1951-2</td>\n",
              "      <td>150</td>\n",
              "    </tr>\n",
              "    <tr>\n",
              "      <th>26</th>\n",
              "      <td>1951-3</td>\n",
              "      <td>178</td>\n",
              "    </tr>\n",
              "    <tr>\n",
              "      <th>27</th>\n",
              "      <td>1951-4</td>\n",
              "      <td>163</td>\n",
              "    </tr>\n",
              "    <tr>\n",
              "      <th>28</th>\n",
              "      <td>1951-5</td>\n",
              "      <td>172</td>\n",
              "    </tr>\n",
              "    <tr>\n",
              "      <th>29</th>\n",
              "      <td>1951-6</td>\n",
              "      <td>178</td>\n",
              "    </tr>\n",
              "    <tr>\n",
              "      <th>30</th>\n",
              "      <td>1951-7</td>\n",
              "      <td>199</td>\n",
              "    </tr>\n",
              "    <tr>\n",
              "      <th>31</th>\n",
              "      <td>1951-8</td>\n",
              "      <td>199</td>\n",
              "    </tr>\n",
              "    <tr>\n",
              "      <th>32</th>\n",
              "      <td>1951-9</td>\n",
              "      <td>184</td>\n",
              "    </tr>\n",
              "    <tr>\n",
              "      <th>33</th>\n",
              "      <td>1951-10</td>\n",
              "      <td>162</td>\n",
              "    </tr>\n",
              "    <tr>\n",
              "      <th>34</th>\n",
              "      <td>1951-11</td>\n",
              "      <td>146</td>\n",
              "    </tr>\n",
              "    <tr>\n",
              "      <th>35</th>\n",
              "      <td>1951-12</td>\n",
              "      <td>166</td>\n",
              "    </tr>\n",
              "  </tbody>\n",
              "</table>\n",
              "</div>\n",
              "      <button class=\"colab-df-convert\" onclick=\"convertToInteractive('df-ac887a83-46a3-4c62-976e-dd809484a166')\"\n",
              "              title=\"Convert this dataframe to an interactive table.\"\n",
              "              style=\"display:none;\">\n",
              "        \n",
              "  <svg xmlns=\"http://www.w3.org/2000/svg\" height=\"24px\"viewBox=\"0 0 24 24\"\n",
              "       width=\"24px\">\n",
              "    <path d=\"M0 0h24v24H0V0z\" fill=\"none\"/>\n",
              "    <path d=\"M18.56 5.44l.94 2.06.94-2.06 2.06-.94-2.06-.94-.94-2.06-.94 2.06-2.06.94zm-11 1L8.5 8.5l.94-2.06 2.06-.94-2.06-.94L8.5 2.5l-.94 2.06-2.06.94zm10 10l.94 2.06.94-2.06 2.06-.94-2.06-.94-.94-2.06-.94 2.06-2.06.94z\"/><path d=\"M17.41 7.96l-1.37-1.37c-.4-.4-.92-.59-1.43-.59-.52 0-1.04.2-1.43.59L10.3 9.45l-7.72 7.72c-.78.78-.78 2.05 0 2.83L4 21.41c.39.39.9.59 1.41.59.51 0 1.02-.2 1.41-.59l7.78-7.78 2.81-2.81c.8-.78.8-2.07 0-2.86zM5.41 20L4 18.59l7.72-7.72 1.47 1.35L5.41 20z\"/>\n",
              "  </svg>\n",
              "      </button>\n",
              "      \n",
              "  <style>\n",
              "    .colab-df-container {\n",
              "      display:flex;\n",
              "      flex-wrap:wrap;\n",
              "      gap: 12px;\n",
              "    }\n",
              "\n",
              "    .colab-df-convert {\n",
              "      background-color: #E8F0FE;\n",
              "      border: none;\n",
              "      border-radius: 50%;\n",
              "      cursor: pointer;\n",
              "      display: none;\n",
              "      fill: #1967D2;\n",
              "      height: 32px;\n",
              "      padding: 0 0 0 0;\n",
              "      width: 32px;\n",
              "    }\n",
              "\n",
              "    .colab-df-convert:hover {\n",
              "      background-color: #E2EBFA;\n",
              "      box-shadow: 0px 1px 2px rgba(60, 64, 67, 0.3), 0px 1px 3px 1px rgba(60, 64, 67, 0.15);\n",
              "      fill: #174EA6;\n",
              "    }\n",
              "\n",
              "    [theme=dark] .colab-df-convert {\n",
              "      background-color: #3B4455;\n",
              "      fill: #D2E3FC;\n",
              "    }\n",
              "\n",
              "    [theme=dark] .colab-df-convert:hover {\n",
              "      background-color: #434B5C;\n",
              "      box-shadow: 0px 1px 3px 1px rgba(0, 0, 0, 0.15);\n",
              "      filter: drop-shadow(0px 1px 2px rgba(0, 0, 0, 0.3));\n",
              "      fill: #FFFFFF;\n",
              "    }\n",
              "  </style>\n",
              "\n",
              "      <script>\n",
              "        const buttonEl =\n",
              "          document.querySelector('#df-ac887a83-46a3-4c62-976e-dd809484a166 button.colab-df-convert');\n",
              "        buttonEl.style.display =\n",
              "          google.colab.kernel.accessAllowed ? 'block' : 'none';\n",
              "\n",
              "        async function convertToInteractive(key) {\n",
              "          const element = document.querySelector('#df-ac887a83-46a3-4c62-976e-dd809484a166');\n",
              "          const dataTable =\n",
              "            await google.colab.kernel.invokeFunction('convertToInteractive',\n",
              "                                                     [key], {});\n",
              "          if (!dataTable) return;\n",
              "\n",
              "          const docLinkHtml = 'Like what you see? Visit the ' +\n",
              "            '<a target=\"_blank\" href=https://colab.research.google.com/notebooks/data_table.ipynb>data table notebook</a>'\n",
              "            + ' to learn more about interactive tables.';\n",
              "          element.innerHTML = '';\n",
              "          dataTable['output_type'] = 'display_data';\n",
              "          await google.colab.output.renderOutput(dataTable, element);\n",
              "          const docLink = document.createElement('div');\n",
              "          docLink.innerHTML = docLinkHtml;\n",
              "          element.appendChild(docLink);\n",
              "        }\n",
              "      </script>\n",
              "    </div>\n",
              "  </div>\n",
              "  "
            ]
          },
          "metadata": {},
          "execution_count": 50
        }
      ],
      "source": [
        "datas=[]\n",
        "for ano in range(1949,1952):\n",
        "    for mes in range(1,13):\n",
        "        datas.append(str(ano)+\"-\"+str(mes))\n",
        "info=[112,118,132,129,121,135,148,148,136,119,104,118,\n",
        "      115,126,141,135,125,149,170,170,158,133,114,140,\n",
        "      145,150,178,163,172,178,199,199,184,162,146,166]\n",
        "obj={'datas':datas,'info':info}\n",
        "\n",
        "airp=pd.DataFrame(data=obj)\n",
        "airp"
      ]
    },
    {
      "cell_type": "code",
      "execution_count": null,
      "metadata": {
        "colab": {
          "base_uri": "https://localhost:8080/"
        },
        "id": "1OrEzBo7Ou_V",
        "outputId": "a02135a1-2307-4d4c-ef47-3721e0343f57"
      },
      "outputs": [
        {
          "output_type": "stream",
          "name": "stdout",
          "text": [
            "datas    object\n",
            "info      int64\n",
            "dtype: object\n"
          ]
        }
      ],
      "source": [
        "print(airp.dtypes) #Tem que mudar o tipo objeto"
      ]
    },
    {
      "cell_type": "code",
      "execution_count": null,
      "metadata": {
        "id": "inJzkgoVOu_W"
      },
      "outputs": [],
      "source": [
        "dataparse = lambda dates:pd.datetime.strptime(dates,'%Y-%m') "
      ]
    },
    {
      "cell_type": "code",
      "execution_count": null,
      "metadata": {
        "colab": {
          "base_uri": "https://localhost:8080/"
        },
        "id": "jLOlfofjOu_W",
        "outputId": "4a371292-2529-4ebd-f7e4-65a02868b8ea"
      },
      "outputs": [
        {
          "output_type": "execute_result",
          "data": {
            "text/plain": [
              "1949-1     112\n",
              "1949-2     118\n",
              "1949-3     132\n",
              "1949-4     129\n",
              "1949-5     121\n",
              "1949-6     135\n",
              "1949-7     148\n",
              "1949-8     148\n",
              "1949-9     136\n",
              "1949-10    119\n",
              "1949-11    104\n",
              "1949-12    118\n",
              "1950-1     115\n",
              "1950-2     126\n",
              "1950-3     141\n",
              "1950-4     135\n",
              "1950-5     125\n",
              "1950-6     149\n",
              "1950-7     170\n",
              "1950-8     170\n",
              "1950-9     158\n",
              "1950-10    133\n",
              "1950-11    114\n",
              "1950-12    140\n",
              "1951-1     145\n",
              "1951-2     150\n",
              "1951-3     178\n",
              "1951-4     163\n",
              "1951-5     172\n",
              "1951-6     178\n",
              "1951-7     199\n",
              "1951-8     199\n",
              "1951-9     184\n",
              "1951-10    162\n",
              "1951-11    146\n",
              "1951-12    166\n",
              "dtype: int64"
            ]
          },
          "metadata": {},
          "execution_count": 53
        }
      ],
      "source": [
        "airp2 = pd.Series(info, index = datas) \n",
        "airp2"
      ]
    },
    {
      "cell_type": "code",
      "execution_count": null,
      "metadata": {
        "colab": {
          "base_uri": "https://localhost:8080/"
        },
        "id": "lEaMPGnDOu_W",
        "outputId": "154e9152-f6f2-46a8-f643-10d8ebb37aaf"
      },
      "outputs": [
        {
          "output_type": "execute_result",
          "data": {
            "text/plain": [
              "pandas.core.frame.DataFrame"
            ]
          },
          "metadata": {},
          "execution_count": 54
        }
      ],
      "source": [
        "type(airp)"
      ]
    },
    {
      "cell_type": "code",
      "execution_count": null,
      "metadata": {
        "colab": {
          "base_uri": "https://localhost:8080/"
        },
        "id": "ijfIaNjgOu_W",
        "outputId": "8eff0a41-b719-4506-cbd6-4983cec027aa"
      },
      "outputs": [
        {
          "output_type": "execute_result",
          "data": {
            "text/plain": [
              "pandas.core.series.Series"
            ]
          },
          "metadata": {},
          "execution_count": 55
        }
      ],
      "source": [
        "type(airp2)"
      ]
    },
    {
      "cell_type": "code",
      "execution_count": null,
      "metadata": {
        "colab": {
          "base_uri": "https://localhost:8080/"
        },
        "id": "9Kg9nvv5Ou_W",
        "outputId": "d6e48209-3e01-4d3a-e1fe-45ea91c1a170"
      },
      "outputs": [
        {
          "output_type": "execute_result",
          "data": {
            "text/plain": [
              "0     112\n",
              "1     118\n",
              "2     132\n",
              "3     129\n",
              "4     121\n",
              "5     135\n",
              "6     148\n",
              "7     148\n",
              "8     136\n",
              "9     119\n",
              "10    104\n",
              "11    118\n",
              "12    115\n",
              "13    126\n",
              "14    141\n",
              "15    135\n",
              "16    125\n",
              "17    149\n",
              "18    170\n",
              "19    170\n",
              "20    158\n",
              "21    133\n",
              "22    114\n",
              "23    140\n",
              "24    145\n",
              "25    150\n",
              "26    178\n",
              "27    163\n",
              "28    172\n",
              "29    178\n",
              "30    199\n",
              "31    199\n",
              "32    184\n",
              "33    162\n",
              "34    146\n",
              "35    166\n",
              "Name: info, dtype: int64"
            ]
          },
          "metadata": {},
          "execution_count": 56
        }
      ],
      "source": [
        "airp3 = airp['info'] \n",
        "airp3"
      ]
    },
    {
      "cell_type": "code",
      "execution_count": null,
      "metadata": {
        "colab": {
          "base_uri": "https://localhost:8080/"
        },
        "id": "VfNgHuAcOu_W",
        "outputId": "dfa3dbca-c8d3-41f0-fcb1-2265bf99daa3"
      },
      "outputs": [
        {
          "output_type": "execute_result",
          "data": {
            "text/plain": [
              "pandas.core.series.Series"
            ]
          },
          "metadata": {},
          "execution_count": 57
        }
      ],
      "source": [
        "type(airp3)"
      ]
    },
    {
      "cell_type": "code",
      "execution_count": null,
      "metadata": {
        "colab": {
          "base_uri": "https://localhost:8080/"
        },
        "id": "vPNh9NZROu_X",
        "outputId": "4b0cdd50-e5c8-4401-c1f5-5010b4e9f74a"
      },
      "outputs": [
        {
          "output_type": "execute_result",
          "data": {
            "text/plain": [
              "112"
            ]
          },
          "metadata": {},
          "execution_count": 58
        }
      ],
      "source": [
        "airp2[0]"
      ]
    },
    {
      "cell_type": "code",
      "execution_count": null,
      "metadata": {
        "colab": {
          "base_uri": "https://localhost:8080/"
        },
        "id": "UJX0P62oOu_X",
        "outputId": "5a77ba5b-a50e-48d9-d648-afa764e510a5"
      },
      "outputs": [
        {
          "output_type": "execute_result",
          "data": {
            "text/plain": [
              "112"
            ]
          },
          "metadata": {},
          "execution_count": 59
        }
      ],
      "source": [
        "airp2['1949-1']"
      ]
    },
    {
      "cell_type": "code",
      "execution_count": null,
      "metadata": {
        "colab": {
          "base_uri": "https://localhost:8080/"
        },
        "id": "1wgXOeQ6Ou_X",
        "outputId": "e70a7390-3f79-4ef3-d055-6be8addad1d2"
      },
      "outputs": [
        {
          "output_type": "execute_result",
          "data": {
            "text/plain": [
              "1949-1     112\n",
              "1949-2     118\n",
              "1949-3     132\n",
              "1949-4     129\n",
              "1949-5     121\n",
              "1949-6     135\n",
              "1949-7     148\n",
              "1949-8     148\n",
              "1949-9     136\n",
              "1949-10    119\n",
              "1949-11    104\n",
              "1949-12    118\n",
              "dtype: int64"
            ]
          },
          "metadata": {},
          "execution_count": 60
        }
      ],
      "source": [
        "airp2['1949-1':'1949-12']"
      ]
    },
    {
      "cell_type": "code",
      "execution_count": null,
      "metadata": {
        "colab": {
          "base_uri": "https://localhost:8080/",
          "height": 35
        },
        "id": "NY8eXBVuOu_X",
        "outputId": "4a8b7ab6-5266-4557-b698-d5528271539d"
      },
      "outputs": [
        {
          "output_type": "execute_result",
          "data": {
            "text/plain": [
              "'1951-9'"
            ],
            "application/vnd.google.colaboratory.intrinsic+json": {
              "type": "string"
            }
          },
          "metadata": {},
          "execution_count": 61
        }
      ],
      "source": [
        "airp2.index.max()"
      ]
    },
    {
      "cell_type": "code",
      "execution_count": null,
      "metadata": {
        "colab": {
          "base_uri": "https://localhost:8080/",
          "height": 35
        },
        "id": "5bYfaLX-Ou_X",
        "outputId": "a17a2b48-97af-4156-c68d-a0abb44856e1"
      },
      "outputs": [
        {
          "output_type": "execute_result",
          "data": {
            "text/plain": [
              "'1949-1'"
            ],
            "application/vnd.google.colaboratory.intrinsic+json": {
              "type": "string"
            }
          },
          "metadata": {},
          "execution_count": 62
        }
      ],
      "source": [
        "airp2.index.min()"
      ]
    },
    {
      "cell_type": "code",
      "execution_count": null,
      "metadata": {
        "id": "b9RwdpRzOu_X",
        "outputId": "363467c0-999c-4322-d7a4-19043233b0c8"
      },
      "outputs": [
        {
          "data": {
            "text/plain": [
              "[<matplotlib.lines.Line2D at 0x7f903a3cab38>]"
            ]
          },
          "execution_count": 26,
          "metadata": {},
          "output_type": "execute_result"
        },
        {
          "data": {
            "image/png": "[encoded data removed]",
            "text/plain": [
              "<Figure size 432x288 with 1 Axes>"
            ]
          },
          "metadata": {
            "needs_background": "light"
          },
          "output_type": "display_data"
        }
      ],
      "source": [
        "plt.plot(airp2)"
      ]
    },
    {
      "cell_type": "markdown",
      "metadata": {
        "id": "cS60PcEuOu_Y"
      },
      "source": [
        "##### Decomposição da Série"
      ]
    },
    {
      "cell_type": "code",
      "execution_count": null,
      "metadata": {
        "id": "D_xIrH9tOu_Y"
      },
      "outputs": [],
      "source": [
        "from statsmodels.tsa.seasonal import seasonal_decompose "
      ]
    },
    {
      "cell_type": "code",
      "execution_count": null,
      "metadata": {
        "colab": {
          "base_uri": "https://localhost:8080/",
          "height": 785
        },
        "id": "cYOiQU5rOu_Y",
        "outputId": "14efa6a9-9137-42bd-aa71-6b921d8be011"
      },
      "outputs": [
        {
          "output_type": "execute_result",
          "data": {
            "text/plain": [
              "<Figure size 576x396 with 4 Axes>"
            ],
            "image/png": "[encoded data removed]"
          },
          "metadata": {},
          "execution_count": 73
        },
        {
          "output_type": "display_data",
          "data": {
            "text/plain": [
              "<Figure size 576x396 with 4 Axes>"
            ],
            "image/png": "[encoded data removed]"
          },
          "metadata": {}
        }
      ],
      "source": [
        "seasonal_decompose(airp2, model = 'additive', freq = 12).plot()"
      ]
    },
    {
      "cell_type": "markdown",
      "metadata": {
        "id": "5zTaabKPOu_Y"
      },
      "source": [
        "##### Previsão"
      ]
    },
    {
      "cell_type": "code",
      "execution_count": null,
      "metadata": {
        "id": "A6qTmHAVOu_Y",
        "outputId": "31cbb3a2-511a-47ee-f4fc-f76226593797"
      },
      "outputs": [
        {
          "data": {
            "text/plain": [
              "145.5"
            ]
          },
          "execution_count": 7,
          "metadata": {},
          "output_type": "execute_result"
        }
      ],
      "source": [
        "airp2.mean()"
      ]
    },
    {
      "cell_type": "code",
      "execution_count": null,
      "metadata": {
        "id": "59oWiRnCOu_Z",
        "outputId": "3276a68c-d3d6-4958-eaef-77799c416680"
      },
      "outputs": [
        {
          "data": {
            "text/plain": [
              "170.16666666666666"
            ]
          },
          "execution_count": 12,
          "metadata": {},
          "output_type": "execute_result"
        }
      ],
      "source": [
        "airp2['1951-1':'1951-12'].mean()"
      ]
    },
    {
      "cell_type": "code",
      "execution_count": null,
      "metadata": {
        "id": "eYYlYoQNOu_Z"
      },
      "outputs": [],
      "source": [
        "mediamovel=airp2.rolling(window=12).mean()"
      ]
    },
    {
      "cell_type": "code",
      "execution_count": null,
      "metadata": {
        "id": "9Of3xihZOu_Z",
        "outputId": "09878426-92b3-4c47-b7d8-aae0f97403c7"
      },
      "outputs": [
        {
          "data": {
            "text/plain": [
              "[<matplotlib.lines.Line2D at 0x7f4813f90780>]"
            ]
          },
          "execution_count": 14,
          "metadata": {},
          "output_type": "execute_result"
        },
        {
          "data": {
            "image/png": "[encoded data removed]",
            "text/plain": [
              "<Figure size 432x288 with 1 Axes>"
            ]
          },
          "metadata": {
            "needs_background": "light"
          },
          "output_type": "display_data"
        }
      ],
      "source": [
        "plt.plot(airp2)\n",
        "plt.plot(mediamovel,color='red')"
      ]
    },
    {
      "cell_type": "code",
      "execution_count": null,
      "metadata": {
        "id": "TI4YzZkzOu_Z",
        "outputId": "9a47ac34-55c0-4392-b972-6b869573a71a"
      },
      "outputs": [
        {
          "data": {
            "text/plain": [
              "[<matplotlib.lines.Line2D at 0x7f48136e65f8>]"
            ]
          },
          "execution_count": 16,
          "metadata": {},
          "output_type": "execute_result"
        },
        {
          "data": {
            "image/png": "[encoded data removed]",
            "text/plain": [
              "<Figure size 432x288 with 1 Axes>"
            ]
          },
          "metadata": {
            "needs_background": "light"
          },
          "output_type": "display_data"
        }
      ],
      "source": [
        "previsoes=[]\n",
        "for i in range (1,13):\n",
        "    superior=len(mediamovel)-i\n",
        "    inferior=superior-11\n",
        "    previsoes.append(mediamovel[inferior:superior].mean())\n",
        "previsoes=previsoes[::1]\n",
        "plt.plot(previsoes)   "
      ]
    }
  ],
  "metadata": {
    "kernelspec": {
      "display_name": "Python 3",
      "language": "python",
      "name": "python3"
    },
    "language_info": {
      "codemirror_mode": {
        "name": "ipython",
        "version": 3
      },
      "file_extension": ".py",
      "mimetype": "text/x-python",
      "name": "python",
      "nbconvert_exporter": "python",
      "pygments_lexer": "ipython3",
      "version": "3.6.7"
    },
    "colab": {
      "name": "script_numpy_scipy_statsmodels.ipynb",
      "provenance": [],
      "toc_visible": true
    }
  },
  "nbformat": 4,
  "nbformat_minor": 0
}