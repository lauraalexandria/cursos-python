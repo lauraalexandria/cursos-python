{
  "cells": [
    {
      "cell_type": "markdown",
      "metadata": {
        "id": "rM97R8wLOu-2"
      },
      "source": [
        "# Sklearn"
      ]
    },
    {
      "cell_type": "markdown",
      "source": [
        "#### Importando Bibliotecas"
      ],
      "metadata": {
        "id": "-_SEmaw5PcRv"
      }
    },
    {
      "cell_type": "code",
      "execution_count": 1,
      "metadata": {
        "id": "q5s63deROu-5"
      },
      "outputs": [],
      "source": [
        "import pandas as pd\n",
        "from sklearn.model_selection import train_test_split\n",
        "from sklearn.naive_bayes import GaussianNB\n",
        "from sklearn.preprocessing import LabelEncoder\n",
        "from sklearn.metrics import confusion_matrix, accuracy_score"
      ]
    },
    {
      "cell_type": "markdown",
      "metadata": {
        "id": "DgM6_WDMOu_a"
      },
      "source": [
        "### Modelos de Classificação"
      ]
    },
    {
      "cell_type": "code",
      "execution_count": 3,
      "metadata": {
        "id": "pSBjXyGAOu_a",
        "outputId": "7fb9a8a6-ebc1-4a59-9c04-dadec88e7000",
        "colab": {
          "base_uri": "https://localhost:8080/",
          "height": 404
        }
      },
      "outputs": [
        {
          "output_type": "execute_result",
          "data": {
            "text/plain": [
              "  checking_balance  months_loan_duration credit_history    purpose  amount  \\\n",
              "0           < 0 DM                     6       critical   radio/tv    1169   \n",
              "1       1 - 200 DM                    48         repaid   radio/tv    5951   \n",
              "2          unknown                    12       critical  education    2096   \n",
              "3           < 0 DM                    42         repaid  furniture    7882   \n",
              "4           < 0 DM                    24        delayed  car (new)    4870   \n",
              "\n",
              "  savings_balance employment_length  installment_rate personal_status  \\\n",
              "0         unknown           > 7 yrs                 4     single male   \n",
              "1        < 100 DM         1 - 4 yrs                 2          female   \n",
              "2        < 100 DM         4 - 7 yrs                 2     single male   \n",
              "3        < 100 DM         4 - 7 yrs                 2     single male   \n",
              "4        < 100 DM         1 - 4 yrs                 3     single male   \n",
              "\n",
              "  other_debtors  ...                  property age  installment_plan  \\\n",
              "0          none  ...               real estate  67              none   \n",
              "1          none  ...               real estate  22              none   \n",
              "2          none  ...               real estate  49              none   \n",
              "3     guarantor  ...  building society savings  45              none   \n",
              "4          none  ...              unknown/none  53              none   \n",
              "\n",
              "    housing existing_credits  default  dependents  telephone foreign_worker  \\\n",
              "0       own                2        1           1        yes            yes   \n",
              "1       own                1        2           1       none            yes   \n",
              "2       own                1        1           2       none            yes   \n",
              "3  for free                1        1           2       none            yes   \n",
              "4  for free                2        2           2       none            yes   \n",
              "\n",
              "                  job  \n",
              "0    skilled employee  \n",
              "1    skilled employee  \n",
              "2  unskilled resident  \n",
              "3    skilled employee  \n",
              "4    skilled employee  \n",
              "\n",
              "[5 rows x 21 columns]"
            ],
            "text/html": [
              "\n",
              "  <div id=\"df-a3f5a9b4-2788-49a3-9fb9-332d22a1f444\">\n",
              "    <div class=\"colab-df-container\">\n",
              "      <div>\n",
              "<style scoped>\n",
              "    .dataframe tbody tr th:only-of-type {\n",
              "        vertical-align: middle;\n",
              "    }\n",
              "\n",
              "    .dataframe tbody tr th {\n",
              "        vertical-align: top;\n",
              "    }\n",
              "\n",
              "    .dataframe thead th {\n",
              "        text-align: right;\n",
              "    }\n",
              "</style>\n",
              "<table border=\"1\" class=\"dataframe\">\n",
              "  <thead>\n",
              "    <tr style=\"text-align: right;\">\n",
              "      <th></th>\n",
              "      <th>checking_balance</th>\n",
              "      <th>months_loan_duration</th>\n",
              "      <th>credit_history</th>\n",
              "      <th>purpose</th>\n",
              "      <th>amount</th>\n",
              "      <th>savings_balance</th>\n",
              "      <th>employment_length</th>\n",
              "      <th>installment_rate</th>\n",
              "      <th>personal_status</th>\n",
              "      <th>other_debtors</th>\n",
              "      <th>...</th>\n",
              "      <th>property</th>\n",
              "      <th>age</th>\n",
              "      <th>installment_plan</th>\n",
              "      <th>housing</th>\n",
              "      <th>existing_credits</th>\n",
              "      <th>default</th>\n",
              "      <th>dependents</th>\n",
              "      <th>telephone</th>\n",
              "      <th>foreign_worker</th>\n",
              "      <th>job</th>\n",
              "    </tr>\n",
              "  </thead>\n",
              "  <tbody>\n",
              "    <tr>\n",
              "      <th>0</th>\n",
              "      <td>&lt; 0 DM</td>\n",
              "      <td>6</td>\n",
              "      <td>critical</td>\n",
              "      <td>radio/tv</td>\n",
              "      <td>1169</td>\n",
              "      <td>unknown</td>\n",
              "      <td>&gt; 7 yrs</td>\n",
              "      <td>4</td>\n",
              "      <td>single male</td>\n",
              "      <td>none</td>\n",
              "      <td>...</td>\n",
              "      <td>real estate</td>\n",
              "      <td>67</td>\n",
              "      <td>none</td>\n",
              "      <td>own</td>\n",
              "      <td>2</td>\n",
              "      <td>1</td>\n",
              "      <td>1</td>\n",
              "      <td>yes</td>\n",
              "      <td>yes</td>\n",
              "      <td>skilled employee</td>\n",
              "    </tr>\n",
              "    <tr>\n",
              "      <th>1</th>\n",
              "      <td>1 - 200 DM</td>\n",
              "      <td>48</td>\n",
              "      <td>repaid</td>\n",
              "      <td>radio/tv</td>\n",
              "      <td>5951</td>\n",
              "      <td>&lt; 100 DM</td>\n",
              "      <td>1 - 4 yrs</td>\n",
              "      <td>2</td>\n",
              "      <td>female</td>\n",
              "      <td>none</td>\n",
              "      <td>...</td>\n",
              "      <td>real estate</td>\n",
              "      <td>22</td>\n",
              "      <td>none</td>\n",
              "      <td>own</td>\n",
              "      <td>1</td>\n",
              "      <td>2</td>\n",
              "      <td>1</td>\n",
              "      <td>none</td>\n",
              "      <td>yes</td>\n",
              "      <td>skilled employee</td>\n",
              "    </tr>\n",
              "    <tr>\n",
              "      <th>2</th>\n",
              "      <td>unknown</td>\n",
              "      <td>12</td>\n",
              "      <td>critical</td>\n",
              "      <td>education</td>\n",
              "      <td>2096</td>\n",
              "      <td>&lt; 100 DM</td>\n",
              "      <td>4 - 7 yrs</td>\n",
              "      <td>2</td>\n",
              "      <td>single male</td>\n",
              "      <td>none</td>\n",
              "      <td>...</td>\n",
              "      <td>real estate</td>\n",
              "      <td>49</td>\n",
              "      <td>none</td>\n",
              "      <td>own</td>\n",
              "      <td>1</td>\n",
              "      <td>1</td>\n",
              "      <td>2</td>\n",
              "      <td>none</td>\n",
              "      <td>yes</td>\n",
              "      <td>unskilled resident</td>\n",
              "    </tr>\n",
              "    <tr>\n",
              "      <th>3</th>\n",
              "      <td>&lt; 0 DM</td>\n",
              "      <td>42</td>\n",
              "      <td>repaid</td>\n",
              "      <td>furniture</td>\n",
              "      <td>7882</td>\n",
              "      <td>&lt; 100 DM</td>\n",
              "      <td>4 - 7 yrs</td>\n",
              "      <td>2</td>\n",
              "      <td>single male</td>\n",
              "      <td>guarantor</td>\n",
              "      <td>...</td>\n",
              "      <td>building society savings</td>\n",
              "      <td>45</td>\n",
              "      <td>none</td>\n",
              "      <td>for free</td>\n",
              "      <td>1</td>\n",
              "      <td>1</td>\n",
              "      <td>2</td>\n",
              "      <td>none</td>\n",
              "      <td>yes</td>\n",
              "      <td>skilled employee</td>\n",
              "    </tr>\n",
              "    <tr>\n",
              "      <th>4</th>\n",
              "      <td>&lt; 0 DM</td>\n",
              "      <td>24</td>\n",
              "      <td>delayed</td>\n",
              "      <td>car (new)</td>\n",
              "      <td>4870</td>\n",
              "      <td>&lt; 100 DM</td>\n",
              "      <td>1 - 4 yrs</td>\n",
              "      <td>3</td>\n",
              "      <td>single male</td>\n",
              "      <td>none</td>\n",
              "      <td>...</td>\n",
              "      <td>unknown/none</td>\n",
              "      <td>53</td>\n",
              "      <td>none</td>\n",
              "      <td>for free</td>\n",
              "      <td>2</td>\n",
              "      <td>2</td>\n",
              "      <td>2</td>\n",
              "      <td>none</td>\n",
              "      <td>yes</td>\n",
              "      <td>skilled employee</td>\n",
              "    </tr>\n",
              "  </tbody>\n",
              "</table>\n",
              "<p>5 rows × 21 columns</p>\n",
              "</div>\n",
              "      <button class=\"colab-df-convert\" onclick=\"convertToInteractive('df-a3f5a9b4-2788-49a3-9fb9-332d22a1f444')\"\n",
              "              title=\"Convert this dataframe to an interactive table.\"\n",
              "              style=\"display:none;\">\n",
              "        \n",
              "  <svg xmlns=\"http://www.w3.org/2000/svg\" height=\"24px\"viewBox=\"0 0 24 24\"\n",
              "       width=\"24px\">\n",
              "    <path d=\"M0 0h24v24H0V0z\" fill=\"none\"/>\n",
              "    <path d=\"M18.56 5.44l.94 2.06.94-2.06 2.06-.94-2.06-.94-.94-2.06-.94 2.06-2.06.94zm-11 1L8.5 8.5l.94-2.06 2.06-.94-2.06-.94L8.5 2.5l-.94 2.06-2.06.94zm10 10l.94 2.06.94-2.06 2.06-.94-2.06-.94-.94-2.06-.94 2.06-2.06.94z\"/><path d=\"M17.41 7.96l-1.37-1.37c-.4-.4-.92-.59-1.43-.59-.52 0-1.04.2-1.43.59L10.3 9.45l-7.72 7.72c-.78.78-.78 2.05 0 2.83L4 21.41c.39.39.9.59 1.41.59.51 0 1.02-.2 1.41-.59l7.78-7.78 2.81-2.81c.8-.78.8-2.07 0-2.86zM5.41 20L4 18.59l7.72-7.72 1.47 1.35L5.41 20z\"/>\n",
              "  </svg>\n",
              "      </button>\n",
              "      \n",
              "  <style>\n",
              "    .colab-df-container {\n",
              "      display:flex;\n",
              "      flex-wrap:wrap;\n",
              "      gap: 12px;\n",
              "    }\n",
              "\n",
              "    .colab-df-convert {\n",
              "      background-color: #E8F0FE;\n",
              "      border: none;\n",
              "      border-radius: 50%;\n",
              "      cursor: pointer;\n",
              "      display: none;\n",
              "      fill: #1967D2;\n",
              "      height: 32px;\n",
              "      padding: 0 0 0 0;\n",
              "      width: 32px;\n",
              "    }\n",
              "\n",
              "    .colab-df-convert:hover {\n",
              "      background-color: #E2EBFA;\n",
              "      box-shadow: 0px 1px 2px rgba(60, 64, 67, 0.3), 0px 1px 3px 1px rgba(60, 64, 67, 0.15);\n",
              "      fill: #174EA6;\n",
              "    }\n",
              "\n",
              "    [theme=dark] .colab-df-convert {\n",
              "      background-color: #3B4455;\n",
              "      fill: #D2E3FC;\n",
              "    }\n",
              "\n",
              "    [theme=dark] .colab-df-convert:hover {\n",
              "      background-color: #434B5C;\n",
              "      box-shadow: 0px 1px 3px 1px rgba(0, 0, 0, 0.15);\n",
              "      filter: drop-shadow(0px 1px 2px rgba(0, 0, 0, 0.3));\n",
              "      fill: #FFFFFF;\n",
              "    }\n",
              "  </style>\n",
              "\n",
              "      <script>\n",
              "        const buttonEl =\n",
              "          document.querySelector('#df-a3f5a9b4-2788-49a3-9fb9-332d22a1f444 button.colab-df-convert');\n",
              "        buttonEl.style.display =\n",
              "          google.colab.kernel.accessAllowed ? 'block' : 'none';\n",
              "\n",
              "        async function convertToInteractive(key) {\n",
              "          const element = document.querySelector('#df-a3f5a9b4-2788-49a3-9fb9-332d22a1f444');\n",
              "          const dataTable =\n",
              "            await google.colab.kernel.invokeFunction('convertToInteractive',\n",
              "                                                     [key], {});\n",
              "          if (!dataTable) return;\n",
              "\n",
              "          const docLinkHtml = 'Like what you see? Visit the ' +\n",
              "            '<a target=\"_blank\" href=https://colab.research.google.com/notebooks/data_table.ipynb>data table notebook</a>'\n",
              "            + ' to learn more about interactive tables.';\n",
              "          element.innerHTML = '';\n",
              "          dataTable['output_type'] = 'display_data';\n",
              "          await google.colab.output.renderOutput(dataTable, element);\n",
              "          const docLink = document.createElement('div');\n",
              "          docLink.innerHTML = docLinkHtml;\n",
              "          element.appendChild(docLink);\n",
              "        }\n",
              "      </script>\n",
              "    </div>\n",
              "  </div>\n",
              "  "
            ]
          },
          "metadata": {},
          "execution_count": 3
        }
      ],
      "source": [
        "credito = pd.read_csv('https://raw.githubusercontent.com/stedy/Machine-Learning-with-R-datasets/master/credit.csv') \n",
        "credito.head()"
      ]
    },
    {
      "cell_type": "code",
      "execution_count": 4,
      "metadata": {
        "id": "tJWRlaykOu_a"
      },
      "outputs": [],
      "source": [
        "previsores = credito.iloc[:,0:20].values\n",
        "classe = credito.iloc[:,20].values"
      ]
    },
    {
      "cell_type": "code",
      "execution_count": 5,
      "metadata": {
        "id": "qSz9ZU0lOu_a",
        "outputId": "89f23127-af25-463a-ec76-6b2aabfcbf07",
        "colab": {
          "base_uri": "https://localhost:8080/"
        }
      },
      "outputs": [
        {
          "output_type": "execute_result",
          "data": {
            "text/plain": [
              "array([1, 6, 0, 7, 1169, 4, 3, 4, 3, 2, 4, 2, 67, 1, 1, 2, 0, 1, 1, 1],\n",
              "      dtype=object)"
            ]
          },
          "metadata": {},
          "execution_count": 5
        }
      ],
      "source": [
        "labelencoder = LabelEncoder()                                   #Para mudar as variáveis categóricas para numéricas;\n",
        "previsores[:,0] = labelencoder.fit_transform(previsores[:,0])\n",
        "previsores[:,2] = labelencoder.fit_transform(previsores[:,2])\n",
        "previsores[:,3] = labelencoder.fit_transform(previsores[:,3])\n",
        "previsores[:,5] = labelencoder.fit_transform(previsores[:,5])\n",
        "previsores[:,6] = labelencoder.fit_transform(previsores[:,6])\n",
        "previsores[:,8] = labelencoder.fit_transform(previsores[:,8])\n",
        "previsores[:,9] = labelencoder.fit_transform(previsores[:,9])\n",
        "previsores[:,11] = labelencoder.fit_transform(previsores[:,11])\n",
        "previsores[:,13] = labelencoder.fit_transform(previsores[:,13])\n",
        "previsores[:,14] = labelencoder.fit_transform(previsores[:,14])\n",
        "previsores[:,16] = labelencoder.fit_transform(previsores[:,16])\n",
        "previsores[:,18] = labelencoder.fit_transform(previsores[:,18])\n",
        "previsores[:,19] = labelencoder.fit_transform(previsores[:,19])\n",
        "previsores[0]"
      ]
    },
    {
      "cell_type": "code",
      "execution_count": 6,
      "metadata": {
        "id": "wVLjjphLOu_b"
      },
      "outputs": [],
      "source": [
        "x_treinamento, x_teste, y_treinamento, y_teste = train_test_split(previsores, classe, test_size = 0.3, random_state = 0)\n",
        "# o x_treinamento recebe os valores dos atributos dos previsores, e o x_teste dos restantes, o y_treinamento recebe \n",
        "# a classe dos previsores e o y_teste a classe dos restantes;"
      ]
    },
    {
      "cell_type": "markdown",
      "metadata": {
        "id": "RIP7xBOQOu_b"
      },
      "source": [
        "##### Método de Naive Bayes"
      ]
    },
    {
      "cell_type": "code",
      "execution_count": 7,
      "metadata": {
        "id": "6jEa7uPaOu_c",
        "outputId": "3677b2c1-054a-46e8-df9c-d73285f6ae37",
        "colab": {
          "base_uri": "https://localhost:8080/"
        }
      },
      "outputs": [
        {
          "output_type": "execute_result",
          "data": {
            "text/plain": [
              "GaussianNB()"
            ]
          },
          "metadata": {},
          "execution_count": 7
        }
      ],
      "source": [
        "naive_bayes = GaussianNB()                      # Gera a tabela de probabilidadedos sim e não, porém, não é possível visualizar a tabela;\n",
        "naive_bayes.fit(x_treinamento, y_treinamento)   "
      ]
    },
    {
      "cell_type": "code",
      "execution_count": 8,
      "metadata": {
        "id": "QE9ixCpLOu_c",
        "outputId": "dd4f829b-dc8d-459b-dbdf-64f770c65620",
        "colab": {
          "base_uri": "https://localhost:8080/"
        }
      },
      "outputs": [
        {
          "output_type": "execute_result",
          "data": {
            "text/plain": [
              "array(['mangement self-employed', 'unskilled resident',\n",
              "       'skilled employee', 'skilled employee', 'mangement self-employed',\n",
              "       'skilled employee', 'skilled employee', 'skilled employee',\n",
              "       'skilled employee', 'skilled employee', 'skilled employee',\n",
              "       'skilled employee', 'mangement self-employed', 'skilled employee',\n",
              "       'skilled employee', 'unskilled resident',\n",
              "       'unemployed non-resident', 'mangement self-employed',\n",
              "       'skilled employee', 'skilled employee', 'skilled employee',\n",
              "       'skilled employee', 'mangement self-employed', 'skilled employee',\n",
              "       'skilled employee', 'skilled employee', 'skilled employee',\n",
              "       'skilled employee', 'skilled employee', 'skilled employee',\n",
              "       'skilled employee', 'skilled employee', 'skilled employee',\n",
              "       'unskilled resident', 'skilled employee', 'skilled employee',\n",
              "       'skilled employee', 'skilled employee', 'skilled employee',\n",
              "       'skilled employee', 'skilled employee', 'skilled employee',\n",
              "       'mangement self-employed', 'skilled employee', 'skilled employee',\n",
              "       'unskilled resident', 'unskilled resident', 'skilled employee',\n",
              "       'unskilled resident', 'skilled employee', 'skilled employee',\n",
              "       'mangement self-employed', 'mangement self-employed',\n",
              "       'mangement self-employed', 'skilled employee', 'skilled employee',\n",
              "       'mangement self-employed', 'unskilled resident',\n",
              "       'skilled employee', 'skilled employee', 'skilled employee',\n",
              "       'skilled employee', 'skilled employee', 'skilled employee',\n",
              "       'unskilled resident', 'skilled employee', 'unskilled resident',\n",
              "       'skilled employee', 'skilled employee', 'skilled employee',\n",
              "       'mangement self-employed', 'skilled employee',\n",
              "       'unskilled resident', 'unskilled resident', 'skilled employee',\n",
              "       'mangement self-employed', 'skilled employee',\n",
              "       'mangement self-employed', 'skilled employee', 'skilled employee',\n",
              "       'skilled employee', 'unskilled resident', 'skilled employee',\n",
              "       'skilled employee', 'skilled employee', 'unskilled resident',\n",
              "       'mangement self-employed', 'skilled employee', 'skilled employee',\n",
              "       'skilled employee', 'skilled employee', 'unskilled resident',\n",
              "       'skilled employee', 'skilled employee', 'unskilled resident',\n",
              "       'mangement self-employed', 'skilled employee',\n",
              "       'unskilled resident', 'skilled employee', 'skilled employee',\n",
              "       'skilled employee', 'skilled employee', 'mangement self-employed',\n",
              "       'mangement self-employed', 'skilled employee', 'skilled employee',\n",
              "       'mangement self-employed', 'mangement self-employed',\n",
              "       'skilled employee', 'skilled employee', 'skilled employee',\n",
              "       'skilled employee', 'skilled employee', 'skilled employee',\n",
              "       'skilled employee', 'skilled employee', 'unemployed non-resident',\n",
              "       'skilled employee', 'skilled employee', 'skilled employee',\n",
              "       'skilled employee', 'skilled employee', 'skilled employee',\n",
              "       'mangement self-employed', 'skilled employee',\n",
              "       'mangement self-employed', 'skilled employee', 'skilled employee',\n",
              "       'mangement self-employed', 'skilled employee', 'skilled employee',\n",
              "       'skilled employee', 'skilled employee', 'skilled employee',\n",
              "       'skilled employee', 'skilled employee', 'skilled employee',\n",
              "       'skilled employee', 'unskilled resident', 'skilled employee',\n",
              "       'skilled employee', 'mangement self-employed', 'skilled employee',\n",
              "       'unemployed non-resident', 'skilled employee', 'skilled employee',\n",
              "       'skilled employee', 'mangement self-employed',\n",
              "       'mangement self-employed', 'skilled employee', 'skilled employee',\n",
              "       'skilled employee', 'skilled employee', 'skilled employee',\n",
              "       'skilled employee', 'skilled employee', 'mangement self-employed',\n",
              "       'skilled employee', 'skilled employee', 'skilled employee',\n",
              "       'skilled employee', 'skilled employee', 'skilled employee',\n",
              "       'unskilled resident', 'mangement self-employed',\n",
              "       'mangement self-employed', 'skilled employee', 'skilled employee',\n",
              "       'unskilled resident', 'unskilled resident', 'skilled employee',\n",
              "       'skilled employee', 'skilled employee', 'mangement self-employed',\n",
              "       'skilled employee', 'skilled employee', 'skilled employee',\n",
              "       'unskilled resident', 'mangement self-employed',\n",
              "       'skilled employee', 'skilled employee', 'skilled employee',\n",
              "       'skilled employee', 'skilled employee', 'skilled employee',\n",
              "       'skilled employee', 'skilled employee', 'skilled employee',\n",
              "       'skilled employee', 'unskilled resident', 'skilled employee',\n",
              "       'mangement self-employed', 'skilled employee',\n",
              "       'mangement self-employed', 'skilled employee', 'skilled employee',\n",
              "       'skilled employee', 'skilled employee', 'mangement self-employed',\n",
              "       'mangement self-employed', 'skilled employee', 'skilled employee',\n",
              "       'skilled employee', 'skilled employee', 'skilled employee',\n",
              "       'skilled employee', 'skilled employee', 'unskilled resident',\n",
              "       'skilled employee', 'skilled employee', 'mangement self-employed',\n",
              "       'skilled employee', 'skilled employee', 'skilled employee',\n",
              "       'mangement self-employed', 'skilled employee', 'skilled employee',\n",
              "       'skilled employee', 'skilled employee', 'unskilled resident',\n",
              "       'mangement self-employed', 'skilled employee', 'skilled employee',\n",
              "       'skilled employee', 'skilled employee', 'skilled employee',\n",
              "       'skilled employee', 'skilled employee', 'mangement self-employed',\n",
              "       'skilled employee', 'unskilled resident', 'skilled employee',\n",
              "       'skilled employee', 'skilled employee', 'mangement self-employed',\n",
              "       'skilled employee', 'unskilled resident', 'skilled employee',\n",
              "       'mangement self-employed', 'skilled employee', 'skilled employee',\n",
              "       'skilled employee', 'skilled employee', 'skilled employee',\n",
              "       'unskilled resident', 'skilled employee', 'skilled employee',\n",
              "       'unskilled resident', 'skilled employee', 'skilled employee',\n",
              "       'skilled employee', 'skilled employee', 'skilled employee',\n",
              "       'unskilled resident', 'unemployed non-resident',\n",
              "       'skilled employee', 'skilled employee', 'mangement self-employed',\n",
              "       'skilled employee', 'skilled employee', 'skilled employee',\n",
              "       'unskilled resident', 'skilled employee', 'unskilled resident',\n",
              "       'mangement self-employed', 'skilled employee',\n",
              "       'unskilled resident', 'skilled employee', 'skilled employee',\n",
              "       'unskilled resident', 'skilled employee', 'skilled employee',\n",
              "       'skilled employee', 'skilled employee', 'unskilled resident',\n",
              "       'skilled employee', 'skilled employee', 'unskilled resident',\n",
              "       'unskilled resident', 'skilled employee', 'skilled employee',\n",
              "       'mangement self-employed', 'mangement self-employed',\n",
              "       'skilled employee', 'skilled employee', 'skilled employee',\n",
              "       'skilled employee', 'skilled employee', 'unskilled resident',\n",
              "       'unskilled resident', 'skilled employee', 'unskilled resident',\n",
              "       'unemployed non-resident', 'skilled employee', 'skilled employee',\n",
              "       'skilled employee', 'mangement self-employed', 'skilled employee',\n",
              "       'mangement self-employed', 'skilled employee'], dtype='<U23')"
            ]
          },
          "metadata": {},
          "execution_count": 8
        }
      ],
      "source": [
        "previsoes = naive_bayes.predict(x_teste)        # Ajusta o modelo para o banco de teste;\n",
        "previsoes"
      ]
    },
    {
      "cell_type": "code",
      "execution_count": 9,
      "metadata": {
        "id": "m-frZ42wOu_c",
        "outputId": "2dde690f-dfd3-4118-aed4-01b276091298",
        "colab": {
          "base_uri": "https://localhost:8080/"
        }
      },
      "outputs": [
        {
          "output_type": "execute_result",
          "data": {
            "text/plain": [
              "array([[ 21,  25,   1,   1],\n",
              "       [ 22, 142,   3,  16],\n",
              "       [  2,   2,   0,   1],\n",
              "       [  1,  41,   1,  21]])"
            ]
          },
          "metadata": {},
          "execution_count": 9
        }
      ],
      "source": [
        "confusao = confusion_matrix(y_teste, previsoes) # Mostrando erros e acertos da Previsão\n",
        "confusao"
      ]
    },
    {
      "cell_type": "code",
      "execution_count": 10,
      "metadata": {
        "id": "lQjOeXa2Ou_c",
        "outputId": "d119e3ce-8ef4-4742-c795-9158edb61283",
        "colab": {
          "base_uri": "https://localhost:8080/"
        }
      },
      "outputs": [
        {
          "output_type": "execute_result",
          "data": {
            "text/plain": [
              "0.6133333333333333"
            ]
          },
          "metadata": {},
          "execution_count": 10
        }
      ],
      "source": [
        "taxaacerto = accuracy_score(y_teste, previsoes)\n",
        "taxaacerto"
      ]
    },
    {
      "cell_type": "markdown",
      "metadata": {
        "id": "jMPxdb4vOu_d"
      },
      "source": [
        "##### Método de Árvore de Decisão"
      ]
    },
    {
      "cell_type": "code",
      "execution_count": 11,
      "metadata": {
        "id": "h-5-seSeOu_d"
      },
      "outputs": [],
      "source": [
        "from sklearn.tree import DecisionTreeClassifier\n",
        "import graphviz \n",
        "from sklearn.tree import export_graphviz"
      ]
    },
    {
      "cell_type": "code",
      "execution_count": 16,
      "metadata": {
        "id": "5bIm47IVOu_d",
        "outputId": "1480011e-427f-4b1f-8d6e-6f78f2519497",
        "colab": {
          "base_uri": "https://localhost:8080/"
        }
      },
      "outputs": [
        {
          "output_type": "execute_result",
          "data": {
            "text/plain": [
              "DecisionTreeClassifier()"
            ]
          },
          "metadata": {},
          "execution_count": 16
        }
      ],
      "source": [
        "arvore = DecisionTreeClassifier()\n",
        "arvore.fit(x_treinamento, y_treinamento)"
      ]
    },
    {
      "cell_type": "code",
      "execution_count": 19,
      "metadata": {
        "id": "RABRcVRXOu_d"
      },
      "outputs": [],
      "source": [
        "export_graphviz(arvore, out_file = 'tree.dot') # Era pra gerar um monte de linha de comando pra tacar no webgraphviz.com e gerar a árvore;"
      ]
    },
    {
      "cell_type": "code",
      "execution_count": 20,
      "metadata": {
        "id": "-VgNtvGFOu_e",
        "outputId": "86d5868d-6794-40b3-b238-e09f9e716424",
        "colab": {
          "base_uri": "https://localhost:8080/"
        }
      },
      "outputs": [
        {
          "output_type": "execute_result",
          "data": {
            "text/plain": [
              "array(['unemployed non-resident', 'skilled employee', 'skilled employee',\n",
              "       'skilled employee', 'skilled employee', 'unskilled resident',\n",
              "       'skilled employee', 'skilled employee', 'skilled employee',\n",
              "       'skilled employee', 'unskilled resident', 'unskilled resident',\n",
              "       'mangement self-employed', 'skilled employee',\n",
              "       'mangement self-employed', 'unskilled resident',\n",
              "       'skilled employee', 'mangement self-employed', 'skilled employee',\n",
              "       'unskilled resident', 'unskilled resident', 'skilled employee',\n",
              "       'mangement self-employed', 'unskilled resident',\n",
              "       'mangement self-employed', 'unskilled resident',\n",
              "       'skilled employee', 'mangement self-employed',\n",
              "       'mangement self-employed', 'skilled employee',\n",
              "       'unskilled resident', 'skilled employee', 'unskilled resident',\n",
              "       'skilled employee', 'skilled employee', 'unskilled resident',\n",
              "       'skilled employee', 'skilled employee', 'unemployed non-resident',\n",
              "       'skilled employee', 'skilled employee', 'skilled employee',\n",
              "       'mangement self-employed', 'skilled employee',\n",
              "       'unskilled resident', 'skilled employee', 'unskilled resident',\n",
              "       'unskilled resident', 'skilled employee', 'skilled employee',\n",
              "       'skilled employee', 'unskilled resident', 'skilled employee',\n",
              "       'mangement self-employed', 'skilled employee',\n",
              "       'unskilled resident', 'mangement self-employed',\n",
              "       'skilled employee', 'unemployed non-resident', 'skilled employee',\n",
              "       'skilled employee', 'skilled employee', 'unskilled resident',\n",
              "       'skilled employee', 'unskilled resident', 'skilled employee',\n",
              "       'skilled employee', 'skilled employee', 'skilled employee',\n",
              "       'skilled employee', 'mangement self-employed', 'skilled employee',\n",
              "       'skilled employee', 'skilled employee', 'unskilled resident',\n",
              "       'mangement self-employed', 'skilled employee',\n",
              "       'mangement self-employed', 'skilled employee', 'skilled employee',\n",
              "       'skilled employee', 'skilled employee', 'mangement self-employed',\n",
              "       'skilled employee', 'skilled employee', 'skilled employee',\n",
              "       'unemployed non-resident', 'skilled employee', 'skilled employee',\n",
              "       'skilled employee', 'skilled employee', 'unskilled resident',\n",
              "       'skilled employee', 'mangement self-employed', 'skilled employee',\n",
              "       'mangement self-employed', 'skilled employee', 'skilled employee',\n",
              "       'skilled employee', 'skilled employee', 'skilled employee',\n",
              "       'skilled employee', 'mangement self-employed', 'skilled employee',\n",
              "       'mangement self-employed', 'skilled employee', 'skilled employee',\n",
              "       'mangement self-employed', 'skilled employee', 'skilled employee',\n",
              "       'skilled employee', 'unemployed non-resident',\n",
              "       'unskilled resident', 'skilled employee', 'unskilled resident',\n",
              "       'skilled employee', 'mangement self-employed', 'skilled employee',\n",
              "       'skilled employee', 'unskilled resident', 'skilled employee',\n",
              "       'skilled employee', 'skilled employee', 'unskilled resident',\n",
              "       'skilled employee', 'mangement self-employed', 'skilled employee',\n",
              "       'skilled employee', 'skilled employee', 'skilled employee',\n",
              "       'skilled employee', 'skilled employee', 'skilled employee',\n",
              "       'skilled employee', 'skilled employee', 'skilled employee',\n",
              "       'unskilled resident', 'skilled employee', 'unskilled resident',\n",
              "       'skilled employee', 'skilled employee', 'mangement self-employed',\n",
              "       'mangement self-employed', 'skilled employee', 'skilled employee',\n",
              "       'unskilled resident', 'skilled employee',\n",
              "       'mangement self-employed', 'skilled employee', 'skilled employee',\n",
              "       'skilled employee', 'skilled employee', 'skilled employee',\n",
              "       'mangement self-employed', 'skilled employee',\n",
              "       'unskilled resident', 'unskilled resident', 'skilled employee',\n",
              "       'unskilled resident', 'skilled employee', 'skilled employee',\n",
              "       'unskilled resident', 'skilled employee', 'skilled employee',\n",
              "       'skilled employee', 'mangement self-employed',\n",
              "       'unemployed non-resident', 'skilled employee', 'skilled employee',\n",
              "       'skilled employee', 'unskilled resident', 'skilled employee',\n",
              "       'skilled employee', 'skilled employee', 'skilled employee',\n",
              "       'skilled employee', 'unskilled resident', 'unskilled resident',\n",
              "       'unskilled resident', 'skilled employee', 'skilled employee',\n",
              "       'mangement self-employed', 'unskilled resident',\n",
              "       'skilled employee', 'unskilled resident', 'skilled employee',\n",
              "       'mangement self-employed', 'skilled employee',\n",
              "       'unskilled resident', 'unskilled resident', 'unskilled resident',\n",
              "       'unskilled resident', 'unskilled resident', 'skilled employee',\n",
              "       'mangement self-employed', 'skilled employee', 'skilled employee',\n",
              "       'skilled employee', 'skilled employee', 'mangement self-employed',\n",
              "       'skilled employee', 'unskilled resident', 'skilled employee',\n",
              "       'skilled employee', 'skilled employee', 'skilled employee',\n",
              "       'skilled employee', 'skilled employee', 'unskilled resident',\n",
              "       'mangement self-employed', 'skilled employee', 'skilled employee',\n",
              "       'unskilled resident', 'skilled employee',\n",
              "       'mangement self-employed', 'skilled employee', 'skilled employee',\n",
              "       'mangement self-employed', 'skilled employee', 'skilled employee',\n",
              "       'mangement self-employed', 'skilled employee', 'skilled employee',\n",
              "       'skilled employee', 'skilled employee', 'unskilled resident',\n",
              "       'skilled employee', 'mangement self-employed',\n",
              "       'mangement self-employed', 'mangement self-employed',\n",
              "       'unskilled resident', 'unskilled resident',\n",
              "       'mangement self-employed', 'mangement self-employed',\n",
              "       'skilled employee', 'skilled employee', 'skilled employee',\n",
              "       'skilled employee', 'unskilled resident', 'skilled employee',\n",
              "       'skilled employee', 'skilled employee', 'skilled employee',\n",
              "       'mangement self-employed', 'skilled employee',\n",
              "       'unskilled resident', 'unskilled resident', 'skilled employee',\n",
              "       'skilled employee', 'unskilled resident', 'skilled employee',\n",
              "       'skilled employee', 'skilled employee', 'unskilled resident',\n",
              "       'unskilled resident', 'skilled employee', 'skilled employee',\n",
              "       'mangement self-employed', 'skilled employee', 'skilled employee',\n",
              "       'unskilled resident', 'unskilled resident', 'skilled employee',\n",
              "       'unskilled resident', 'mangement self-employed',\n",
              "       'skilled employee', 'skilled employee', 'unskilled resident',\n",
              "       'unskilled resident', 'unskilled resident', 'unskilled resident',\n",
              "       'skilled employee', 'skilled employee', 'skilled employee',\n",
              "       'skilled employee', 'unskilled resident',\n",
              "       'mangement self-employed', 'unskilled resident',\n",
              "       'skilled employee', 'mangement self-employed', 'skilled employee',\n",
              "       'mangement self-employed', 'mangement self-employed',\n",
              "       'mangement self-employed', 'skilled employee',\n",
              "       'unskilled resident', 'unskilled resident', 'unskilled resident',\n",
              "       'skilled employee', 'skilled employee', 'skilled employee',\n",
              "       'unskilled resident', 'skilled employee', 'skilled employee',\n",
              "       'unskilled resident', 'skilled employee', 'unskilled resident',\n",
              "       'skilled employee', 'mangement self-employed',\n",
              "       'unskilled resident'], dtype=object)"
            ]
          },
          "metadata": {},
          "execution_count": 20
        }
      ],
      "source": [
        "previsoes2 = arvore.predict(x_teste)\n",
        "previsoes2"
      ]
    },
    {
      "cell_type": "code",
      "execution_count": 21,
      "metadata": {
        "id": "LVdux_zYOu_e",
        "outputId": "9ac802de-1ce1-4351-9257-6377485ba9cc",
        "colab": {
          "base_uri": "https://localhost:8080/"
        }
      },
      "outputs": [
        {
          "output_type": "execute_result",
          "data": {
            "text/plain": [
              "array([[ 20,  19,   2,   7],\n",
              "       [ 23, 115,   2,  43],\n",
              "       [  3,   0,   1,   1],\n",
              "       [  2,  42,   1,  19]])"
            ]
          },
          "metadata": {},
          "execution_count": 21
        }
      ],
      "source": [
        "confusao2 = confusion_matrix(y_teste, previsoes2)\n",
        "confusao2"
      ]
    },
    {
      "cell_type": "code",
      "execution_count": 22,
      "metadata": {
        "id": "Y1XSDRd7Ou_e",
        "outputId": "fece381b-b914-4cac-f979-9613b21d51eb",
        "colab": {
          "base_uri": "https://localhost:8080/"
        }
      },
      "outputs": [
        {
          "output_type": "execute_result",
          "data": {
            "text/plain": [
              "0.5166666666666667"
            ]
          },
          "metadata": {},
          "execution_count": 22
        }
      ],
      "source": [
        "taxaacerto2 = accuracy_score(y_teste, previsoes2)\n",
        "taxaacerto2"
      ]
    },
    {
      "cell_type": "markdown",
      "metadata": {
        "id": "UYtfpGA8Ou_f"
      },
      "source": [
        "##### Método de Seleção de Atributos"
      ]
    },
    {
      "cell_type": "code",
      "execution_count": 23,
      "metadata": {
        "id": "IQ3EhYW-Ou_g"
      },
      "outputs": [],
      "source": [
        "from sklearn.svm import SVC\n",
        "from sklearn.ensemble import ExtraTreesClassifier"
      ]
    },
    {
      "cell_type": "code",
      "execution_count": 24,
      "metadata": {
        "id": "BkERA4U_Ou_h"
      },
      "outputs": [],
      "source": [
        "svm = SVC()\n",
        "svm.fit(x_treinamento, y_treinamento)\n",
        "previsoes3 = svm.predict(x_teste)"
      ]
    },
    {
      "cell_type": "code",
      "execution_count": 25,
      "metadata": {
        "id": "CSzyLHwbOu_h",
        "outputId": "60e3673f-9a58-4773-d0c3-01c3e1596aa3",
        "colab": {
          "base_uri": "https://localhost:8080/"
        }
      },
      "outputs": [
        {
          "output_type": "execute_result",
          "data": {
            "text/plain": [
              "0.6233333333333333"
            ]
          },
          "metadata": {},
          "execution_count": 25
        }
      ],
      "source": [
        "taxaacerto3=accuracy_score(y_teste,previsoes3)\n",
        "taxaacerto3"
      ]
    },
    {
      "cell_type": "code",
      "execution_count": 26,
      "metadata": {
        "id": "MTk-jbzkOu_h",
        "outputId": "3c347c71-24b5-444e-e35e-d2310b055ac7",
        "colab": {
          "base_uri": "https://localhost:8080/"
        }
      },
      "outputs": [
        {
          "output_type": "execute_result",
          "data": {
            "text/plain": [
              "array([0.05130482, 0.06838721, 0.04512113, 0.06435903, 0.08597564,\n",
              "       0.04823534, 0.08689493, 0.0549715 , 0.04680137, 0.01994783,\n",
              "       0.05350564, 0.05698543, 0.07821448, 0.03656824, 0.03849614,\n",
              "       0.03857998, 0.03345191, 0.02663484, 0.05706899, 0.00849557])"
            ]
          },
          "metadata": {},
          "execution_count": 26
        }
      ],
      "source": [
        "forest = ExtraTreesClassifier()\n",
        "forest.fit(x_treinamento, y_treinamento)\n",
        "importancias = forest.feature_importances_ # Para mostrar quais atributos refletem mais na classificação\n",
        "importancias"
      ]
    },
    {
      "cell_type": "code",
      "execution_count": 27,
      "metadata": {
        "id": "CmG_sd81Ou_i"
      },
      "outputs": [],
      "source": [
        "x_treinamentonovo = x_treinamento[:,[0,1,2,3]]\n",
        "x_testenovo = x_teste[:,[0,1,2,3]]\n",
        "svm2 = SVC()\n",
        "svm2.fit(x_treinamentonovo, y_treinamento)\n",
        "previsoes4 = svm2.predict(x_testenovo)"
      ]
    },
    {
      "cell_type": "code",
      "execution_count": 28,
      "metadata": {
        "id": "NLWrB_npOu_i",
        "outputId": "4932b269-78fa-45d4-eb92-cbda2ba45031",
        "colab": {
          "base_uri": "https://localhost:8080/"
        }
      },
      "outputs": [
        {
          "output_type": "execute_result",
          "data": {
            "text/plain": [
              "0.61"
            ]
          },
          "metadata": {},
          "execution_count": 28
        }
      ],
      "source": [
        "taxaacerto4 = accuracy_score(y_teste, previsoes4)\n",
        "taxaacerto4"
      ]
    },
    {
      "cell_type": "markdown",
      "metadata": {
        "id": "hcWhdYsoOu_i"
      },
      "source": [
        "##### KNN:"
      ]
    },
    {
      "cell_type": "code",
      "execution_count": 29,
      "metadata": {
        "id": "I2mST56eOu_j"
      },
      "outputs": [],
      "source": [
        "from sklearn.neighbors import KNeighborsClassifier\n",
        "from sklearn import datasets\n",
        "from scipy import stats"
      ]
    },
    {
      "cell_type": "code",
      "execution_count": 30,
      "metadata": {
        "id": "OE-dCX28Ou_j"
      },
      "outputs": [],
      "source": [
        "iris = datasets.load_iris()"
      ]
    },
    {
      "cell_type": "code",
      "execution_count": 31,
      "metadata": {
        "id": "j4suW--kOu_j",
        "outputId": "e54cf3dd-3a2b-4187-e55a-18960156aa42",
        "colab": {
          "base_uri": "https://localhost:8080/"
        }
      },
      "outputs": [
        {
          "output_type": "execute_result",
          "data": {
            "text/plain": [
              "DescribeResult(nobs=150, minmax=(array([4.3, 2. , 1. , 0.1]), array([7.9, 4.4, 6.9, 2.5])), mean=array([5.84333333, 3.05733333, 3.758     , 1.19933333]), variance=array([0.68569351, 0.18997942, 3.11627785, 0.58100626]), skewness=array([ 0.31175306,  0.31576711, -0.27212767, -0.10193421]), kurtosis=array([-0.57356795,  0.18097632, -1.39553589, -1.33606741]))"
            ]
          },
          "metadata": {},
          "execution_count": 31
        }
      ],
      "source": [
        "stats.describe(iris.data)"
      ]
    },
    {
      "cell_type": "code",
      "execution_count": 32,
      "metadata": {
        "id": "4nLdD5-eOu_k"
      },
      "outputs": [],
      "source": [
        "previsores2 = iris.data\n",
        "classe2 = iris.target\n",
        "x_treinamento2, x_teste2, y_treinamento2, y_teste2 = train_test_split(previsores2, classe2, test_size = 0.3, random_state = 0)"
      ]
    },
    {
      "cell_type": "code",
      "execution_count": 33,
      "metadata": {
        "id": "VO3HRTjYOu_k"
      },
      "outputs": [],
      "source": [
        "knn = KNeighborsClassifier(n_neighbors = 3)\n",
        "knn.fit(x_treinamento2, y_treinamento2)\n",
        "previsoes5 = knn.predict(x_teste2)"
      ]
    },
    {
      "cell_type": "code",
      "execution_count": 34,
      "metadata": {
        "id": "bz-0nkR8Ou_k",
        "outputId": "9eaf2375-6c32-4614-d46e-03af090707ec",
        "colab": {
          "base_uri": "https://localhost:8080/"
        }
      },
      "outputs": [
        {
          "output_type": "execute_result",
          "data": {
            "text/plain": [
              "array([[16,  0,  0],\n",
              "       [ 0, 17,  1],\n",
              "       [ 0,  0, 11]])"
            ]
          },
          "metadata": {},
          "execution_count": 34
        }
      ],
      "source": [
        "confusao5 = confusion_matrix(y_teste2, previsoes5)\n",
        "confusao5"
      ]
    },
    {
      "cell_type": "code",
      "execution_count": 35,
      "metadata": {
        "id": "61ncwWfQOu_l",
        "outputId": "d047e623-6291-41e7-a42f-7601a6d34276",
        "colab": {
          "base_uri": "https://localhost:8080/"
        }
      },
      "outputs": [
        {
          "output_type": "execute_result",
          "data": {
            "text/plain": [
              "0.9777777777777777"
            ]
          },
          "metadata": {},
          "execution_count": 35
        }
      ],
      "source": [
        "taxaacerto5 = accuracy_score(y_teste2, previsoes5)\n",
        "taxaacerto5"
      ]
    },
    {
      "cell_type": "markdown",
      "metadata": {
        "id": "DhuGZxNYOu_l"
      },
      "source": [
        "##### Método Ensamble Learning"
      ]
    },
    {
      "cell_type": "code",
      "execution_count": 36,
      "metadata": {
        "id": "En0oMJ7VOu_l"
      },
      "outputs": [],
      "source": [
        "from sklearn.ensemble import RandomForestClassifier"
      ]
    },
    {
      "cell_type": "code",
      "execution_count": 37,
      "metadata": {
        "id": "AuZkoNPsOu_m"
      },
      "outputs": [],
      "source": [
        "floresta = RandomForestClassifier(n_estimators = 100)\n",
        "floresta.fit(x_treinamento, y_treinamento)\n",
        "previsoes6 = floresta.predict(x_teste)"
      ]
    },
    {
      "cell_type": "code",
      "execution_count": 38,
      "metadata": {
        "id": "4f7ZoHCPOu_m",
        "colab": {
          "base_uri": "https://localhost:8080/"
        },
        "outputId": "3d8e2eaa-4274-40ae-b021-0be5b94c2b54"
      },
      "outputs": [
        {
          "output_type": "execute_result",
          "data": {
            "text/plain": [
              "0.6666666666666666"
            ]
          },
          "metadata": {},
          "execution_count": 38
        }
      ],
      "source": [
        "taxaacerto6 = accuracy_score(y_teste, previsoes6)\n",
        "taxaacerto6"
      ]
    },
    {
      "cell_type": "markdown",
      "metadata": {
        "id": "VlPGA50EOu_m"
      },
      "source": [
        "### Agrupamentos"
      ]
    },
    {
      "cell_type": "code",
      "execution_count": 39,
      "metadata": {
        "id": "IHodkrRtOu_m"
      },
      "outputs": [],
      "source": [
        "from sklearn import datasets\n",
        "import numpy as np\n",
        "from sklearn.metrics import confusion_matrix"
      ]
    },
    {
      "cell_type": "markdown",
      "metadata": {
        "id": "_UPQmit_Ou_m"
      },
      "source": [
        "##### Método Kmeans:"
      ]
    },
    {
      "cell_type": "code",
      "execution_count": 40,
      "metadata": {
        "id": "5SfSZ_wGOu_m"
      },
      "outputs": [],
      "source": [
        "import matplotlib.pyplot as plt\n",
        "from sklearn.cluster import KMeans"
      ]
    },
    {
      "cell_type": "code",
      "execution_count": 41,
      "metadata": {
        "id": "Is_c13_dOu_n",
        "outputId": "e50975ae-0aaf-4400-b286-f9e1efeb90c0",
        "colab": {
          "base_uri": "https://localhost:8080/"
        }
      },
      "outputs": [
        {
          "output_type": "stream",
          "name": "stdout",
          "text": [
            "As classes  [0 1 2]  têm as seguintes quantidades  [50 50 50]\n"
          ]
        }
      ],
      "source": [
        "iris = datasets.load_iris()\n",
        "unicos, quantidade = np.unique(iris.target, return_counts = True)\n",
        "# em unicos colocamos os tipos de agrupamentos e em quantidade, a quantidade que existe em cada\n",
        "print(\"As classes \", unicos, \" têm as seguintes quantidades \", quantidade)"
      ]
    },
    {
      "cell_type": "code",
      "execution_count": 42,
      "metadata": {
        "id": "Q6ftFHlkOu_n",
        "outputId": "9c381202-bfe0-4a61-f3be-f22a464b93aa",
        "colab": {
          "base_uri": "https://localhost:8080/"
        }
      },
      "outputs": [
        {
          "output_type": "execute_result",
          "data": {
            "text/plain": [
              "KMeans(n_clusters=3)"
            ]
          },
          "metadata": {},
          "execution_count": 42
        }
      ],
      "source": [
        "cluster = KMeans(n_clusters = 3)\n",
        "cluster.fit(iris.data)"
      ]
    },
    {
      "cell_type": "code",
      "execution_count": 43,
      "metadata": {
        "id": "4LNfNLNhOu_n",
        "outputId": "903300d2-5de9-4f4f-e768-f131cf83abce",
        "colab": {
          "base_uri": "https://localhost:8080/"
        }
      },
      "outputs": [
        {
          "output_type": "execute_result",
          "data": {
            "text/plain": [
              "array([[5.006     , 3.428     , 1.462     , 0.246     ],\n",
              "       [6.85      , 3.07368421, 5.74210526, 2.07105263],\n",
              "       [5.9016129 , 2.7483871 , 4.39354839, 1.43387097]])"
            ]
          },
          "metadata": {},
          "execution_count": 43
        }
      ],
      "source": [
        "centroides = cluster.cluster_centers_\n",
        "centroides     # As médias que foram analisadas"
      ]
    },
    {
      "cell_type": "code",
      "execution_count": 44,
      "metadata": {
        "id": "9X5Jx8EkOu_n",
        "outputId": "ad2be0ab-5394-4807-a9f6-7a842d16884f",
        "colab": {
          "base_uri": "https://localhost:8080/"
        }
      },
      "outputs": [
        {
          "output_type": "execute_result",
          "data": {
            "text/plain": [
              "array([0, 0, 0, 0, 0, 0, 0, 0, 0, 0, 0, 0, 0, 0, 0, 0, 0, 0, 0, 0, 0, 0,\n",
              "       0, 0, 0, 0, 0, 0, 0, 0, 0, 0, 0, 0, 0, 0, 0, 0, 0, 0, 0, 0, 0, 0,\n",
              "       0, 0, 0, 0, 0, 0, 2, 2, 1, 2, 2, 2, 2, 2, 2, 2, 2, 2, 2, 2, 2, 2,\n",
              "       2, 2, 2, 2, 2, 2, 2, 2, 2, 2, 2, 1, 2, 2, 2, 2, 2, 2, 2, 2, 2, 2,\n",
              "       2, 2, 2, 2, 2, 2, 2, 2, 2, 2, 2, 2, 1, 2, 1, 1, 1, 1, 2, 1, 1, 1,\n",
              "       1, 1, 1, 2, 2, 1, 1, 1, 1, 2, 1, 2, 1, 2, 1, 1, 2, 2, 1, 1, 1, 1,\n",
              "       1, 2, 1, 1, 1, 1, 2, 1, 1, 1, 2, 1, 1, 1, 2, 1, 1, 2], dtype=int32)"
            ]
          },
          "metadata": {},
          "execution_count": 44
        }
      ],
      "source": [
        "previsoes = cluster.labels_\n",
        "previsoes    # Agrupamento realizado pelo algoritmo;"
      ]
    },
    {
      "cell_type": "code",
      "execution_count": 45,
      "metadata": {
        "id": "nS85TXR6Ou_n",
        "outputId": "ab7bfd00-b000-476c-8901-ce2e86786c4e",
        "colab": {
          "base_uri": "https://localhost:8080/"
        }
      },
      "outputs": [
        {
          "output_type": "stream",
          "name": "stdout",
          "text": [
            "As classes  [0 1 2]  têm as seguintes quantidades  [50 38 62]\n"
          ]
        }
      ],
      "source": [
        "unicos2, quantidade2 = np.unique(previsoes, return_counts = True)\n",
        "print(\"As classes \", unicos2, \" têm as seguintes quantidades \", quantidade2)"
      ]
    },
    {
      "cell_type": "code",
      "execution_count": 49,
      "metadata": {
        "id": "Ny6yCuV8Ou_o",
        "outputId": "c8730231-77f7-4307-c052-4c173be019c8",
        "colab": {
          "base_uri": "https://localhost:8080/"
        }
      },
      "outputs": [
        {
          "output_type": "execute_result",
          "data": {
            "text/plain": [
              "array([[50,  0,  0],\n",
              "       [ 0,  2, 48],\n",
              "       [ 0, 36, 14]])"
            ]
          },
          "metadata": {},
          "execution_count": 49
        }
      ],
      "source": [
        "resultados = confusion_matrix(iris.target, previsoes)\n",
        "resultados"
      ]
    },
    {
      "cell_type": "code",
      "execution_count": 50,
      "metadata": {
        "id": "Rgh2wy5tOu_o",
        "outputId": "d51c24ff-1f2c-4671-ac3a-fab45a071002",
        "colab": {
          "base_uri": "https://localhost:8080/",
          "height": 285
        }
      },
      "outputs": [
        {
          "output_type": "execute_result",
          "data": {
            "text/plain": [
              "<matplotlib.legend.Legend at 0x7fce53689290>"
            ]
          },
          "metadata": {},
          "execution_count": 50
        },
        {
          "output_type": "display_data",
          "data": {
            "text/plain": [
              "<Figure size 432x288 with 1 Axes>"
            ],
            "image/png": "[encoded data removed]"
          },
          "metadata": {
            "needs_background": "light"
          }
        }
      ],
      "source": [
        "# Gráfico com os agrupamentos (primeiro argumento é o eixo x e o segundo o eixo y)\n",
        "plt.scatter(iris.data[previsoes == 0,0], iris.data[previsoes == 0,1], c = \"green\", label = \"Setosa\")#Plota pontos da Setosa das características na coluna 0 e 1\n",
        "plt.scatter(iris.data[previsoes == 1,0], iris.data[previsoes == 1,1], c = \"red\", label = \"Versicolor\")\n",
        "plt.scatter(iris.data[previsoes == 2,0], iris.data[previsoes == 2,1], c = \"blue\", label = \"Virginica\")\n",
        "plt.legend()"
      ]
    },
    {
      "cell_type": "markdown",
      "metadata": {
        "id": "uDV3ozJlOu_p"
      },
      "source": [
        "##### Método Medoids"
      ]
    },
    {
      "cell_type": "code",
      "source": [
        "!pip install pyclustering"
      ],
      "metadata": {
        "colab": {
          "base_uri": "https://localhost:8080/"
        },
        "id": "trdJZNh6hU4X",
        "outputId": "0d6f3ff3-2a3a-446c-b3e5-2887e7b48ab7"
      },
      "execution_count": 54,
      "outputs": [
        {
          "output_type": "stream",
          "name": "stdout",
          "text": [
            "Collecting pyclustering\n",
            "  Downloading pyclustering-0.10.1.2.tar.gz (2.6 MB)\n",
            "\u001b[K     |████████████████████████████████| 2.6 MB 14.1 MB/s \n",
            "\u001b[?25hRequirement already satisfied: scipy>=1.1.0 in /usr/local/lib/python3.7/dist-packages (from pyclustering) (1.4.1)\n",
            "Requirement already satisfied: matplotlib>=3.0.0 in /usr/local/lib/python3.7/dist-packages (from pyclustering) (3.2.2)\n",
            "Requirement already satisfied: numpy>=1.15.2 in /usr/local/lib/python3.7/dist-packages (from pyclustering) (1.21.5)\n",
            "Requirement already satisfied: Pillow>=5.2.0 in /usr/local/lib/python3.7/dist-packages (from pyclustering) (7.1.2)\n",
            "Requirement already satisfied: pyparsing!=2.0.4,!=2.1.2,!=2.1.6,>=2.0.1 in /usr/local/lib/python3.7/dist-packages (from matplotlib>=3.0.0->pyclustering) (3.0.7)\n",
            "Requirement already satisfied: python-dateutil>=2.1 in /usr/local/lib/python3.7/dist-packages (from matplotlib>=3.0.0->pyclustering) (2.8.2)\n",
            "Requirement already satisfied: kiwisolver>=1.0.1 in /usr/local/lib/python3.7/dist-packages (from matplotlib>=3.0.0->pyclustering) (1.4.0)\n",
            "Requirement already satisfied: cycler>=0.10 in /usr/local/lib/python3.7/dist-packages (from matplotlib>=3.0.0->pyclustering) (0.11.0)\n",
            "Requirement already satisfied: typing-extensions in /usr/local/lib/python3.7/dist-packages (from kiwisolver>=1.0.1->matplotlib>=3.0.0->pyclustering) (3.10.0.2)\n",
            "Requirement already satisfied: six>=1.5 in /usr/local/lib/python3.7/dist-packages (from python-dateutil>=2.1->matplotlib>=3.0.0->pyclustering) (1.15.0)\n",
            "Building wheels for collected packages: pyclustering\n",
            "  Building wheel for pyclustering (setup.py) ... \u001b[?25l\u001b[?25hdone\n",
            "  Created wheel for pyclustering: filename=pyclustering-0.10.1.2-py3-none-any.whl size=2395122 sha256=16b3c1ba6dcd6433d5ab05ed6bbe465ff1585278516a6e923687a890fdd87217\n",
            "  Stored in directory: /root/.cache/pip/wheels/ea/87/6b/1e0568b5ba9dc6518a25338bae90bd8392f35206bb90bb10f1\n",
            "Successfully built pyclustering\n",
            "Installing collected packages: pyclustering\n",
            "Successfully installed pyclustering-0.10.1.2\n"
          ]
        }
      ]
    },
    {
      "cell_type": "code",
      "execution_count": 55,
      "metadata": {
        "id": "uSbw8vJuOu_p"
      },
      "outputs": [],
      "source": [
        "from pyclustering.cluster.kmedoids import kmedoids \n",
        "from pyclustering.cluster import cluster_visualizer"
      ]
    },
    {
      "cell_type": "code",
      "execution_count": 56,
      "metadata": {
        "id": "RYDWX0Z1Ou_p"
      },
      "outputs": [],
      "source": [
        "cluster3 = kmedoids(iris.data[:,0:2], [3,12,20])\n",
        "cluster3.get_medoids()\n",
        "cluster3.process()\n",
        "previsoes = cluster3.get_clusters()\n",
        "medoides = cluster3.get_medoids()"
      ]
    },
    {
      "cell_type": "code",
      "execution_count": 57,
      "metadata": {
        "id": "VYxSuZNoOu_p",
        "colab": {
          "base_uri": "https://localhost:8080/",
          "height": 487
        },
        "outputId": "1c6f2c97-6215-4ea4-93db-db7b5b9aad7e"
      },
      "outputs": [
        {
          "output_type": "display_data",
          "data": {
            "text/plain": [
              "<Figure size 432x288 with 1 Axes>"
            ],
            "image/png": "[encoded data removed]"
          },
          "metadata": {
            "needs_background": "light"
          }
        },
        {
          "output_type": "execute_result",
          "data": {
            "text/plain": [
              "<Figure size 432x288 with 1 Axes>"
            ],
            "image/png": "[encoded data removed]"
          },
          "metadata": {},
          "execution_count": 57
        }
      ],
      "source": [
        "v = cluster_visualizer()\n",
        "v.append_cluster(previsoes, iris.data[:,0:2])\n",
        "v.append_cluster(medoides, data = iris.data[:,0:2], marker = '*', markersize = 15)\n",
        "v.show()"
      ]
    }
  ],
  "metadata": {
    "kernelspec": {
      "display_name": "Python 3",
      "language": "python",
      "name": "python3"
    },
    "language_info": {
      "codemirror_mode": {
        "name": "ipython",
        "version": 3
      },
      "file_extension": ".py",
      "mimetype": "text/x-python",
      "name": "python",
      "nbconvert_exporter": "python",
      "pygments_lexer": "ipython3",
      "version": "3.6.7"
    },
    "colab": {
      "name": "script_sklearn.ipynb",
      "provenance": []
    }
  },
  "nbformat": 4,
  "nbformat_minor": 0
}